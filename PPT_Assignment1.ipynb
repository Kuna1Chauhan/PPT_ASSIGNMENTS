{
  "nbformat": 4,
  "nbformat_minor": 0,
  "metadata": {
    "colab": {
      "provenance": []
    },
    "kernelspec": {
      "name": "python3",
      "display_name": "Python 3"
    },
    "language_info": {
      "name": "python"
    }
  },
  "cells": [
    {
      "cell_type": "markdown",
      "source": [
        "Answer no.1 :-"
      ],
      "metadata": {
        "id": "WXP9L1qUb690"
      }
    },
    {
      "cell_type": "code",
      "source": [
        "nums = [2, 7, 11, 15]\n",
        "target = 9\n",
        "def twoSum(nums, target):\n",
        "    num_dict = {}\n",
        "    for i, num in enumerate(nums):\n",
        "        complement = target - num\n",
        "        if complement in num_dict:\n",
        "            return [num_dict[complement], i]\n",
        "        num_dict[num] = i\n",
        "    return []  # If no solution is found\n",
        "\n",
        "result = twoSum(nums, target)\n",
        "print(result)\n"
      ],
      "metadata": {
        "colab": {
          "base_uri": "https://localhost:8080/"
        },
        "id": "synRofltcBpj",
        "outputId": "41107e1b-636b-488c-8c10-d611604f8fe9"
      },
      "execution_count": 1,
      "outputs": [
        {
          "output_type": "stream",
          "name": "stdout",
          "text": [
            "[0, 1]\n"
          ]
        }
      ]
    },
    {
      "cell_type": "markdown",
      "source": [
        "Answer no.2 :-"
      ],
      "metadata": {
        "id": "yjYzKYM3ccHM"
      }
    },
    {
      "cell_type": "code",
      "source": [
        "nums = [3, 2, 2, 3]\n",
        "val = 3\n",
        "def removeElement(nums, val):\n",
        "    left = 0\n",
        "    right = len(nums) - 1\n",
        "\n",
        "    while left <= right:\n",
        "        if nums[left] == val:\n",
        "            nums[left], nums[right] = nums[right], nums[left]\n",
        "            right -= 1\n",
        "        else:\n",
        "            left += 1\n",
        "\n",
        "    return left\n",
        "\n",
        "k = removeElement(nums, val)\n",
        "print(\"k =\", k)\n",
        "print(\"nums =\", nums[:k], end='')\n",
        "print(\"_* \" * (len(nums) - k))\n"
      ],
      "metadata": {
        "colab": {
          "base_uri": "https://localhost:8080/"
        },
        "id": "J326oMwncfuI",
        "outputId": "55762deb-dd9f-4660-9e68-5ebcaf84d68a"
      },
      "execution_count": 2,
      "outputs": [
        {
          "output_type": "stream",
          "name": "stdout",
          "text": [
            "k = 2\n",
            "nums = [2, 2]_* _* \n"
          ]
        }
      ]
    },
    {
      "cell_type": "markdown",
      "source": [
        "Answer no.3 :-"
      ],
      "metadata": {
        "id": "NeJuXwoYc-VM"
      }
    },
    {
      "cell_type": "code",
      "source": [
        "nums = [1, 3, 5, 6]\n",
        "target = 5\n",
        "def searchInsert(nums, target):\n",
        "    left = 0\n",
        "    right = len(nums) - 1\n",
        "\n",
        "    while left <= right:\n",
        "        mid = left + (right - left) // 2\n",
        "\n",
        "        if nums[mid] == target:\n",
        "            return mid\n",
        "        elif nums[mid] < target:\n",
        "            left = mid + 1\n",
        "        else:\n",
        "            right = mid - 1\n",
        "\n",
        "    return left\n",
        "\n",
        "index = searchInsert(nums, target)\n",
        "print(\"Output:\", index)\n"
      ],
      "metadata": {
        "colab": {
          "base_uri": "https://localhost:8080/"
        },
        "id": "Y2RhYcFBdCEU",
        "outputId": "d9d56c5a-0ade-4ed2-b44e-7091c63ef174"
      },
      "execution_count": 3,
      "outputs": [
        {
          "output_type": "stream",
          "name": "stdout",
          "text": [
            "Output: 2\n"
          ]
        }
      ]
    },
    {
      "cell_type": "markdown",
      "source": [
        "Answer no.4 :- "
      ],
      "metadata": {
        "id": "2nTSnU9vddTO"
      }
    },
    {
      "cell_type": "code",
      "source": [
        "digits = [1, 2, 3]\n",
        "def plusOne(digits):\n",
        "    n = len(digits)\n",
        "    for i in range(n - 1, -1, -1):\n",
        "        if digits[i] != 9:\n",
        "            digits[i] += 1\n",
        "            return digits\n",
        "        else:\n",
        "            digits[i] = 0\n",
        "\n",
        "    return [1] + digits\n",
        "\n",
        "result = plusOne(digits)\n",
        "print(\"Output:\", result)\n"
      ],
      "metadata": {
        "colab": {
          "base_uri": "https://localhost:8080/"
        },
        "id": "jG--tUEqdikb",
        "outputId": "aac9594b-8ae7-4345-b04f-3757acf43690"
      },
      "execution_count": 4,
      "outputs": [
        {
          "output_type": "stream",
          "name": "stdout",
          "text": [
            "Output: [1, 2, 4]\n"
          ]
        }
      ]
    },
    {
      "cell_type": "markdown",
      "source": [
        "Answer no.5 :- "
      ],
      "metadata": {
        "id": "wqpaAJuVeMyq"
      }
    },
    {
      "cell_type": "code",
      "source": [
        "nums1 = [1, 2, 3, 0, 0, 0]\n",
        "m = 3\n",
        "nums2 = [2, 5, 6]\n",
        "n = 3\n",
        "def merge(nums1, m, nums2, n):\n",
        "    i = m - 1  # Pointer for nums1\n",
        "    j = n - 1  # Pointer for nums2\n",
        "    k = m + n - 1  # Pointer for the merged array\n",
        "\n",
        "    while i >= 0 and j >= 0:\n",
        "        if nums1[i] > nums2[j]:\n",
        "            nums1[k] = nums1[i]\n",
        "            i -= 1\n",
        "        else:\n",
        "            nums1[k] = nums2[j]\n",
        "            j -= 1\n",
        "        k -= 1\n",
        "\n",
        "    # Copy any remaining elements from nums2\n",
        "    while j >= 0:\n",
        "        nums1[k] = nums2[j]\n",
        "        j -= 1\n",
        "        k -= 1\n",
        "\n",
        "merge(nums1, m, nums2, n)\n",
        "print(\"Output:\", nums1)\n"
      ],
      "metadata": {
        "colab": {
          "base_uri": "https://localhost:8080/"
        },
        "id": "03x0C9q7eQAC",
        "outputId": "0872adc6-7b00-4d93-92d5-6b0d982cef35"
      },
      "execution_count": 5,
      "outputs": [
        {
          "output_type": "stream",
          "name": "stdout",
          "text": [
            "Output: [1, 2, 2, 3, 5, 6]\n"
          ]
        }
      ]
    },
    {
      "cell_type": "markdown",
      "source": [
        "Answer no.6 :- "
      ],
      "metadata": {
        "id": "EzYuTDzYe0WT"
      }
    },
    {
      "cell_type": "code",
      "source": [
        "nums = [1, 2, 3, 1]\n",
        "def containsDuplicate(nums):\n",
        "    seen = set()\n",
        "    for num in nums:\n",
        "        if num in seen:\n",
        "            return True\n",
        "        seen.add(num)\n",
        "    return False\n",
        "\n",
        "result = containsDuplicate(nums)\n",
        "print(\"Output:\", result)\n"
      ],
      "metadata": {
        "colab": {
          "base_uri": "https://localhost:8080/"
        },
        "id": "CtIK8C_ce3G7",
        "outputId": "9ff4cc15-d10d-403d-a8fa-2aaf42bf79b3"
      },
      "execution_count": 6,
      "outputs": [
        {
          "output_type": "stream",
          "name": "stdout",
          "text": [
            "Output: True\n"
          ]
        }
      ]
    },
    {
      "cell_type": "markdown",
      "source": [
        "Answer no.7 :-"
      ],
      "metadata": {
        "id": "mxGiRSFAfDoA"
      }
    },
    {
      "cell_type": "code",
      "source": [
        "nums = [0, 1, 0, 3, 12]\n",
        "def moveZeroes(nums):\n",
        "    n = len(nums)\n",
        "    i = 0  # Pointer for nonzero elements\n",
        "\n",
        "    # Move nonzero elements to the front\n",
        "    for j in range(n):\n",
        "        if nums[j] != 0:\n",
        "            nums[i] = nums[j]\n",
        "            i += 1\n",
        "\n",
        "    # Fill the remaining elements with zeros\n",
        "    while i < n:\n",
        "        nums[i] = 0\n",
        "        i += 1\n",
        "\n",
        "moveZeroes(nums)\n",
        "print(\"Output:\", nums)\n"
      ],
      "metadata": {
        "colab": {
          "base_uri": "https://localhost:8080/"
        },
        "id": "mdHwh6zVfH-H",
        "outputId": "c8a2ab64-04d7-449a-d7fe-cb6328a9fada"
      },
      "execution_count": 7,
      "outputs": [
        {
          "output_type": "stream",
          "name": "stdout",
          "text": [
            "Output: [1, 3, 12, 0, 0]\n"
          ]
        }
      ]
    },
    {
      "cell_type": "markdown",
      "source": [
        "Answer no.8 :-"
      ],
      "metadata": {
        "id": "GTMsqnS_fSWP"
      }
    },
    {
      "cell_type": "code",
      "source": [
        "nums = [1, 2, 2, 4]\n",
        "def findErrorNums(nums):\n",
        "    n = len(nums)\n",
        "    seen = set()\n",
        "    duplicate = 0\n",
        "    missing = 0\n",
        "\n",
        "    for num in nums:\n",
        "        if num in seen:\n",
        "            duplicate = num\n",
        "        seen.add(num)\n",
        "\n",
        "    for i in range(1, n + 1):\n",
        "        if i not in seen:\n",
        "            missing = i\n",
        "\n",
        "    return [duplicate, missing]\n",
        "\n",
        "result = findErrorNums(nums)\n",
        "print(\"Output:\", result)\n"
      ],
      "metadata": {
        "colab": {
          "base_uri": "https://localhost:8080/"
        },
        "id": "vVgM48wGfVC7",
        "outputId": "5c2dae76-43c6-4fa9-aa0f-7581bf7f727b"
      },
      "execution_count": 8,
      "outputs": [
        {
          "output_type": "stream",
          "name": "stdout",
          "text": [
            "Output: [2, 3]\n"
          ]
        }
      ]
    }
  ]
}