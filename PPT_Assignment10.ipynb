{
  "nbformat": 4,
  "nbformat_minor": 0,
  "metadata": {
    "colab": {
      "provenance": []
    },
    "kernelspec": {
      "name": "python3",
      "display_name": "Python 3"
    },
    "language_info": {
      "name": "python"
    }
  },
  "cells": [
    {
      "cell_type": "markdown",
      "source": [
        "Answer No.1 :-"
      ],
      "metadata": {
        "id": "HlwoM348euft"
      }
    },
    {
      "cell_type": "code",
      "execution_count": 8,
      "metadata": {
        "colab": {
          "base_uri": "https://localhost:8080/"
        },
        "id": "hVgaTDB4er-Q",
        "outputId": "b45c823e-a7ff-41cd-e2d3-6f3f2a7e7360"
      },
      "outputs": [
        {
          "output_type": "stream",
          "name": "stdout",
          "text": [
            "True\n"
          ]
        }
      ],
      "source": [
        "import math\n",
        "n = 27\n",
        "def isPowerOfThree(n):\n",
        "    if n <= 0:\n",
        "        return False\n",
        "\n",
        "    log_value = math.log(n, 3)\n",
        "    return log_value == int(log_value)\n",
        "\n",
        "result = isPowerOfThree(n)\n",
        "print(result)  # Output: True or False\n"
      ]
    },
    {
      "cell_type": "markdown",
      "source": [
        "Answer No.2 :-"
      ],
      "metadata": {
        "id": "l7P9XSLQeu_E"
      }
    },
    {
      "cell_type": "code",
      "source": [
        "n = 9\n",
        "def lastRemaining(n):\n",
        "    arr = list(range(1, n + 1))\n",
        "    return lastRemainingRecursive(arr, True, n)\n",
        "\n",
        "def lastRemainingRecursive(arr, leftToRight, size):\n",
        "    if size == 1:\n",
        "        return arr[0]\n",
        "\n",
        "    if leftToRight:\n",
        "        return lastRemainingRecursive(arr[1:size:2], False, size // 2)\n",
        "    else:\n",
        "        if size % 2 == 0:\n",
        "            return lastRemainingRecursive(arr[0:size:2], True, size // 2)\n",
        "        else:\n",
        "            return lastRemainingRecursive(arr[0:size:2], False, size // 2)\n",
        "\n",
        "\n",
        "result = lastRemaining(n)\n",
        "print(result)  # Output: Last number remaining in arr\n"
      ],
      "metadata": {
        "colab": {
          "base_uri": "https://localhost:8080/"
        },
        "id": "L11Q-cpuet_W",
        "outputId": "60bbe280-63b1-4245-c2d5-5a8759578e11"
      },
      "execution_count": 7,
      "outputs": [
        {
          "output_type": "stream",
          "name": "stdout",
          "text": [
            "6\n"
          ]
        }
      ]
    },
    {
      "cell_type": "markdown",
      "source": [
        "Answer No.3 :-"
      ],
      "metadata": {
        "id": "cZe2tPPqevkF"
      }
    },
    {
      "cell_type": "code",
      "source": [
        "set_string = \"abc\"\n",
        "def printSubsets(set_string, subset=\"\", index=0):\n",
        "    if index == len(set_string):\n",
        "        print(subset)\n",
        "        return\n",
        "\n",
        "    # Include the character at the current index\n",
        "    printSubsets(set_string, subset + set_string[index], index + 1)\n",
        "\n",
        "    # Exclude the character at the current index\n",
        "    printSubsets(set_string, subset, index + 1)\n",
        "\n",
        "\n",
        "printSubsets(set_string)\n"
      ],
      "metadata": {
        "colab": {
          "base_uri": "https://localhost:8080/"
        },
        "id": "Xr1DCBlUetxS",
        "outputId": "fcaf2003-b486-4cda-e65e-ac1d9d498d5b"
      },
      "execution_count": 6,
      "outputs": [
        {
          "output_type": "stream",
          "name": "stdout",
          "text": [
            "abc\n",
            "ab\n",
            "ac\n",
            "a\n",
            "bc\n",
            "b\n",
            "c\n",
            "\n"
          ]
        }
      ]
    },
    {
      "cell_type": "markdown",
      "source": [
        "Answer No.4 :-"
      ],
      "metadata": {
        "id": "Tgp8IpRFewCg"
      }
    },
    {
      "cell_type": "code",
      "source": [
        "s = \"Hello, World!\"\n",
        "def stringLength(s, count=0):\n",
        "    if s == \"\":\n",
        "        return count\n",
        "    else:\n",
        "        return stringLength(s[1:], count + 1)\n",
        "\n",
        "length = stringLength(s)\n",
        "print(length)  # Output: Length of the string\n"
      ],
      "metadata": {
        "colab": {
          "base_uri": "https://localhost:8080/"
        },
        "id": "6UiWW8xMetjz",
        "outputId": "62dd588f-cc02-4e00-86b4-f06e24684484"
      },
      "execution_count": 5,
      "outputs": [
        {
          "output_type": "stream",
          "name": "stdout",
          "text": [
            "13\n"
          ]
        }
      ]
    },
    {
      "cell_type": "markdown",
      "source": [
        "Answer No.5 :-"
      ],
      "metadata": {
        "id": "UYB8LG5WewhT"
      }
    },
    {
      "cell_type": "code",
      "source": [
        "S = \"abccba\"\n",
        "def countSubstrings(S):\n",
        "    count = 0\n",
        "    for i in range(len(S)):\n",
        "        count += 1\n",
        "        if i > 0 and S[i] == S[i-1]:\n",
        "            count += i\n",
        "    return count\n",
        "\n",
        "result = countSubstrings(S)\n",
        "print(result)  # Output: Count of contiguous substrings starting and ending with the same character\n"
      ],
      "metadata": {
        "colab": {
          "base_uri": "https://localhost:8080/"
        },
        "id": "t1Rfyn51etYv",
        "outputId": "f2904e45-7848-42df-d6ab-73e38b0bce92"
      },
      "execution_count": 4,
      "outputs": [
        {
          "output_type": "stream",
          "name": "stdout",
          "text": [
            "9\n"
          ]
        }
      ]
    },
    {
      "cell_type": "markdown",
      "source": [
        "Answer No.6 :-"
      ],
      "metadata": {
        "id": "EOOhk264exU3"
      }
    },
    {
      "cell_type": "code",
      "source": [
        "n = 3  # Number of disks\n",
        "source = 1  # Rod number where the disks are initially stacked\n",
        "destination = 3  # Rod number where the disks need to be moved\n",
        "auxiliary = 2  # Auxiliary rod number\n",
        "def towerOfHanoi(n, source, destination, auxiliary):\n",
        "    if n == 1:\n",
        "        print(f\"Move disk 1 from rod {source} to rod {destination}\")\n",
        "        return\n",
        "\n",
        "    towerOfHanoi(n-1, source, auxiliary, destination)\n",
        "    print(f\"Move disk {n} from rod {source} to rod {destination}\")\n",
        "    towerOfHanoi(n-1, auxiliary, destination, source)\n",
        "\n",
        "\n",
        "towerOfHanoi(n, source, destination, auxiliary)\n"
      ],
      "metadata": {
        "colab": {
          "base_uri": "https://localhost:8080/"
        },
        "id": "XvUI1BPaetNV",
        "outputId": "273e5d0a-41f2-4a97-b776-dea28a296710"
      },
      "execution_count": 3,
      "outputs": [
        {
          "output_type": "stream",
          "name": "stdout",
          "text": [
            "Move disk 1 from rod 1 to rod 3\n",
            "Move disk 2 from rod 1 to rod 2\n",
            "Move disk 1 from rod 3 to rod 2\n",
            "Move disk 3 from rod 1 to rod 3\n",
            "Move disk 1 from rod 2 to rod 1\n",
            "Move disk 2 from rod 2 to rod 3\n",
            "Move disk 1 from rod 1 to rod 3\n"
          ]
        }
      ]
    },
    {
      "cell_type": "markdown",
      "source": [
        "Answer No.7 :-"
      ],
      "metadata": {
        "id": "YSQSpXFoexst"
      }
    },
    {
      "cell_type": "code",
      "source": [
        "def printPermutations(str, start, end):\n",
        "    if start == end:\n",
        "        print(str)\n",
        "        return\n",
        "\n",
        "    for i in range(start, end + 1):\n",
        "        # Swap characters\n",
        "        str[start], str[i] = str[i], str[start]\n",
        "\n",
        "        # Recursively generate permutations for the remaining substring\n",
        "        printPermutations(str, start + 1, end)\n",
        "\n",
        "        # Restore the original order by swapping the characters back\n",
        "        str[start], str[i] = str[i], str[start]\n",
        "\n",
        "# Driver code\n",
        "input_str = \"abc\"\n",
        "n = len(input_str)\n",
        "str_list = list(input_str)\n",
        "\n",
        "printPermutations(str_list, 0, n-1)\n"
      ],
      "metadata": {
        "colab": {
          "base_uri": "https://localhost:8080/"
        },
        "id": "Kd3Q-VfhetAN",
        "outputId": "023e2e35-5ba2-4e8b-dfc6-4e6babeca4c2"
      },
      "execution_count": 2,
      "outputs": [
        {
          "output_type": "stream",
          "name": "stdout",
          "text": [
            "['a', 'b', 'c']\n",
            "['a', 'c', 'b']\n",
            "['b', 'a', 'c']\n",
            "['b', 'c', 'a']\n",
            "['c', 'b', 'a']\n",
            "['c', 'a', 'b']\n"
          ]
        }
      ]
    },
    {
      "cell_type": "markdown",
      "source": [
        "Answer No.8 :-"
      ],
      "metadata": {
        "id": "7Ffo6iw2eyLl"
      }
    },
    {
      "cell_type": "code",
      "source": [
        "string = \"Hello World\"\n",
        "def countConsonants(string):\n",
        "    vowels = ['a', 'e', 'i', 'o', 'u']\n",
        "    count = 0\n",
        "\n",
        "    for ch in string:\n",
        "        if ch.isalpha() and ch.lower() not in vowels:\n",
        "            count += 1\n",
        "\n",
        "    return count\n",
        "\n",
        "consonant_count = countConsonants(string)\n",
        "print(consonant_count)  # Output: 7\n"
      ],
      "metadata": {
        "colab": {
          "base_uri": "https://localhost:8080/"
        },
        "id": "63D7WmpPes0N",
        "outputId": "250220e7-9bb9-4260-c840-ac31e26cc791"
      },
      "execution_count": 1,
      "outputs": [
        {
          "output_type": "stream",
          "name": "stdout",
          "text": [
            "7\n"
          ]
        }
      ]
    }
  ]
}