{
  "nbformat": 4,
  "nbformat_minor": 0,
  "metadata": {
    "colab": {
      "provenance": []
    },
    "kernelspec": {
      "name": "python3",
      "display_name": "Python 3"
    },
    "language_info": {
      "name": "python"
    }
  },
  "cells": [
    {
      "cell_type": "markdown",
      "source": [
        "Answer No.1 :-"
      ],
      "metadata": {
        "id": "9idDGNoXhsXC"
      }
    },
    {
      "cell_type": "code",
      "execution_count": 8,
      "metadata": {
        "colab": {
          "base_uri": "https://localhost:8080/"
        },
        "id": "YzYvA1vxhjp1",
        "outputId": "fb3dd836-2cec-4608-df71-dc5ab6846675"
      },
      "outputs": [
        {
          "output_type": "stream",
          "name": "stdout",
          "text": [
            "4\n"
          ]
        }
      ],
      "source": [
        "num = 16\n",
        "def mySqrt(x):\n",
        "    if x == 0 or x == 1:\n",
        "        return x\n",
        "\n",
        "    left = 0\n",
        "    right = x\n",
        "\n",
        "    while left <= right:\n",
        "        mid = (left + right) // 2\n",
        "        mid_squared = mid * mid\n",
        "\n",
        "        if mid_squared == x:\n",
        "            return mid\n",
        "        elif mid_squared < x:\n",
        "            left = mid + 1\n",
        "        else:\n",
        "            right = mid - 1\n",
        "\n",
        "    return right\n",
        "\n",
        "sqrt_num = mySqrt(num)\n",
        "print(sqrt_num)  # Output: 4\n"
      ]
    },
    {
      "cell_type": "markdown",
      "source": [
        "Answer No.2 :-"
      ],
      "metadata": {
        "id": "Kd6R1HsvhszZ"
      }
    },
    {
      "cell_type": "code",
      "source": [
        "arr = [1, 2, 3, 1]\n",
        "def findPeakElement(nums):\n",
        "    left = 0\n",
        "    right = len(nums) - 1\n",
        "\n",
        "    while left < right:\n",
        "        mid = (left + right) // 2\n",
        "\n",
        "        if nums[mid] > nums[mid + 1]:\n",
        "            right = mid\n",
        "        else:\n",
        "            left = mid + 1\n",
        "\n",
        "    return left\n",
        "\n",
        "peak_index = findPeakElement(arr)\n",
        "print(peak_index)  # Output: 2\n"
      ],
      "metadata": {
        "colab": {
          "base_uri": "https://localhost:8080/"
        },
        "id": "ircPlG9Bhrtj",
        "outputId": "43917516-c10e-46e7-9622-291813ddbfdb"
      },
      "execution_count": 7,
      "outputs": [
        {
          "output_type": "stream",
          "name": "stdout",
          "text": [
            "2\n"
          ]
        }
      ]
    },
    {
      "cell_type": "markdown",
      "source": [
        "Answer No.3 :-"
      ],
      "metadata": {
        "id": "IBhcIomnhtQq"
      }
    },
    {
      "cell_type": "code",
      "source": [
        "arr = [3, 0, 1]\n",
        "def missingNumber(nums):\n",
        "    n = len(nums)\n",
        "    missing = n\n",
        "\n",
        "    for i, num in enumerate(nums):\n",
        "        missing ^= i ^ num\n",
        "\n",
        "    return missing\n",
        "\n",
        "missing_num = missingNumber(arr)\n",
        "print(missing_num)  # Output: 2\n"
      ],
      "metadata": {
        "colab": {
          "base_uri": "https://localhost:8080/"
        },
        "id": "_iMYURKMhrqr",
        "outputId": "9d385978-f774-4e2b-8060-cd1bb423e9c8"
      },
      "execution_count": 6,
      "outputs": [
        {
          "output_type": "stream",
          "name": "stdout",
          "text": [
            "2\n"
          ]
        }
      ]
    },
    {
      "cell_type": "markdown",
      "source": [
        "Answer No.4 :-"
      ],
      "metadata": {
        "id": "au_yLjR6htm3"
      }
    },
    {
      "cell_type": "code",
      "source": [
        "arr = [1, 3, 4, 2, 2]\n",
        "def findDuplicate(nums):\n",
        "    slow = nums[0]\n",
        "    fast = nums[0]\n",
        "\n",
        "    # Find the meeting point\n",
        "    while True:\n",
        "        slow = nums[slow]\n",
        "        fast = nums[nums[fast]]\n",
        "        if slow == fast:\n",
        "            break\n",
        "\n",
        "    # Find the start of the cycle\n",
        "    slow = nums[0]\n",
        "    while slow != fast:\n",
        "        slow = nums[slow]\n",
        "        fast = nums[fast]\n",
        "\n",
        "    return slow\n",
        "\n",
        "repeated_num = findDuplicate(arr)\n",
        "print(repeated_num)  # Output: 2\n"
      ],
      "metadata": {
        "colab": {
          "base_uri": "https://localhost:8080/"
        },
        "id": "b6IqRLG5hrLW",
        "outputId": "cb0539c8-b357-4b07-fa3e-e763569567a6"
      },
      "execution_count": 5,
      "outputs": [
        {
          "output_type": "stream",
          "name": "stdout",
          "text": [
            "2\n"
          ]
        }
      ]
    },
    {
      "cell_type": "markdown",
      "source": [
        "Answer No.5 :-"
      ],
      "metadata": {
        "id": "DczSNTLWhuJX"
      }
    },
    {
      "cell_type": "code",
      "source": [
        "arr1 = [1, 2, 2, 1]\n",
        "arr2 = [2, 2]\n",
        "def intersection(nums1, nums2):\n",
        "    intersection = set(nums1)\n",
        "    result = []\n",
        "\n",
        "    for num in nums2:\n",
        "        if num in intersection:\n",
        "            result.append(num)\n",
        "            intersection.remove(num)\n",
        "\n",
        "    return result\n",
        "\n",
        "intersect = intersection(arr1, arr2)\n",
        "print(intersect)  # Output: [2]\n"
      ],
      "metadata": {
        "colab": {
          "base_uri": "https://localhost:8080/"
        },
        "id": "wQifIihFhrHl",
        "outputId": "d6ca9d7a-8ee0-4b19-a011-6c6f8417caf0"
      },
      "execution_count": 4,
      "outputs": [
        {
          "output_type": "stream",
          "name": "stdout",
          "text": [
            "[2]\n"
          ]
        }
      ]
    },
    {
      "cell_type": "markdown",
      "source": [
        "Answer No.6 :-"
      ],
      "metadata": {
        "id": "npb1SVbThu6m"
      }
    },
    {
      "cell_type": "code",
      "source": [
        "arr = [4, 5, 6, 7, 0, 1, 2]\n",
        "def findMin(nums):\n",
        "    left = 0\n",
        "    right = len(nums) - 1\n",
        "\n",
        "    while left < right:\n",
        "        mid = left + (right - left) // 2\n",
        "\n",
        "        if nums[mid] < nums[right]:\n",
        "            right = mid\n",
        "        elif nums[mid] > nums[right]:\n",
        "            left = mid + 1\n",
        "        else:\n",
        "            right -= 1\n",
        "\n",
        "    return nums[left]\n",
        "\n",
        "min_element = findMin(arr)\n",
        "print(min_element)  # Output: 0\n"
      ],
      "metadata": {
        "colab": {
          "base_uri": "https://localhost:8080/"
        },
        "id": "63S7YSWLhrFm",
        "outputId": "6700ffe2-81b8-4a1e-cfca-bc1f192450d4"
      },
      "execution_count": 3,
      "outputs": [
        {
          "output_type": "stream",
          "name": "stdout",
          "text": [
            "0\n"
          ]
        }
      ]
    },
    {
      "cell_type": "markdown",
      "source": [
        "Answer No.7 :-"
      ],
      "metadata": {
        "id": "Lf8DIrJyhvOZ"
      }
    },
    {
      "cell_type": "code",
      "source": [
        "arr = [5, 7, 7, 8, 8, 10]\n",
        "target = 8\n",
        "def searchRange(nums, target):\n",
        "    start = -1\n",
        "    end = -1\n",
        "\n",
        "    left = 0\n",
        "    right = len(nums) - 1\n",
        "\n",
        "    while left <= right:\n",
        "        mid = left + (right - left) // 2\n",
        "\n",
        "        if nums[mid] >= target:\n",
        "            right = mid - 1\n",
        "        else:\n",
        "            left = mid + 1\n",
        "\n",
        "    if left < len(nums) and nums[left] == target:\n",
        "        start = left\n",
        "\n",
        "    left = 0\n",
        "    right = len(nums) - 1\n",
        "\n",
        "    while left <= right:\n",
        "        mid = left + (right - left) // 2\n",
        "\n",
        "        if nums[mid] <= target:\n",
        "            left = mid + 1\n",
        "        else:\n",
        "            right = mid - 1\n",
        "\n",
        "    if right >= 0 and nums[right] == target:\n",
        "        end = right\n",
        "\n",
        "    return [start, end]\n",
        "\n",
        "positions = searchRange(arr, target)\n",
        "print(positions)  # Output: [3, 4]\n"
      ],
      "metadata": {
        "colab": {
          "base_uri": "https://localhost:8080/"
        },
        "id": "IJoEUTGkhrCl",
        "outputId": "7338d61e-a9c0-4bba-f324-a976a30c3ada"
      },
      "execution_count": 2,
      "outputs": [
        {
          "output_type": "stream",
          "name": "stdout",
          "text": [
            "[3, 4]\n"
          ]
        }
      ]
    },
    {
      "cell_type": "markdown",
      "source": [
        "Answer No.8 :-"
      ],
      "metadata": {
        "id": "O2oyqUV1hv8l"
      }
    },
    {
      "cell_type": "code",
      "source": [
        "nums1 = [1, 2, 2, 1]\n",
        "nums2 = [2, 2]\n",
        "def intersect(nums1, nums2):\n",
        "    frequency = {}\n",
        "    for num in nums1:\n",
        "        if num not in frequency:\n",
        "            frequency[num] = 1\n",
        "        else:\n",
        "            frequency[num] += 1\n",
        "\n",
        "    intersection = []\n",
        "    for num in nums2:\n",
        "        if num in frequency and frequency[num] > 0:\n",
        "            intersection.append(num)\n",
        "            frequency[num] -= 1\n",
        "\n",
        "    return intersection\n",
        "\n",
        "result = intersect(nums1, nums2)\n",
        "print(result)  # Output: [2, 2]\n"
      ],
      "metadata": {
        "colab": {
          "base_uri": "https://localhost:8080/"
        },
        "id": "UMFTUrV_hrAL",
        "outputId": "c98b7660-22e1-426e-c2ef-3536390373a7"
      },
      "execution_count": 1,
      "outputs": [
        {
          "output_type": "stream",
          "name": "stdout",
          "text": [
            "[2, 2]\n"
          ]
        }
      ]
    }
  ]
}