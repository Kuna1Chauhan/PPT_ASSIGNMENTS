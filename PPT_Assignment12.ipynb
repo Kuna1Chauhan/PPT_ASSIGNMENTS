{
  "nbformat": 4,
  "nbformat_minor": 0,
  "metadata": {
    "colab": {
      "provenance": []
    },
    "kernelspec": {
      "name": "python3",
      "display_name": "Python 3"
    },
    "language_info": {
      "name": "python"
    }
  },
  "cells": [
    {
      "cell_type": "markdown",
      "source": [
        "Answer No.1 :-"
      ],
      "metadata": {
        "id": "7NRKKxVrrJcg"
      }
    },
    {
      "cell_type": "code",
      "source": [
        "class ListNode:\n",
        "    def __init__(self, val=0, next=None):\n",
        "        self.val = val\n",
        "        self.next = next\n",
        "\n",
        "def deleteMiddleNode(head):\n",
        "    if not head or not head.next:\n",
        "        return None\n",
        "\n",
        "    slow = head\n",
        "    fast = head\n",
        "    prev = None\n",
        "\n",
        "    while fast and fast.next:\n",
        "        fast = fast.next.next\n",
        "        prev = slow\n",
        "        slow = slow.next\n",
        "\n",
        "    prev.next = slow.next\n",
        "\n",
        "    return head\n",
        "\n",
        "head = ListNode(1)\n",
        "head.next = ListNode(2)\n",
        "head.next.next = ListNode(3)\n",
        "head.next.next.next = ListNode(4)\n",
        "head.next.next.next.next = ListNode(5)\n",
        "\n",
        "result = deleteMiddleNode(head)\n",
        "while result:\n",
        "    print(result.val, end=\" \")\n",
        "    result = result.next"
      ],
      "metadata": {
        "colab": {
          "base_uri": "https://localhost:8080/"
        },
        "id": "OrG0QD2DrIvZ",
        "outputId": "68f63edc-9283-49aa-dd1e-559ff8a16acb"
      },
      "execution_count": 1,
      "outputs": [
        {
          "output_type": "stream",
          "name": "stdout",
          "text": [
            "1 2 4 5 "
          ]
        }
      ]
    },
    {
      "cell_type": "markdown",
      "source": [
        "Answer No.2 :-"
      ],
      "metadata": {
        "id": "bTClrY-prJ6K"
      }
    },
    {
      "cell_type": "code",
      "source": [
        "class ListNode:\n",
        "    def __init__(self, val=0, next=None):\n",
        "        self.val = val\n",
        "        self.next = next\n",
        "\n",
        "def hasLoop(head):\n",
        "    slow = head\n",
        "    fast = head\n",
        "\n",
        "    while fast and fast.next:\n",
        "        slow = slow.next\n",
        "        fast = fast.next.next\n",
        "\n",
        "        if slow == fast:\n",
        "            return True\n",
        "\n",
        "    return False\n",
        "\n",
        "head = ListNode(1)\n",
        "head.next = ListNode(2)\n",
        "head.next.next = ListNode(3)\n",
        "head.next.next.next = ListNode(4)\n",
        "head.next.next.next.next = ListNode(5)\n",
        "\n",
        "# Creating a loop by connecting the last node to the second node\n",
        "head.next.next.next.next.next = head.next\n",
        "\n",
        "result = hasLoop(head)\n",
        "print(result)"
      ],
      "metadata": {
        "colab": {
          "base_uri": "https://localhost:8080/"
        },
        "id": "c2s5vE2yrIsg",
        "outputId": "4901b7cc-6cb4-4adc-d880-c9b8b1225051"
      },
      "execution_count": 2,
      "outputs": [
        {
          "output_type": "stream",
          "name": "stdout",
          "text": [
            "True\n"
          ]
        }
      ]
    },
    {
      "cell_type": "markdown",
      "source": [
        "Answer No.3 :-"
      ],
      "metadata": {
        "id": "dTJqKWFhrMhM"
      }
    },
    {
      "cell_type": "code",
      "source": [
        "class ListNode:\n",
        "    def __init__(self, val=0, next=None):\n",
        "        self.val = val\n",
        "        self.next = next\n",
        "\n",
        "def findNthFromEnd(head, N):\n",
        "    fast = head\n",
        "    slow = head\n",
        "\n",
        "    # Move the fast pointer N nodes ahead\n",
        "    for _ in range(N):\n",
        "        if fast is None:\n",
        "            return None\n",
        "        fast = fast.next\n",
        "\n",
        "    # Move both pointers until the fast pointer reaches the end\n",
        "    while fast:\n",
        "        fast = fast.next\n",
        "        slow = slow.next\n",
        "\n",
        "    return slow\n",
        "\n",
        "head = ListNode(1)\n",
        "head.next = ListNode(2)\n",
        "head.next.next = ListNode(3)\n",
        "head.next.next.next = ListNode(4)\n",
        "head.next.next.next.next = ListNode(5)\n",
        "\n",
        "N = 2\n",
        "result = findNthFromEnd(head, N)\n",
        "if result:\n",
        "    print(result.val)"
      ],
      "metadata": {
        "colab": {
          "base_uri": "https://localhost:8080/"
        },
        "id": "QREx6YK1rH_v",
        "outputId": "125c86c1-7b33-4869-a454-9daaadfc76cd"
      },
      "execution_count": 3,
      "outputs": [
        {
          "output_type": "stream",
          "name": "stdout",
          "text": [
            "4\n"
          ]
        }
      ]
    },
    {
      "cell_type": "markdown",
      "source": [
        "Answer No.4 :-"
      ],
      "metadata": {
        "id": "KRnZXs_JrMHF"
      }
    },
    {
      "cell_type": "code",
      "source": [
        "class ListNode:\n",
        "    def __init__(self, val=0, next=None):\n",
        "        self.val = val\n",
        "        self.next = next\n",
        "\n",
        "def isPalindrome(head):\n",
        "    # Find the length of the linked list\n",
        "    length = 0\n",
        "    current = head\n",
        "    while current:\n",
        "        length += 1\n",
        "        current = current.next\n",
        "\n",
        "    # Split the linked list into two halves\n",
        "    half_length = length // 2\n",
        "    first_half_end = head\n",
        "    for _ in range(half_length - 1):\n",
        "        first_half_end = first_half_end.next\n",
        "\n",
        "    second_half_start = first_half_end.next\n",
        "\n",
        "    # Reverse the second half of the linked list\n",
        "    prev = None\n",
        "    current = second_half_start\n",
        "    while current:\n",
        "        next_node = current.next\n",
        "        current.next = prev\n",
        "        prev = current\n",
        "        current = next_node\n",
        "    second_half_start = prev\n",
        "\n",
        "    # Compare the first half with the reversed second half\n",
        "    current1 = head\n",
        "    current2 = second_half_start\n",
        "    for _ in range(half_length):\n",
        "        if current1.val != current2.val:\n",
        "            return False\n",
        "        current1 = current1.next\n",
        "        current2 = current2.next\n",
        "\n",
        "    return True\n",
        "\n",
        "head = ListNode('a')\n",
        "head.next = ListNode('b')\n",
        "head.next.next = ListNode('c')\n",
        "head.next.next.next = ListNode('b')\n",
        "head.next.next.next.next = ListNode('a')\n",
        "\n",
        "print(isPalindrome(head))"
      ],
      "metadata": {
        "colab": {
          "base_uri": "https://localhost:8080/"
        },
        "id": "DnggF3F6rHdn",
        "outputId": "6e2f0e20-3495-4e8b-c4a5-0b91e035df74"
      },
      "execution_count": 4,
      "outputs": [
        {
          "output_type": "stream",
          "name": "stdout",
          "text": [
            "True\n"
          ]
        }
      ]
    },
    {
      "cell_type": "markdown",
      "source": [
        "Answer No.5 :-"
      ],
      "metadata": {
        "id": "5UpXwipcrL15"
      }
    },
    {
      "cell_type": "code",
      "source": [
        "class ListNode:\n",
        "    def __init__(self, val=0, next=None):\n",
        "        self.val = val\n",
        "        self.next = next\n",
        "\n",
        "def detectAndRemoveLoop(head):\n",
        "    slow = head\n",
        "    fast = head\n",
        "\n",
        "    # Detect loop using Floyd's Cycle Detection Algorithm\n",
        "    while fast and fast.next:\n",
        "        slow = slow.next\n",
        "        fast = fast.next.next\n",
        "        if slow == fast:\n",
        "            break\n",
        "\n",
        "    # If there is no loop, return the linked list as it is\n",
        "    if slow != fast:\n",
        "        return head\n",
        "\n",
        "    # Reset slow pointer to the head and move both pointers one step at a time until they meet again\n",
        "    slow = head\n",
        "    while slow.next != fast.next:\n",
        "        slow = slow.next\n",
        "        fast = fast.next\n",
        "\n",
        "    # Remove the loop by setting the next pointer of the node just before the start of the loop to null\n",
        "    fast.next = None\n",
        "\n",
        "    return head\n",
        "\n",
        "head = ListNode(1)\n",
        "head.next = ListNode(2)\n",
        "head.next.next = ListNode(3)\n",
        "head.next.next.next = ListNode(4)\n",
        "head.next.next.next.next = ListNode(5)\n",
        "head.next.next.next.next.next = head.next.next.next  # Creating a loop\n",
        "\n",
        "head = detectAndRemoveLoop(head)\n",
        "\n",
        "print(head)\n"
      ],
      "metadata": {
        "colab": {
          "base_uri": "https://localhost:8080/"
        },
        "id": "u3PjWEjDrHKk",
        "outputId": "26ee0555-f101-4936-c67a-919ac1c77f40"
      },
      "execution_count": 8,
      "outputs": [
        {
          "output_type": "stream",
          "name": "stdout",
          "text": [
            "<__main__.ListNode object at 0x7faf96a42e30>\n"
          ]
        }
      ]
    },
    {
      "cell_type": "markdown",
      "source": [
        "Answer No.6 :-"
      ],
      "metadata": {
        "id": "cNybQDKorLjI"
      }
    },
    {
      "cell_type": "code",
      "source": [
        "class ListNode:\n",
        "    def __init__(self, val=0, next=None):\n",
        "        self.val = val\n",
        "        self.next = next\n",
        "\n",
        "def skipMDeleteN(head, M, N):\n",
        "    if not head or M <= 0 or N <= 0:\n",
        "        return head\n",
        "\n",
        "    current = head\n",
        "    while current:\n",
        "        # Skip M nodes\n",
        "        for _ in range(M - 1):\n",
        "            if current.next:\n",
        "                current = current.next\n",
        "            else:\n",
        "                return head\n",
        "\n",
        "        prev = current\n",
        "        # Move current N nodes forward\n",
        "        for _ in range(N):\n",
        "            if current.next:\n",
        "                current = current.next\n",
        "            else:\n",
        "                prev.next = None\n",
        "                return head\n",
        "\n",
        "        prev.next = current.next\n",
        "        current = prev.next\n",
        "\n",
        "    return head\n",
        "\n",
        "head = ListNode(1)\n",
        "head.next = ListNode(2)\n",
        "head.next.next = ListNode(3)\n",
        "head.next.next.next = ListNode(4)\n",
        "head.next.next.next.next = ListNode(5)\n",
        "head.next.next.next.next.next = ListNode(6)\n",
        "head.next.next.next.next.next.next = ListNode(7)\n",
        "head.next.next.next.next.next.next.next = ListNode(8)\n",
        "head.next.next.next.next.next.next.next.next = ListNode(9)\n",
        "\n",
        "# After retaining 2 nodes and deleting the next 3 nodes, the resulting linked list: 1 -> 2 -> 6 -> 7\n",
        "head = skipMDeleteN(head, 2, 3)\n",
        "\n",
        "# Print the modified linked list\n",
        "while head:\n",
        "    print(head.val, end=\" \")\n",
        "    head = head.next\n"
      ],
      "metadata": {
        "colab": {
          "base_uri": "https://localhost:8080/"
        },
        "id": "vyxjsXG1rHHr",
        "outputId": "6d438ca9-e0a6-492b-9024-0896c51a136e"
      },
      "execution_count": 9,
      "outputs": [
        {
          "output_type": "stream",
          "name": "stdout",
          "text": [
            "1 2 6 7 "
          ]
        }
      ]
    },
    {
      "cell_type": "markdown",
      "source": [
        "Answer No.7 :-"
      ],
      "metadata": {
        "id": "QXPsjbigrLEd"
      }
    },
    {
      "cell_type": "code",
      "source": [
        "class ListNode:\n",
        "    def __init__(self, val=0, next=None):\n",
        "        self.val = val\n",
        "        self.next = next\n",
        "\n",
        "def insertAlternate(first, second):\n",
        "    if not first:\n",
        "        return second\n",
        "    if not second:\n",
        "        return first\n",
        "\n",
        "    while first and second:\n",
        "        first_next = first.next\n",
        "        second_next = second.next\n",
        "\n",
        "        second.next = first_next\n",
        "        first.next = second\n",
        "\n",
        "        first = first_next\n",
        "        second = second_next\n",
        "\n",
        "    if second:\n",
        "        # Append remaining nodes in second list to the end of first list\n",
        "        current = first\n",
        "        while current.next:\n",
        "            current = current.next\n",
        "        current.next = second\n",
        "\n",
        "    # Empty the second list\n",
        "    second = None\n",
        "\n",
        "    return first\n",
        "\n",
        "first = ListNode(5)\n",
        "first.next = ListNode(7)\n",
        "first.next.next = ListNode(17)\n",
        "first.next.next.next = ListNode(13)\n",
        "first.next.next.next.next = ListNode(11)\n",
        "\n",
        "second = ListNode(12)\n",
        "second.next = ListNode(10)\n",
        "second.next.next = ListNode(2)\n",
        "second.next.next.next = ListNode(4)\n",
        "second.next.next.next.next = ListNode(6)\n",
        "\n",
        "# Insert nodes of second list into first list at alternate positions\n",
        "first = insertAlternate(first, second)\n",
        "\n",
        "# Print the modified first list\n",
        "while first:\n",
        "    print(first.val, end=\" \")\n",
        "    first = first.next\n"
      ],
      "metadata": {
        "id": "YTeey3oArHBv"
      },
      "execution_count": 10,
      "outputs": []
    },
    {
      "cell_type": "markdown",
      "source": [
        "Answer No.8 :-"
      ],
      "metadata": {
        "id": "9AeokQP4rKbA"
      }
    },
    {
      "cell_type": "code",
      "execution_count": 11,
      "metadata": {
        "colab": {
          "base_uri": "https://localhost:8080/"
        },
        "id": "2FsZtR92rGPD",
        "outputId": "25c0e77e-5869-4a4e-b7f5-3d29ada16c89"
      },
      "outputs": [
        {
          "output_type": "stream",
          "name": "stdout",
          "text": [
            "True\n"
          ]
        }
      ],
      "source": [
        "class ListNode:\n",
        "    def __init__(self, val=0, next=None):\n",
        "        self.val = val\n",
        "        self.next = next\n",
        "\n",
        "def isCircular(head):\n",
        "    if not head:\n",
        "        return False\n",
        "\n",
        "    slow = head\n",
        "    fast = head\n",
        "\n",
        "    while fast and fast.next:\n",
        "        slow = slow.next\n",
        "        fast = fast.next.next\n",
        "\n",
        "        if slow == fast:\n",
        "            return True\n",
        "\n",
        "    return False\n",
        "\n",
        "head = ListNode(1)\n",
        "head.next = ListNode(2)\n",
        "head.next.next = ListNode(3)\n",
        "head.next.next.next = ListNode(4)\n",
        "head.next.next.next.next = ListNode(5)\n",
        "head.next.next.next.next.next = head.next\n",
        "\n",
        "# Check if the linked list is circular\n",
        "circular = isCircular(head)\n",
        "print(circular)\n"
      ]
    }
  ]
}