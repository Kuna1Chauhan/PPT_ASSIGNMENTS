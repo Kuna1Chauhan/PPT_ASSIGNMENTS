{
  "nbformat": 4,
  "nbformat_minor": 0,
  "metadata": {
    "colab": {
      "provenance": []
    },
    "kernelspec": {
      "name": "python3",
      "display_name": "Python 3"
    },
    "language_info": {
      "name": "python"
    }
  },
  "cells": [
    {
      "cell_type": "markdown",
      "source": [
        "Answer No.1 :-"
      ],
      "metadata": {
        "id": "JeofOrG2ts_T"
      }
    },
    {
      "cell_type": "code",
      "source": [
        "class Node:\n",
        "    def __init__(self, value):\n",
        "        self.value = value\n",
        "        self.next = None\n",
        "\n",
        "def create_new_linked_list(list1, list2):\n",
        "    head = None\n",
        "    prev = None\n",
        "\n",
        "    while list1 is not None and list2 is not None:\n",
        "        if list1.value >= list2.value:\n",
        "            new_node = Node(list1.value)\n",
        "            list1 = list1.next\n",
        "        else:\n",
        "            new_node = Node(list2.value)\n",
        "            list2 = list2.next\n",
        "\n",
        "        if head is None:\n",
        "            head = new_node\n",
        "        else:\n",
        "            prev.next = new_node\n",
        "\n",
        "        prev = new_node\n",
        "\n",
        "    # Append remaining nodes if any\n",
        "    if list1 is not None:\n",
        "        prev.next = list1\n",
        "    elif list2 is not None:\n",
        "        prev.next = list2\n",
        "\n",
        "    return head\n"
      ],
      "metadata": {
        "id": "PsYaY0dGtsGU"
      },
      "execution_count": 8,
      "outputs": []
    },
    {
      "cell_type": "markdown",
      "source": [
        "Answer No.2 :-"
      ],
      "metadata": {
        "id": "0p4nA5-btv9j"
      }
    },
    {
      "cell_type": "code",
      "source": [
        "class Node:\n",
        "    def __init__(self, value):\n",
        "        self.value = value\n",
        "        self.next = None\n",
        "\n",
        "def remove_duplicates(head):\n",
        "    current = head\n",
        "\n",
        "    while current is not None and current.next is not None:\n",
        "        if current.value == current.next.value:\n",
        "            current.next = current.next.next\n",
        "        else:\n",
        "            current = current.next\n",
        "\n",
        "    return head\n"
      ],
      "metadata": {
        "id": "4KiAaJ1Ktr8r"
      },
      "execution_count": 7,
      "outputs": []
    },
    {
      "cell_type": "markdown",
      "source": [
        "Answer No.3 :-"
      ],
      "metadata": {
        "id": "8CjkUasitvmT"
      }
    },
    {
      "cell_type": "code",
      "source": [
        "class Node:\n",
        "    def __init__(self, value):\n",
        "        self.value = value\n",
        "        self.next = None\n",
        "\n",
        "def reverse_k_nodes(head, k):\n",
        "    if not head or not head.next or k == 1:\n",
        "        return head\n",
        "\n",
        "    dummy = Node(0)\n",
        "    dummy.next = head\n",
        "    prev = dummy\n",
        "    count = 0\n",
        "\n",
        "    while head:\n",
        "        count += 1\n",
        "\n",
        "        if count % k == 0:\n",
        "            prev = reverse_group(prev, head.next)\n",
        "            head = prev.next\n",
        "        else:\n",
        "            head = head.next\n",
        "\n",
        "    return dummy.next\n",
        "\n",
        "def reverse_group(prev, next_node):\n",
        "    last = prev.next\n",
        "    current = last.next\n",
        "\n",
        "    while current != next_node:\n",
        "        last.next = current.next\n",
        "        current.next = prev.next\n",
        "        prev.next = current\n",
        "        current = last.next\n",
        "\n",
        "    return last\n"
      ],
      "metadata": {
        "id": "aorQU4m_trff"
      },
      "execution_count": 6,
      "outputs": []
    },
    {
      "cell_type": "markdown",
      "source": [
        "Answer No.4 :-"
      ],
      "metadata": {
        "id": "nT1Us2kktvJU"
      }
    },
    {
      "cell_type": "code",
      "source": [
        "class Node:\n",
        "    def __init__(self, value):\n",
        "        self.value = value\n",
        "        self.next = None\n",
        "\n",
        "def reverse_alternate_k_nodes(head, k):\n",
        "    if not head or not head.next or k == 1:\n",
        "        return head\n",
        "\n",
        "    dummy = Node(0)\n",
        "    dummy.next = head\n",
        "    prev = dummy\n",
        "    count = 0\n",
        "\n",
        "    while head:\n",
        "        count += 1\n",
        "\n",
        "        if count % (2 * k) == 0:\n",
        "            prev = reverse_group(prev, head.next, k)\n",
        "            head = prev.next\n",
        "        else:\n",
        "            head = head.next\n",
        "\n",
        "    return dummy.next\n",
        "\n",
        "def reverse_group(prev, next_node, k):\n",
        "    last = prev.next\n",
        "    current = last.next\n",
        "\n",
        "    for _ in range(k - 1):\n",
        "        last.next = current.next\n",
        "        current.next = prev.next\n",
        "        prev.next = current\n",
        "        current = last.next\n",
        "\n",
        "    last.next = next_node\n",
        "\n",
        "    return last\n"
      ],
      "metadata": {
        "id": "ujLH2xEMtrFI"
      },
      "execution_count": 5,
      "outputs": []
    },
    {
      "cell_type": "markdown",
      "source": [
        "Answer No.5 :-"
      ],
      "metadata": {
        "id": "fBzA3981tuwl"
      }
    },
    {
      "cell_type": "code",
      "source": [
        "class Node:\n",
        "    def __init__(self, value):\n",
        "        self.value = value\n",
        "        self.next = None\n",
        "\n",
        "def delete_last_occurrence(head, key):\n",
        "    if not head:\n",
        "        return None\n",
        "\n",
        "    prev = None\n",
        "    toDelete = None\n",
        "    current = head\n",
        "\n",
        "    while current:\n",
        "        if current.value == key:\n",
        "            toDelete = current\n",
        "        prev = current\n",
        "        current = current.next\n",
        "\n",
        "    if not toDelete:\n",
        "        return head\n",
        "\n",
        "    if toDelete == head:\n",
        "        return head.next\n",
        "\n",
        "    prev.next = toDelete.next\n",
        "\n",
        "    return head\n"
      ],
      "metadata": {
        "id": "AlldR3tKtrBY"
      },
      "execution_count": 4,
      "outputs": []
    },
    {
      "cell_type": "markdown",
      "source": [
        "Answer No.6 :-"
      ],
      "metadata": {
        "id": "avXd_Lt7tuYq"
      }
    },
    {
      "cell_type": "code",
      "source": [
        "class Node:\n",
        "    def __init__(self, value):\n",
        "        self.value = value\n",
        "        self.next = None\n",
        "\n",
        "def merge_sorted_lists(list1, list2):\n",
        "    if not list1:\n",
        "        return list2\n",
        "    if not list2:\n",
        "        return list1\n",
        "\n",
        "    if list1.value <= list2.value:\n",
        "        head = list1\n",
        "        list1 = list1.next\n",
        "    else:\n",
        "        head = list2\n",
        "        list2 = list2.next\n",
        "\n",
        "    current = head\n",
        "\n",
        "    while list1 and list2:\n",
        "        if list1.value <= list2.value:\n",
        "            current.next = list1\n",
        "            list1 = list1.next\n",
        "        else:\n",
        "            current.next = list2\n",
        "            list2 = list2.next\n",
        "\n",
        "        current = current.next\n",
        "\n",
        "    if list1:\n",
        "        current.next = list1\n",
        "    elif list2:\n",
        "        current.next = list2\n",
        "\n",
        "    return head\n"
      ],
      "metadata": {
        "id": "Uw73xPtztq_g"
      },
      "execution_count": 3,
      "outputs": []
    },
    {
      "cell_type": "markdown",
      "source": [
        "Answer No.7 :-"
      ],
      "metadata": {
        "id": "w7mGnoIUtuBN"
      }
    },
    {
      "cell_type": "code",
      "source": [
        "class Node:\n",
        "    def __init__(self, value):\n",
        "        self.value = value\n",
        "        self.next = None\n",
        "        self.prev = None\n",
        "\n",
        "def reverse_doubly_linked_list(head):\n",
        "    if not head or not head.next:\n",
        "        return head\n",
        "\n",
        "    current = head\n",
        "    temp = None\n",
        "\n",
        "    while current:\n",
        "        temp = current.prev\n",
        "        current.prev = current.next\n",
        "        current.next = temp\n",
        "        current = current.prev\n",
        "\n",
        "    if temp:\n",
        "        head = temp.prev\n",
        "\n",
        "    return head\n"
      ],
      "metadata": {
        "id": "xxfOk4lOtq0s"
      },
      "execution_count": 2,
      "outputs": []
    },
    {
      "cell_type": "markdown",
      "source": [
        "Answer No.8 :-"
      ],
      "metadata": {
        "id": "jPQaRNy7ttmX"
      }
    },
    {
      "cell_type": "code",
      "execution_count": 1,
      "metadata": {
        "id": "ycEUEXY-tmHc"
      },
      "outputs": [],
      "source": [
        "class Node:\n",
        "    def __init__(self, value):\n",
        "        self.value = value\n",
        "        self.next = None\n",
        "        self.prev = None\n",
        "\n",
        "def delete_node_at_position(head, position):\n",
        "    if position == 0:\n",
        "        if head:\n",
        "            head = head.next\n",
        "            if head:\n",
        "                head.prev = None\n",
        "        return head\n",
        "\n",
        "    current = head\n",
        "    count = 0\n",
        "\n",
        "    while current and count < position:\n",
        "        current = current.next\n",
        "        count += 1\n",
        "\n",
        "    if not current:\n",
        "        return head\n",
        "\n",
        "    current.prev.next = current.next\n",
        "    if current.next:\n",
        "        current.next.prev = current.prev\n",
        "\n",
        "    return head\n"
      ]
    }
  ]
}