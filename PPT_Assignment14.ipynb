{
  "nbformat": 4,
  "nbformat_minor": 0,
  "metadata": {
    "colab": {
      "provenance": []
    },
    "kernelspec": {
      "name": "python3",
      "display_name": "Python 3"
    },
    "language_info": {
      "name": "python"
    }
  },
  "cells": [
    {
      "cell_type": "markdown",
      "source": [
        "Answer No.1 :-"
      ],
      "metadata": {
        "id": "Ciu-O2MD_Ot0"
      }
    },
    {
      "cell_type": "code",
      "execution_count": 8,
      "metadata": {
        "id": "TF9eELOB_LRx"
      },
      "outputs": [],
      "source": [
        "class Node:\n",
        "    def __init__(self, value):\n",
        "        self.value = value\n",
        "        self.next = None\n",
        "\n",
        "def detect_and_remove_loop(head):\n",
        "    slow = fast = head\n",
        "\n",
        "    # Detect loop\n",
        "    while fast and fast.next:\n",
        "        slow = slow.next\n",
        "        fast = fast.next.next\n",
        "        if slow == fast:\n",
        "            break\n",
        "\n",
        "    # No loop present\n",
        "    if not fast or not fast.next:\n",
        "        return head\n",
        "\n",
        "    # Move fast to head, and move both pointers one step at a time\n",
        "    fast = head\n",
        "    while slow.next != fast.next:\n",
        "        slow = slow.next\n",
        "        fast = fast.next\n",
        "\n",
        "    # Remove the loop\n",
        "    slow.next = None\n",
        "\n",
        "    return head\n"
      ]
    },
    {
      "cell_type": "markdown",
      "source": [
        "Answer No.2 :-"
      ],
      "metadata": {
        "id": "XsoN6CHY_PKy"
      }
    },
    {
      "cell_type": "code",
      "source": [
        "class Node:\n",
        "    def __init__(self, value):\n",
        "        self.value = value\n",
        "        self.next = None\n",
        "\n",
        "def reverse_linked_list(head):\n",
        "    prev = None\n",
        "    current = head\n",
        "\n",
        "    while current:\n",
        "        next_node = current.next\n",
        "        current.next = prev\n",
        "        prev = current\n",
        "        current = next_node\n",
        "\n",
        "    return prev\n",
        "\n",
        "def add_one_to_linked_list(head):\n",
        "    # Reverse the linked list\n",
        "    reversed_head = reverse_linked_list(head)\n",
        "\n",
        "    # Add 1 to the first digit\n",
        "    carry = 1\n",
        "    current = reversed_head\n",
        "\n",
        "    while current:\n",
        "        sum = current.value + carry\n",
        "        current.value = sum % 10\n",
        "        carry = sum // 10\n",
        "\n",
        "        if carry == 0:\n",
        "            break\n",
        "\n",
        "        current = current.next\n",
        "\n",
        "    # If there is still a carry remaining, append a new node\n",
        "    if carry > 0:\n",
        "        new_node = Node(carry)\n",
        "        current.next = new_node\n",
        "\n",
        "    # Reverse the linked list again\n",
        "    original_head = reverse_linked_list(reversed_head)\n",
        "\n",
        "    return original_head\n"
      ],
      "metadata": {
        "id": "-jVWhycl_N07"
      },
      "execution_count": 7,
      "outputs": []
    },
    {
      "cell_type": "markdown",
      "source": [
        "Answer No.3 :-"
      ],
      "metadata": {
        "id": "6tZ8k4Pt_PmV"
      }
    },
    {
      "cell_type": "code",
      "source": [
        "class Node:\n",
        "    def __init__(self, value):\n",
        "        self.value = value\n",
        "        self.next = None\n",
        "        self.bottom = None\n",
        "\n",
        "def merge_two_lists(list1, list2):\n",
        "    dummy = Node(0)\n",
        "    tail = dummy\n",
        "\n",
        "    while list1 and list2:\n",
        "        if list1.value <= list2.value:\n",
        "            tail.bottom = list1\n",
        "            list1 = list1.bottom\n",
        "        else:\n",
        "            tail.bottom = list2\n",
        "            list2 = list2.bottom\n",
        "        tail = tail.bottom\n",
        "\n",
        "    if list1:\n",
        "        tail.bottom = list1\n",
        "    else:\n",
        "        tail.bottom = list2\n",
        "\n",
        "    return dummy.bottom\n",
        "\n",
        "def flatten_linked_list(head):\n",
        "    if not head or not head.next:\n",
        "        return head\n",
        "\n",
        "    head.next = flatten_linked_list(head.next)\n",
        "\n",
        "    head = merge_two_lists(head, head.next)\n",
        "\n",
        "    return head\n"
      ],
      "metadata": {
        "id": "Wb-aZNEk_NpC"
      },
      "execution_count": 6,
      "outputs": []
    },
    {
      "cell_type": "markdown",
      "source": [
        "Answer No.4 :-"
      ],
      "metadata": {
        "id": "7JzMZMyT_ROl"
      }
    },
    {
      "cell_type": "code",
      "source": [
        "class Node:\n",
        "    def __init__(self, value):\n",
        "        self.value = value\n",
        "        self.next = None\n",
        "        self.random = None\n",
        "\n",
        "def copy_random_list(head):\n",
        "    if not head:\n",
        "        return None\n",
        "\n",
        "    # Step 1: Create a copy of each node and store the mapping in a dictionary\n",
        "    mapping = {}\n",
        "    current = head\n",
        "    while current:\n",
        "        mapping[current] = Node(current.value)\n",
        "        current = current.next\n",
        "\n",
        "    # Step 2: Set the next and random pointers of the new nodes\n",
        "    current = head\n",
        "    while current:\n",
        "        new_node = mapping[current]\n",
        "        new_node.next = mapping.get(current.next)\n",
        "        new_node.random = mapping.get(current.random)\n",
        "        current = current.next\n",
        "\n",
        "    return mapping[head]\n"
      ],
      "metadata": {
        "id": "Px209wgF_NYS"
      },
      "execution_count": 5,
      "outputs": []
    },
    {
      "cell_type": "markdown",
      "source": [
        "Answer No.5 :-"
      ],
      "metadata": {
        "id": "f-zyFvMm_SoZ"
      }
    },
    {
      "cell_type": "code",
      "source": [
        "class ListNode:\n",
        "    def __init__(self, value=0, next=None):\n",
        "        self.value = value\n",
        "        self.next = next\n",
        "\n",
        "def odd_even_list(head):\n",
        "    if not head or not head.next:\n",
        "        return head\n",
        "\n",
        "    odd_head = head\n",
        "    even_head = head.next\n",
        "    odd = odd_head\n",
        "    even = even_head\n",
        "\n",
        "    while even and even.next:\n",
        "        odd.next = even.next\n",
        "        odd = odd.next\n",
        "        even.next = odd.next\n",
        "        even = even.next\n",
        "\n",
        "    odd.next = even_head\n",
        "\n",
        "    return odd_head\n"
      ],
      "metadata": {
        "id": "Y4bDUjPN_NEA"
      },
      "execution_count": 4,
      "outputs": []
    },
    {
      "cell_type": "markdown",
      "source": [
        "Answer No.6 :-"
      ],
      "metadata": {
        "id": "Q_ubN7H2_TAl"
      }
    },
    {
      "cell_type": "code",
      "source": [
        "class ListNode:\n",
        "    def __init__(self, value=0, next=None):\n",
        "        self.value = value\n",
        "        self.next = next\n",
        "\n",
        "def left_shift_linked_list(head, k):\n",
        "    if not head or k == 0:\n",
        "        return head\n",
        "\n",
        "    # Traverse to the k+1th node\n",
        "    current = head\n",
        "    for _ in range(k):\n",
        "        if not current.next:\n",
        "            return head\n",
        "        current = current.next\n",
        "\n",
        "    k_plus_1 = current\n",
        "    previous_k_plus_1 = head\n",
        "\n",
        "    # Find the end of the list and connect it to the head\n",
        "    while current.next:\n",
        "        current = current.next\n",
        "        previous_k_plus_1 = previous_k_plus_1.next\n",
        "\n",
        "    current.next = head\n",
        "    new_head = k_plus_1.next\n",
        "    k_plus_1.next = None\n",
        "\n",
        "    return new_head\n"
      ],
      "metadata": {
        "id": "S2oYuhZ2_M3H"
      },
      "execution_count": 3,
      "outputs": []
    },
    {
      "cell_type": "markdown",
      "source": [
        "Answer No.7 :-"
      ],
      "metadata": {
        "id": "f_nkInmO_SSi"
      }
    },
    {
      "cell_type": "code",
      "source": [
        "class ListNode:\n",
        "    def __init__(self, value=0, next=None):\n",
        "        self.value = value\n",
        "        self.next = next\n",
        "\n",
        "def next_greater_node(head):\n",
        "    # Convert linked list to array\n",
        "    arr = []\n",
        "    current = head\n",
        "    while current:\n",
        "        arr.append(current.value)\n",
        "        current = current.next\n",
        "\n",
        "    n = len(arr)\n",
        "    stack = []\n",
        "    answer = [0] * n\n",
        "\n",
        "    for i in range(n - 1, -1, -1):\n",
        "        while stack and arr[i] >= stack[-1]:\n",
        "            stack.pop()\n",
        "\n",
        "        if stack:\n",
        "            answer[i] = stack[-1]\n",
        "\n",
        "        stack.append(arr[i])\n",
        "\n",
        "    return answer\n"
      ],
      "metadata": {
        "id": "3yu55EMX_Mqn"
      },
      "execution_count": 2,
      "outputs": []
    },
    {
      "cell_type": "markdown",
      "source": [
        "Answer No.8 :-"
      ],
      "metadata": {
        "id": "YBs8D-aj_R2q"
      }
    },
    {
      "cell_type": "code",
      "source": [
        "class ListNode:\n",
        "    def __init__(self, value=0, next=None):\n",
        "        self.value = value\n",
        "        self.next = next\n",
        "\n",
        "def remove_zero_sum_sublists(head):\n",
        "    dummy = ListNode(0)\n",
        "    dummy.next = head\n",
        "\n",
        "    cumulative_sum = 0\n",
        "    sum_dict = {0: dummy}\n",
        "\n",
        "    current = head\n",
        "    while current:\n",
        "        cumulative_sum += current.value\n",
        "\n",
        "        if cumulative_sum in sum_dict:\n",
        "            prev = sum_dict[cumulative_sum]\n",
        "            prev.next = current.next\n",
        "\n",
        "            # Remove cumulative sums after the removed sequence\n",
        "            removed_sum = cumulative_sum\n",
        "            while removed_sum != current.value:\n",
        "                removed_sum += prev.next.value\n",
        "                del sum_dict[removed_sum]\n",
        "                prev.next = prev.next.next\n",
        "\n",
        "        else:\n",
        "            sum_dict[cumulative_sum] = current\n",
        "\n",
        "        current = current.next\n",
        "\n",
        "    return dummy.next\n"
      ],
      "metadata": {
        "id": "_QBvqQiu_MhO"
      },
      "execution_count": 1,
      "outputs": []
    }
  ]
}