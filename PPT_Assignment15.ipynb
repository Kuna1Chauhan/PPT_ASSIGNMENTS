{
  "nbformat": 4,
  "nbformat_minor": 0,
  "metadata": {
    "colab": {
      "provenance": []
    },
    "kernelspec": {
      "name": "python3",
      "display_name": "Python 3"
    },
    "language_info": {
      "name": "python"
    }
  },
  "cells": [
    {
      "cell_type": "markdown",
      "source": [
        "Answer No.1 :-"
      ],
      "metadata": {
        "id": "ThjthYEPIK96"
      }
    },
    {
      "cell_type": "code",
      "execution_count": 1,
      "metadata": {
        "id": "tKyN4vaNIIpT"
      },
      "outputs": [],
      "source": [
        "def next_greater_element(arr):\n",
        "    n = len(arr)\n",
        "    stack = []\n",
        "    result = [-1] * n\n",
        "\n",
        "    for i in range(n - 1, -1, -1):\n",
        "        while stack and arr[i] >= stack[-1]:\n",
        "            stack.pop()\n",
        "\n",
        "        if stack:\n",
        "            result[i] = stack[-1]\n",
        "\n",
        "        stack.append(arr[i])\n",
        "\n",
        "    return result\n"
      ]
    },
    {
      "cell_type": "markdown",
      "source": [
        "Answer No.2 :-"
      ],
      "metadata": {
        "id": "MPxWjJNhINs5"
      }
    },
    {
      "cell_type": "code",
      "source": [
        "def nearest_smaller_on_left(a):\n",
        "    n = len(a)\n",
        "    stack = []\n",
        "    result = [-1] * n\n",
        "\n",
        "    for i in range(n):\n",
        "        while stack and stack[-1] >= a[i]:\n",
        "            stack.pop()\n",
        "\n",
        "        if stack:\n",
        "            result[i] = stack[-1]\n",
        "\n",
        "        stack.append(a[i])\n",
        "\n",
        "    return result\n"
      ],
      "metadata": {
        "id": "VM1ebiooIKRN"
      },
      "execution_count": 2,
      "outputs": []
    },
    {
      "cell_type": "markdown",
      "source": [
        "Answer No.3 :-"
      ],
      "metadata": {
        "id": "nnSUxI0TINR7"
      }
    },
    {
      "cell_type": "code",
      "source": [
        "class Stack:\n",
        "    def __init__(self):\n",
        "        self.q1 = []\n",
        "        self.q2 = []\n",
        "\n",
        "    def push(self, value):\n",
        "        self.q1.append(value)\n",
        "\n",
        "    def pop(self):\n",
        "        if not self.q1:\n",
        "            return None\n",
        "\n",
        "        while len(self.q1) > 1:\n",
        "            self.q2.append(self.q1.pop(0))\n",
        "\n",
        "        popped_element = self.q1.pop(0)\n",
        "\n",
        "        self.q1, self.q2 = self.q2, self.q1\n",
        "\n",
        "        return popped_element\n",
        "\n",
        "    def top(self):\n",
        "        if not self.q1:\n",
        "            return None\n",
        "\n",
        "        return self.q1[0]\n",
        "\n",
        "    def isEmpty(self):\n",
        "        return len(self.q1) == 0 and len(self.q2) == 0\n"
      ],
      "metadata": {
        "id": "Pb0G5GeKIKFS"
      },
      "execution_count": 3,
      "outputs": []
    },
    {
      "cell_type": "markdown",
      "source": [
        "Answer No.4 :-"
      ],
      "metadata": {
        "id": "saL4D-xDIM82"
      }
    },
    {
      "cell_type": "code",
      "source": [
        "def reverseStack(St):\n",
        "    if len(St) <= 1:\n",
        "        return\n",
        "\n",
        "    item = St.pop()\n",
        "\n",
        "    reverseStack(St)\n",
        "\n",
        "    insertAtBottom(St, item)\n",
        "\n",
        "\n",
        "def insertAtBottom(St, item):\n",
        "    if len(St) == 0:\n",
        "        St.append(item)\n",
        "    else:\n",
        "        temp = St.pop()\n",
        "        insertAtBottom(St, item)\n",
        "        St.append(temp)\n"
      ],
      "metadata": {
        "id": "-PGC4IwmIJk5"
      },
      "execution_count": 4,
      "outputs": []
    },
    {
      "cell_type": "markdown",
      "source": [
        "Answer No.5 :-"
      ],
      "metadata": {
        "id": "paagC4d5IMo2"
      }
    },
    {
      "cell_type": "code",
      "source": [
        "def reverseString(S):\n",
        "    stack = []\n",
        "\n",
        "    for char in S:\n",
        "        stack.append(char)\n",
        "\n",
        "    reversed_string = \"\"\n",
        "\n",
        "    while stack:\n",
        "        reversed_string += stack.pop()\n",
        "\n",
        "    return reversed_string\n"
      ],
      "metadata": {
        "id": "xAQzY_x1IJhr"
      },
      "execution_count": 5,
      "outputs": []
    },
    {
      "cell_type": "markdown",
      "source": [
        "Answer No.6 :-"
      ],
      "metadata": {
        "id": "JXPgWH2tIMVG"
      }
    },
    {
      "cell_type": "code",
      "source": [
        "def evaluatePostfix(S):\n",
        "    stack = []\n",
        "\n",
        "    for char in S:\n",
        "        if char.isdigit():\n",
        "            stack.append(int(char))\n",
        "        else:\n",
        "            b = stack.pop()\n",
        "            a = stack.pop()\n",
        "\n",
        "            if char == '+':\n",
        "                stack.append(a + b)\n",
        "            elif char == '-':\n",
        "                stack.append(a - b)\n",
        "            elif char == '*':\n",
        "                stack.append(a * b)\n",
        "            elif char == '/':\n",
        "                stack.append(a / b)\n",
        "\n",
        "    return stack.pop()\n"
      ],
      "metadata": {
        "id": "R9po97AwIJfx"
      },
      "execution_count": 6,
      "outputs": []
    },
    {
      "cell_type": "markdown",
      "source": [
        "Answer No.7 :-"
      ],
      "metadata": {
        "id": "xC67NNMYILyS"
      }
    },
    {
      "cell_type": "code",
      "source": [
        "class MinStack:\n",
        "    def __init__(self):\n",
        "        self.stack = []\n",
        "        self.min_stack = []\n",
        "\n",
        "    def push(self, val):\n",
        "        self.stack.append(val)\n",
        "\n",
        "        if not self.min_stack or val <= self.min_stack[-1]:\n",
        "            self.min_stack.append(val)\n",
        "\n",
        "    def pop(self):\n",
        "        if self.stack:\n",
        "            popped = self.stack.pop()\n",
        "\n",
        "            if popped == self.min_stack[-1]:\n",
        "                self.min_stack.pop()\n",
        "\n",
        "    def top(self):\n",
        "        if self.stack:\n",
        "            return self.stack[-1]\n",
        "\n",
        "    def getMin(self):\n",
        "        if self.min_stack:\n",
        "            return self.min_stack[-1]\n"
      ],
      "metadata": {
        "id": "7XSYHaxTIJcN"
      },
      "execution_count": 7,
      "outputs": []
    },
    {
      "cell_type": "markdown",
      "source": [
        "Answer No.8 :-"
      ],
      "metadata": {
        "id": "iSQTxklAILaz"
      }
    },
    {
      "cell_type": "code",
      "source": [
        "def trap(height):\n",
        "    left = 0\n",
        "    right = len(height) - 1\n",
        "    left_max = right_max = 0\n",
        "    total_water = 0\n",
        "\n",
        "    while left <= right:\n",
        "        if height[left] <= height[right]:\n",
        "            if height[left] > left_max:\n",
        "                left_max = height[left]\n",
        "            else:\n",
        "                total_water += left_max - height[left]\n",
        "            left += 1\n",
        "        else:\n",
        "            if height[right] > right_max:\n",
        "                right_max = height[right]\n",
        "            else:\n",
        "                total_water += right_max - height[right]\n",
        "            right -= 1\n",
        "\n",
        "    return total_water\n"
      ],
      "metadata": {
        "id": "Mzz2no7EIJZ8"
      },
      "execution_count": 8,
      "outputs": []
    }
  ]
}