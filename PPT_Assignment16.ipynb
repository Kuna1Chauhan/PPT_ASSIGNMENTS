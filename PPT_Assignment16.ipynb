{
  "nbformat": 4,
  "nbformat_minor": 0,
  "metadata": {
    "colab": {
      "provenance": []
    },
    "kernelspec": {
      "name": "python3",
      "display_name": "Python 3"
    },
    "language_info": {
      "name": "python"
    }
  },
  "cells": [
    {
      "cell_type": "markdown",
      "source": [
        "Answer No.1 :-"
      ],
      "metadata": {
        "id": "2JUEOtnDmt5e"
      }
    },
    {
      "cell_type": "code",
      "execution_count": 13,
      "metadata": {
        "id": "LO-QHWAmmq7q"
      },
      "outputs": [],
      "source": [
        "def findNearestGreaterFrequency(arr):\n",
        "    frequency_map = {}\n",
        "    next_greater_map = {}\n",
        "    stack = []\n",
        "\n",
        "    # Calculate the frequency of each element\n",
        "    for num in arr:\n",
        "        frequency_map[num] = frequency_map.get(num, 0) + 1\n",
        "\n",
        "    # Find the nearest element to the right with a greater frequency\n",
        "    for i in range(len(arr) - 1, -1, -1):\n",
        "        while stack and frequency_map[arr[i]] >= frequency_map[stack[-1]]:\n",
        "            stack.pop()\n",
        "\n",
        "        if stack:\n",
        "            next_greater_map[arr[i]] = stack[-1]\n",
        "        else:\n",
        "            next_greater_map[arr[i]] = -1\n",
        "\n",
        "        stack.append(arr[i])\n",
        "\n",
        "    # Update the values based on the next_greater_map\n",
        "    for i in range(len(arr)):\n",
        "        if arr[i] in next_greater_map:\n",
        "            arr[i] = next_greater_map[arr[i]]\n",
        "        else:\n",
        "            arr[i] = -1\n",
        "\n",
        "    return arr\n"
      ]
    },
    {
      "cell_type": "markdown",
      "source": [
        "Answer No.2 :-"
      ],
      "metadata": {
        "id": "A1qK3atRmw7y"
      }
    },
    {
      "cell_type": "code",
      "source": [
        "stack = [4, 2, 7, 1, 5]\n",
        "def sortStack(stack):\n",
        "    temp_stack = []\n",
        "\n",
        "    while stack:\n",
        "        temp = stack.pop()\n",
        "\n",
        "        while temp_stack and temp_stack[-1] < temp:\n",
        "            stack.append(temp_stack.pop())\n",
        "\n",
        "        temp_stack.append(temp)\n",
        "\n",
        "    # Transfer elements from temporary stack back to input stack\n",
        "    while temp_stack:\n",
        "        stack.append(temp_stack.pop())\n",
        "\n",
        "    return stack\n",
        "\n",
        "sorted_stack = sortStack(stack)\n",
        "print(sorted_stack)\n"
      ],
      "metadata": {
        "colab": {
          "base_uri": "https://localhost:8080/"
        },
        "id": "V11V336wmtUJ",
        "outputId": "66fd1a81-a42b-4b46-d6d1-03e8e57bffb7"
      },
      "execution_count": 12,
      "outputs": [
        {
          "output_type": "stream",
          "name": "stdout",
          "text": [
            "[1, 2, 4, 5, 7]\n"
          ]
        }
      ]
    },
    {
      "cell_type": "markdown",
      "source": [
        "Answer No.3 :-"
      ],
      "metadata": {
        "id": "WAtWUUkdmwZv"
      }
    },
    {
      "cell_type": "code",
      "source": [
        "stack = [1, 2, 3, 4, 5]\n",
        "def deleteMiddle(stack):\n",
        "    if len(stack) == 0:\n",
        "        return None\n",
        "\n",
        "    size = len(stack)\n",
        "    middle_pos = (size // 2) + 1\n",
        "\n",
        "    return deleteMiddleUtil(stack, middle_pos)\n",
        "\n",
        "def deleteMiddleUtil(stack, pos):\n",
        "    if pos == 1:\n",
        "        return stack.pop()\n",
        "\n",
        "    top = stack.pop()\n",
        "    result = deleteMiddleUtil(stack, pos - 1)\n",
        "    stack.append(top)\n",
        "\n",
        "    return result\n",
        "\n",
        "deleted_element = deleteMiddle(stack)\n",
        "print(deleted_element)\n",
        "print(stack)\n"
      ],
      "metadata": {
        "colab": {
          "base_uri": "https://localhost:8080/"
        },
        "id": "lRaD5WPAmtIl",
        "outputId": "b9fa8119-48f3-48e1-e709-927993087a3c"
      },
      "execution_count": 9,
      "outputs": [
        {
          "output_type": "stream",
          "name": "stdout",
          "text": [
            "3\n",
            "[1, 2, 4, 5]\n"
          ]
        }
      ]
    },
    {
      "cell_type": "markdown",
      "source": [
        "Answer No.4 :-"
      ],
      "metadata": {
        "id": "MOFCB3tomwAA"
      }
    },
    {
      "cell_type": "code",
      "source": [
        "def arrangeElements(queue):\n",
        "    stack = []\n",
        "    otherQueue = []\n",
        "\n",
        "    while not queue.empty():\n",
        "        current = queue.get()\n",
        "\n",
        "        if len(otherQueue) == 0 or current > otherQueue[0]:\n",
        "            otherQueue.append(current)\n",
        "        elif len(stack) == 0 or current > stack[-1]:\n",
        "            stack.append(current)\n",
        "        else:\n",
        "            return False\n",
        "\n",
        "    while len(stack) > 0:\n",
        "        otherQueue.append(stack.pop())\n",
        "\n",
        "    for i in range(len(otherQueue) - 1):\n",
        "        if otherQueue[i] > otherQueue[i + 1]:\n",
        "            return False\n",
        "\n",
        "    return True\n"
      ],
      "metadata": {
        "id": "lc8xwoIkmsXf"
      },
      "execution_count": 8,
      "outputs": []
    },
    {
      "cell_type": "markdown",
      "source": [
        "Answer No.5 :-"
      ],
      "metadata": {
        "id": "n0u_SLwimvoy"
      }
    },
    {
      "cell_type": "code",
      "source": [
        "num = 12345\n",
        "def reverseNumber(num):\n",
        "    # Convert the number to a string\n",
        "    num_str = str(num)\n",
        "\n",
        "    # Initialize an empty stack\n",
        "    stack = []\n",
        "\n",
        "    # Push each character onto the stack\n",
        "    for char in num_str:\n",
        "        stack.append(char)\n",
        "\n",
        "    # Initialize an empty string\n",
        "    reversed_str = \"\"\n",
        "\n",
        "    # Pop each character from the stack and append it to the string\n",
        "    while len(stack) > 0:\n",
        "        reversed_str += stack.pop()\n",
        "\n",
        "    # Convert the string back to an integer\n",
        "    reversed_num = int(reversed_str)\n",
        "\n",
        "    return reversed_num\n",
        "\n",
        "reversed_num = reverseNumber(num)\n",
        "print(reversed_num)\n"
      ],
      "metadata": {
        "colab": {
          "base_uri": "https://localhost:8080/"
        },
        "id": "rH8AbxxRqG0K",
        "outputId": "b9415e6b-e8dd-498b-c90e-6086108edc05"
      },
      "execution_count": 10,
      "outputs": [
        {
          "output_type": "stream",
          "name": "stdout",
          "text": [
            "54321\n"
          ]
        }
      ]
    },
    {
      "cell_type": "markdown",
      "source": [
        "Answer No.6 :-"
      ],
      "metadata": {
        "id": "c0EYdV8bmvQg"
      }
    },
    {
      "cell_type": "code",
      "source": [
        "from queue import Queue\n",
        "queue = Queue()\n",
        "queue.put(1)\n",
        "queue.put(2)\n",
        "queue.put(3)\n",
        "queue.put(4)\n",
        "queue.put(5)\n",
        "\n",
        "k = 3\n",
        "def reverseFirstK(queue, k):\n",
        "    if k <= 0 or k > queue.qsize():\n",
        "        return\n",
        "\n",
        "    stack = []\n",
        "\n",
        "    # Push the first k elements of the queue onto the stack\n",
        "    for _ in range(k):\n",
        "        element = queue.get()\n",
        "        stack.append(element)\n",
        "\n",
        "    # Pop the elements from the stack and enqueue them back into the queue\n",
        "    while stack:\n",
        "        element = stack.pop()\n",
        "        queue.put(element)\n",
        "\n",
        "    # Enqueue the remaining elements back into the queue\n",
        "    for _ in range(queue.qsize() - k):\n",
        "        element = queue.get()\n",
        "        queue.put(element)\n",
        "\n",
        "\n",
        "print(\"Before reversing:\", list(queue.queue))\n",
        "\n",
        "reverseFirstK(queue, k)\n",
        "\n",
        "print(\"After reversing:\", list(queue.queue))\n"
      ],
      "metadata": {
        "colab": {
          "base_uri": "https://localhost:8080/"
        },
        "id": "ruh5EKVJmsSl",
        "outputId": "db1ff2e9-a61c-41a1-a939-90ec832912c4"
      },
      "execution_count": 3,
      "outputs": [
        {
          "output_type": "stream",
          "name": "stdout",
          "text": [
            "Before reversing: [1, 2, 3, 4, 5]\n",
            "After reversing: [3, 2, 1, 4, 5]\n"
          ]
        }
      ]
    },
    {
      "cell_type": "markdown",
      "source": [
        "Answer No.7 :-"
      ],
      "metadata": {
        "id": "-z-YP5vbmu4n"
      }
    },
    {
      "cell_type": "code",
      "source": [
        "sequence = [\"hello\", \"world\", \"world\", \"destroy\", \"hello\", \"destroy\", \"destroy\", \"world\", \"left\"]\n",
        "def countWordsAfterDestruction(words):\n",
        "    stack = []\n",
        "\n",
        "    for word in words:\n",
        "        if stack and stack[-1] == word:\n",
        "            stack.pop()  # Destroy the similar words\n",
        "        else:\n",
        "            stack.append(word)\n",
        "\n",
        "    return len(stack)\n",
        "\n",
        "result = countWordsAfterDestruction(sequence)\n",
        "print(\"Number of words left:\", result)\n"
      ],
      "metadata": {
        "colab": {
          "base_uri": "https://localhost:8080/"
        },
        "id": "Bmsr8E0hmsPK",
        "outputId": "d2bb8dcb-fe63-4b6c-ca07-c3084f62e0e2"
      },
      "execution_count": 2,
      "outputs": [
        {
          "output_type": "stream",
          "name": "stdout",
          "text": [
            "Number of words left: 5\n"
          ]
        }
      ]
    },
    {
      "cell_type": "markdown",
      "source": [
        "Answer No.8 :-"
      ],
      "metadata": {
        "id": "qEpudH3vmugR"
      }
    },
    {
      "cell_type": "code",
      "source": [
        "array = [2, 1, 8, 7, 6, 5]\n",
        "def maxDifference(arr):\n",
        "    n = len(arr)\n",
        "    left_smaller = [0] * n\n",
        "    right_smaller = [0] * n\n",
        "    stack = []\n",
        "\n",
        "    # Find the nearest smaller element on the left side for each element\n",
        "    for i in range(n):\n",
        "        while stack and stack[-1] >= arr[i]:\n",
        "            stack.pop()\n",
        "        if stack:\n",
        "            left_smaller[i] = stack[-1]\n",
        "        stack.append(arr[i])\n",
        "\n",
        "    # Clear the stack\n",
        "    stack = []\n",
        "\n",
        "    # Find the nearest smaller element on the right side for each element\n",
        "    for i in range(n-1, -1, -1):\n",
        "        while stack and stack[-1] >= arr[i]:\n",
        "            stack.pop()\n",
        "        if stack:\n",
        "            right_smaller[i] = stack[-1]\n",
        "        stack.append(arr[i])\n",
        "\n",
        "    max_diff = 0\n",
        "\n",
        "    # Compute the maximum absolute difference between the nearest left and right smaller elements\n",
        "    for i in range(n):\n",
        "        diff = abs(left_smaller[i] - right_smaller[i])\n",
        "        max_diff = max(max_diff, diff)\n",
        "\n",
        "    return max_diff\n",
        "\n",
        "result = maxDifference(array)\n",
        "print(\"Maximum absolute difference:\", result)\n"
      ],
      "metadata": {
        "colab": {
          "base_uri": "https://localhost:8080/"
        },
        "id": "GydQ65JtmsNj",
        "outputId": "178ea6cb-e8c6-46a1-c11f-f16c31078d16"
      },
      "execution_count": 1,
      "outputs": [
        {
          "output_type": "stream",
          "name": "stdout",
          "text": [
            "Maximum absolute difference: 6\n"
          ]
        }
      ]
    }
  ]
}