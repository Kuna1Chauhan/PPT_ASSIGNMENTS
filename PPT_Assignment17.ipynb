{
 "cells": [
  {
   "cell_type": "code",
   "execution_count": 1,
   "id": "97860577",
   "metadata": {},
   "outputs": [
    {
     "name": "stdout",
     "output_type": "stream",
     "text": [
      "0\n"
     ]
    }
   ],
   "source": [
    "##Answer No.1 :-\n",
    "\n",
    "def firstUniqChar(s):\n",
    "    char_counts = {}\n",
    "\n",
    "    for char in s:\n",
    "        if char not in char_counts:\n",
    "            char_counts[char] = 1\n",
    "        else:\n",
    "            char_counts[char] += 1\n",
    "\n",
    "    for i, char in enumerate(s):\n",
    "        if char_counts[char] == 1:\n",
    "            return i\n",
    "\n",
    "    return -1\n",
    "\n",
    "s = \"leetcode\"\n",
    "print(firstUniqChar(s))"
   ]
  },
  {
   "cell_type": "code",
   "execution_count": 2,
   "id": "baaa31cb",
   "metadata": {},
   "outputs": [
    {
     "name": "stdout",
     "output_type": "stream",
     "text": [
      "2\n"
     ]
    }
   ],
   "source": [
    "##Answer No.2 :-\n",
    "\n",
    "def maxSubarraySumCircular(nums):\n",
    "    max_sum = nums[0]\n",
    "    cur_sum = nums[0]\n",
    "\n",
    "    # First pass of Kadane's algorithm\n",
    "    for num in nums[1:]:\n",
    "        cur_sum = max(num, cur_sum + num)\n",
    "        max_sum = max(max_sum, cur_sum)\n",
    "\n",
    "    # Check if max_sum is negative\n",
    "    if max_sum < 0:\n",
    "        return max_sum\n",
    "\n",
    "    # Reset max_sum and cur_sum\n",
    "    max_sum = 0\n",
    "    cur_sum = 0\n",
    "\n",
    "    # Second pass of Kadane's algorithm\n",
    "    for num in nums:\n",
    "        cur_sum = min(num, cur_sum + num)\n",
    "        max_sum = min(max_sum, cur_sum)\n",
    "\n",
    "    # Calculate total sum\n",
    "    total_sum = sum(nums)\n",
    "\n",
    "    # Calculate maximum subarray sum with circular wrapping\n",
    "    max_sum_with_wrap = total_sum - max_sum\n",
    "\n",
    "    # Return the maximum between max_sum and max_sum_with_wrap\n",
    "    return max(max_sum, max_sum_with_wrap)\n",
    "\n",
    "nums = [1, -2, 3, -2]\n",
    "print(maxSubarraySumCircular(nums))"
   ]
  },
  {
   "cell_type": "code",
   "execution_count": 3,
   "id": "4f57c59d",
   "metadata": {},
   "outputs": [
    {
     "name": "stdout",
     "output_type": "stream",
     "text": [
      "0\n"
     ]
    }
   ],
   "source": [
    "##Answer No.3 :-\n",
    "\n",
    "def countStudents(students, sandwiches):\n",
    "    unable_to_eat = 0\n",
    "\n",
    "    while students and sandwiches:\n",
    "        if students[0] == sandwiches[0]:\n",
    "            students.pop(0)\n",
    "            sandwiches.pop(0)\n",
    "            unable_to_eat = 0\n",
    "        else:\n",
    "            students.append(students.pop(0))\n",
    "            unable_to_eat += 1\n",
    "\n",
    "        if unable_to_eat == len(students):\n",
    "            break\n",
    "\n",
    "    return len(students)\n",
    "\n",
    "students = [1, 1, 0, 0]\n",
    "sandwiches = [0, 1, 0, 1]\n",
    "print(countStudents(students, sandwiches))"
   ]
  },
  {
   "cell_type": "code",
   "execution_count": 4,
   "id": "e2ad6093",
   "metadata": {},
   "outputs": [
    {
     "name": "stdout",
     "output_type": "stream",
     "text": [
      "1\n"
     ]
    }
   ],
   "source": [
    "##Answer No.4 :-\n",
    "\n",
    "from collections import deque\n",
    "\n",
    "class RecentCounter:\n",
    "    def __init__(self):\n",
    "        self.requests = deque()\n",
    "\n",
    "    def ping(self, t: int) -> int:\n",
    "        self.requests.append(t)\n",
    "        while self.requests[0] < t - 3000:\n",
    "            self.requests.popleft()\n",
    "        return len(self.requests)\n",
    "\n",
    "counter = RecentCounter()\n",
    "print(counter.ping(1))"
   ]
  },
  {
   "cell_type": "code",
   "execution_count": 5,
   "id": "bd3405b4",
   "metadata": {},
   "outputs": [
    {
     "name": "stdout",
     "output_type": "stream",
     "text": [
      "4\n"
     ]
    }
   ],
   "source": [
    "##Answer No.5 :-\n",
    "\n",
    "class ListNode:\n",
    "    def __init__(self, val=0, next=None):\n",
    "        self.val = val\n",
    "        self.next = next\n",
    "\n",
    "def findWinner(n: int, k: int) -> int:\n",
    "    # Create a circular linked list\n",
    "    head = ListNode(1)\n",
    "    current = head\n",
    "    for i in range(2, n + 1):\n",
    "        current.next = ListNode(i)\n",
    "        current = current.next\n",
    "    current.next = head\n",
    "\n",
    "    # Simulate the game\n",
    "    current = head\n",
    "    while current.next != current:\n",
    "        # Move k-1 steps\n",
    "        for _ in range(k - 1):\n",
    "            current = current.next\n",
    "        # Remove the next friend\n",
    "        current.next = current.next.next\n",
    "        # Move to the next friend\n",
    "        current = current.next\n",
    "\n",
    "    return current.val\n",
    "\n",
    "print(findWinner(5, 2))"
   ]
  },
  {
   "cell_type": "code",
   "execution_count": 6,
   "id": "1ce12000",
   "metadata": {},
   "outputs": [
    {
     "name": "stdout",
     "output_type": "stream",
     "text": [
      "[2, 13, 3, 11, 5, 17, 7]\n"
     ]
    }
   ],
   "source": [
    "##Answer No.6 :-\n",
    "\n",
    "from collections import deque\n",
    "\n",
    "def revealCardsInIncreasingOrder(deck):\n",
    "    deck.sort(reverse=True)\n",
    "    queue = deque()\n",
    "    for card in deck:\n",
    "        if queue:\n",
    "            queue.append(queue.popleft())\n",
    "        queue.append(card)\n",
    "    result = []\n",
    "    while queue:\n",
    "        result.append(queue.popleft())\n",
    "    return result[::-1]\n",
    "\n",
    "deck = [17, 13, 11, 2, 3, 5, 7]\n",
    "print(revealCardsInIncreasingOrder(deck))"
   ]
  },
  {
   "cell_type": "code",
   "execution_count": 7,
   "id": "d1c71956",
   "metadata": {},
   "outputs": [
    {
     "name": "stdout",
     "output_type": "stream",
     "text": [
      "1\n"
     ]
    }
   ],
   "source": [
    "##Answer No.7 :-\n",
    "\n",
    "from collections import deque\n",
    "\n",
    "class FrontMiddleBack:\n",
    "    def __init__(self):\n",
    "        self.front = deque()\n",
    "        self.back = deque()\n",
    "        self.middle = None\n",
    "\n",
    "    def pushFront(self, val):\n",
    "        self.front.appendleft(val)\n",
    "        self._balance()\n",
    "\n",
    "    def pushMiddle(self, val):\n",
    "        if len(self.front) > len(self.back):\n",
    "            self.back.appendleft(self.front.pop())\n",
    "        self.front.append(val)\n",
    "        self._balance()\n",
    "\n",
    "    def pushBack(self, val):\n",
    "        self.back.append(val)\n",
    "        self._balance()\n",
    "\n",
    "    def popFront(self):\n",
    "        if not self.front and not self.back:\n",
    "            return -1\n",
    "        if self.front:\n",
    "            return self.front.popleft()\n",
    "        self.front.append(self.back.popleft())\n",
    "        return self.front.popleft()\n",
    "\n",
    "    def popMiddle(self):\n",
    "        if not self.front and not self.back:\n",
    "            return -1\n",
    "        if len(self.front) == len(self.back):\n",
    "            return self.front.pop()\n",
    "        return self.front.popleft()\n",
    "\n",
    "    def popBack(self):\n",
    "        if not self.front and not self.back:\n",
    "            return -1\n",
    "        if self.back:\n",
    "            return self.back.pop()\n",
    "        self.back.appendleft(self.front.pop())\n",
    "        return self.back.pop()\n",
    "\n",
    "    def _balance(self):\n",
    "        while len(self.front) > len(self.back) + 1:\n",
    "            self.back.appendleft(self.front.pop())\n",
    "        while len(self.front) < len(self.back):\n",
    "            self.front.append(self.back.popleft())\n",
    "\n",
    "fmb = FrontMiddleBack()\n",
    "\n",
    "fmb.pushFront(1)\n",
    "fmb.pushBack(2)\n",
    "fmb.pushMiddle(3)\n",
    "print(fmb.popFront())\n"
   ]
  },
  {
   "cell_type": "code",
   "execution_count": 8,
   "id": "539db26d",
   "metadata": {},
   "outputs": [
    {
     "name": "stdout",
     "output_type": "stream",
     "text": [
      "False\n"
     ]
    }
   ],
   "source": [
    "##Answer No.8 :-\n",
    "\n",
    "from collections import deque\n",
    "\n",
    "class DataStream:\n",
    "    def __init__(self, value, k):\n",
    "        self.stream = deque()\n",
    "        self.value = value\n",
    "        self.k = k\n",
    "\n",
    "    def consec(self, num):\n",
    "        self.stream.append(num)\n",
    "        if len(self.stream) < self.k:\n",
    "            return False\n",
    "        return list(self.stream)[-self.k:] == [self.value] * self.k\n",
    "\n",
    "ds = DataStream(4, 3)\n",
    "\n",
    "print(ds.consec(4))"
   ]
  }
 ],
 "metadata": {
  "kernelspec": {
   "display_name": "Python 3",
   "language": "python",
   "name": "python3"
  },
  "language_info": {
   "codemirror_mode": {
    "name": "ipython",
    "version": 3
   },
   "file_extension": ".py",
   "mimetype": "text/x-python",
   "name": "python",
   "nbconvert_exporter": "python",
   "pygments_lexer": "ipython3",
   "version": "3.8.8"
  }
 },
 "nbformat": 4,
 "nbformat_minor": 5
}
