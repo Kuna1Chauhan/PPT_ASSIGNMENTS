{
 "cells": [
  {
   "cell_type": "code",
   "execution_count": 1,
   "id": "572a9e8c",
   "metadata": {},
   "outputs": [
    {
     "name": "stdout",
     "output_type": "stream",
     "text": [
      "[[1, 6], [8, 10], [15, 18]]\n"
     ]
    }
   ],
   "source": [
    "##Answer No.1 :-\n",
    "\n",
    "def merge(intervals):\n",
    "    # Sort the intervals based on their start times\n",
    "    intervals.sort(key=lambda x: x[0])\n",
    "    \n",
    "    merged = []\n",
    "    for interval in intervals:\n",
    "        # If the merged list is empty or the current interval does not overlap with the previous interval, add it to the merged list\n",
    "        if not merged or interval[0] > merged[-1][1]:\n",
    "            merged.append(interval)\n",
    "        else:\n",
    "            # If the current interval overlaps with the previous interval, merge them by updating the end time\n",
    "            merged[-1][1] = max(merged[-1][1], interval[1])\n",
    "    \n",
    "    return merged\n",
    "\n",
    "intervals = [[1, 3], [2, 6], [8, 10], [15, 18]]\n",
    "result = merge(intervals)\n",
    "print(result)"
   ]
  },
  {
   "cell_type": "code",
   "execution_count": 2,
   "id": "0d428ca4",
   "metadata": {},
   "outputs": [
    {
     "name": "stdout",
     "output_type": "stream",
     "text": [
      "[0, 0, 1, 1, 2, 2]\n"
     ]
    }
   ],
   "source": [
    "##Answer No.2 :-\n",
    "\n",
    "def sortColors(nums):\n",
    "    # Initialize pointers for the boundaries of the three colors\n",
    "    low = 0  # Pointer for 0 (red)\n",
    "    mid = 0  # Pointer for 1 (white)\n",
    "    high = len(nums) - 1  # Pointer for 2 (blue)\n",
    "\n",
    "    # Iterate until the mid pointer crosses the high pointer\n",
    "    while mid <= high:\n",
    "        if nums[mid] == 0:\n",
    "            # If the current element is 0, swap it with the element at the low pointer\n",
    "            nums[low], nums[mid] = nums[mid], nums[low]\n",
    "            low += 1\n",
    "            mid += 1\n",
    "        elif nums[mid] == 1:\n",
    "            # If the current element is 1, move to the next element (mid pointer)\n",
    "            mid += 1\n",
    "        else:\n",
    "            # If the current element is 2, swap it with the element at the high pointer\n",
    "            nums[mid], nums[high] = nums[high], nums[mid]\n",
    "            high -= 1\n",
    "\n",
    "    return nums\n",
    "\n",
    "nums = [2, 0, 2, 1, 1, 0]\n",
    "result = sortColors(nums)\n",
    "print(result)"
   ]
  },
  {
   "cell_type": "code",
   "execution_count": 7,
   "id": "fa6a03bd",
   "metadata": {},
   "outputs": [
    {
     "ename": "NameError",
     "evalue": "name 'isBadVersion' is not defined",
     "output_type": "error",
     "traceback": [
      "\u001b[1;31m---------------------------------------------------------------------------\u001b[0m",
      "\u001b[1;31mNameError\u001b[0m                                 Traceback (most recent call last)",
      "\u001b[1;32m<ipython-input-7-8a12d529ad48>\u001b[0m in \u001b[0;36m<module>\u001b[1;34m\u001b[0m\n\u001b[0;32m     16\u001b[0m \u001b[0mn\u001b[0m \u001b[1;33m=\u001b[0m \u001b[1;36m5\u001b[0m\u001b[1;33m\u001b[0m\u001b[1;33m\u001b[0m\u001b[0m\n\u001b[0;32m     17\u001b[0m \u001b[0mbad\u001b[0m \u001b[1;33m=\u001b[0m \u001b[1;36m4\u001b[0m\u001b[1;33m\u001b[0m\u001b[1;33m\u001b[0m\u001b[0m\n\u001b[1;32m---> 18\u001b[1;33m \u001b[0mfirst_bad\u001b[0m \u001b[1;33m=\u001b[0m \u001b[0mfirstBadVersion\u001b[0m\u001b[1;33m(\u001b[0m\u001b[0mn\u001b[0m\u001b[1;33m)\u001b[0m\u001b[1;33m\u001b[0m\u001b[1;33m\u001b[0m\u001b[0m\n\u001b[0m\u001b[0;32m     19\u001b[0m \u001b[0mprint\u001b[0m\u001b[1;33m(\u001b[0m\u001b[0mfirst_bad\u001b[0m\u001b[1;33m)\u001b[0m\u001b[1;33m\u001b[0m\u001b[1;33m\u001b[0m\u001b[0m\n",
      "\u001b[1;32m<ipython-input-7-8a12d529ad48>\u001b[0m in \u001b[0;36mfirstBadVersion\u001b[1;34m(n)\u001b[0m\n\u001b[0;32m      7\u001b[0m     \u001b[1;32mwhile\u001b[0m \u001b[0mleft\u001b[0m \u001b[1;33m<\u001b[0m \u001b[0mright\u001b[0m\u001b[1;33m:\u001b[0m\u001b[1;33m\u001b[0m\u001b[1;33m\u001b[0m\u001b[0m\n\u001b[0;32m      8\u001b[0m         \u001b[0mmid\u001b[0m \u001b[1;33m=\u001b[0m \u001b[0mleft\u001b[0m \u001b[1;33m+\u001b[0m \u001b[1;33m(\u001b[0m\u001b[0mright\u001b[0m \u001b[1;33m-\u001b[0m \u001b[0mleft\u001b[0m\u001b[1;33m)\u001b[0m \u001b[1;33m//\u001b[0m \u001b[1;36m2\u001b[0m\u001b[1;33m\u001b[0m\u001b[1;33m\u001b[0m\u001b[0m\n\u001b[1;32m----> 9\u001b[1;33m         \u001b[1;32mif\u001b[0m \u001b[0misBadVersion\u001b[0m\u001b[1;33m(\u001b[0m\u001b[0mmid\u001b[0m\u001b[1;33m)\u001b[0m\u001b[1;33m:\u001b[0m\u001b[1;33m\u001b[0m\u001b[1;33m\u001b[0m\u001b[0m\n\u001b[0m\u001b[0;32m     10\u001b[0m             \u001b[0mright\u001b[0m \u001b[1;33m=\u001b[0m \u001b[0mmid\u001b[0m\u001b[1;33m\u001b[0m\u001b[1;33m\u001b[0m\u001b[0m\n\u001b[0;32m     11\u001b[0m         \u001b[1;32melse\u001b[0m\u001b[1;33m:\u001b[0m\u001b[1;33m\u001b[0m\u001b[1;33m\u001b[0m\u001b[0m\n",
      "\u001b[1;31mNameError\u001b[0m: name 'isBadVersion' is not defined"
     ]
    }
   ],
   "source": [
    "##Answer No.3 :-\n",
    "\n",
    "def firstBadVersion(n):\n",
    "    left = 1\n",
    "    right = n\n",
    "    \n",
    "    while left < right:\n",
    "        mid = left + (right - left) // 2\n",
    "        if isBadVersion(mid):\n",
    "            right = mid\n",
    "        else:\n",
    "            left = mid + 1\n",
    "    \n",
    "    return left\n",
    "\n",
    "n = 5\n",
    "bad = 4\n",
    "first_bad = firstBadVersion(n)\n",
    "print(first_bad)"
   ]
  },
  {
   "cell_type": "code",
   "execution_count": 4,
   "id": "c5c60b9d",
   "metadata": {},
   "outputs": [
    {
     "name": "stdout",
     "output_type": "stream",
     "text": [
      "3\n"
     ]
    }
   ],
   "source": [
    "##Answer No.4 :-\n",
    "\n",
    "def maximumGap(nums):\n",
    "    if len(nums) < 2:\n",
    "        return 0\n",
    "    \n",
    "    # Find the maximum element in the array\n",
    "    max_num = max(nums)\n",
    "    \n",
    "    # Initialize the bucket size and number of buckets\n",
    "    bucket_size = max(1, (max_num - min(nums)) // (len(nums) - 1))\n",
    "    num_buckets = (max_num - min(nums)) // bucket_size + 1\n",
    "    \n",
    "    # Initialize the buckets\n",
    "    buckets = [[float('inf'), float('-inf')] for _ in range(num_buckets)]\n",
    "    \n",
    "    # Assign each element to the corresponding bucket\n",
    "    for num in nums:\n",
    "        index = (num - min(nums)) // bucket_size\n",
    "        buckets[index][0] = min(buckets[index][0], num)\n",
    "        buckets[index][1] = max(buckets[index][1], num)\n",
    "    \n",
    "    # Calculate the maximum gap\n",
    "    prev_max = min(nums)\n",
    "    max_gap = 0\n",
    "    \n",
    "    for bucket in buckets:\n",
    "        if bucket[0] == float('inf') or bucket[1] == float('-inf'):\n",
    "            continue\n",
    "        max_gap = max(max_gap, bucket[0] - prev_max)\n",
    "        prev_max = bucket[1]\n",
    "    \n",
    "    return max_gap\n",
    "\n",
    "nums = [3, 6, 9, 1]\n",
    "max_gap = maximumGap(nums)\n",
    "print(max_gap)"
   ]
  },
  {
   "cell_type": "code",
   "execution_count": 5,
   "id": "108ecc47",
   "metadata": {},
   "outputs": [
    {
     "name": "stdout",
     "output_type": "stream",
     "text": [
      "True\n"
     ]
    }
   ],
   "source": [
    "##Answer No.5 :-\n",
    "\n",
    "def containsDuplicate(nums):\n",
    "    unique_nums = set()\n",
    "    for num in nums:\n",
    "        if num in unique_nums:\n",
    "            return True\n",
    "        unique_nums.add(num)\n",
    "    return False\n",
    "\n",
    "nums = [1, 2, 3, 1]\n",
    "result = containsDuplicate(nums)\n",
    "print(result)  "
   ]
  },
  {
   "cell_type": "code",
   "execution_count": 8,
   "id": "8952ddf7",
   "metadata": {},
   "outputs": [
    {
     "name": "stdout",
     "output_type": "stream",
     "text": [
      "2\n"
     ]
    }
   ],
   "source": [
    "##Answer No.6 :-\n",
    "\n",
    "def findMinArrowShots(points):\n",
    "    points.sort(key=lambda x: x[1])  # Sort based on end coordinate\n",
    "    \n",
    "    count = 0\n",
    "    end = float('-inf')\n",
    "    \n",
    "    for balloon in points:\n",
    "        if balloon[0] > end:\n",
    "            count += 1\n",
    "            end = balloon[1]\n",
    "    \n",
    "    return count\n",
    "\n",
    "points = [[10,16],[2,8],[1,6],[7,12]]\n",
    "print(findMinArrowShots(points))"
   ]
  },
  {
   "cell_type": "code",
   "execution_count": 9,
   "id": "07d6ed51",
   "metadata": {},
   "outputs": [
    {
     "name": "stdout",
     "output_type": "stream",
     "text": [
      "4\n"
     ]
    }
   ],
   "source": [
    "##Answer No.7 :-\n",
    "\n",
    "def lengthOfLIS(nums):\n",
    "    n = len(nums)\n",
    "    dp = [1] * n\n",
    "\n",
    "    for i in range(1, n):\n",
    "        for j in range(i):\n",
    "            if nums[i] > nums[j]:\n",
    "                dp[i] = max(dp[i], dp[j] + 1)\n",
    "\n",
    "    return max(dp)\n",
    "\n",
    "nums = [10, 9, 2, 5, 3, 7, 101, 18]\n",
    "print(lengthOfLIS(nums))"
   ]
  },
  {
   "cell_type": "code",
   "execution_count": 10,
   "id": "055c68c2",
   "metadata": {},
   "outputs": [
    {
     "name": "stdout",
     "output_type": "stream",
     "text": [
      "True\n"
     ]
    }
   ],
   "source": [
    "##Answer No.8 :-\n",
    "\n",
    "def find132pattern(nums):\n",
    "    stack = []\n",
    "    s3 = float('-inf')\n",
    "\n",
    "    for num in reversed(nums):\n",
    "        if num > s3:\n",
    "            return True\n",
    "        while stack and stack[-1] < num:\n",
    "            s3 = stack.pop()\n",
    "        stack.append(num)\n",
    "\n",
    "    return False\n",
    "\n",
    "nums = [1, 2, 3, 4]\n",
    "print(find132pattern(nums))"
   ]
  }
 ],
 "metadata": {
  "kernelspec": {
   "display_name": "Python 3",
   "language": "python",
   "name": "python3"
  },
  "language_info": {
   "codemirror_mode": {
    "name": "ipython",
    "version": 3
   },
   "file_extension": ".py",
   "mimetype": "text/x-python",
   "name": "python",
   "nbconvert_exporter": "python",
   "pygments_lexer": "ipython3",
   "version": "3.8.8"
  }
 },
 "nbformat": 4,
 "nbformat_minor": 5
}
