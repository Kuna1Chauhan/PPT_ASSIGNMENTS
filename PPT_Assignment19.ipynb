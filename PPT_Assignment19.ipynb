{
 "cells": [
  {
   "cell_type": "code",
   "execution_count": 3,
   "id": "4574a3f4",
   "metadata": {},
   "outputs": [
    {
     "name": "stdout",
     "output_type": "stream",
     "text": [
      "Merged list:\n",
      "1 1 2 3 4 4 5 6 "
     ]
    }
   ],
   "source": [
    "##Answer No.1 :-\n",
    "\n",
    "import heapq\n",
    "\n",
    "class ListNode:\n",
    "    def __init__(self, val=0, next=None):\n",
    "        self.val = val\n",
    "        self.next = next\n",
    "\n",
    "\n",
    "def mergeKLists(lists):\n",
    "    # Create a min-heap to store the minimum element from each list\n",
    "    min_heap = []\n",
    "\n",
    "    # Push the head node of each list into the min-heap\n",
    "    for i in range(len(lists)):\n",
    "        if lists[i]:\n",
    "            heapq.heappush(min_heap, (lists[i].val, i))\n",
    "\n",
    "    # Create a dummy node as the head of the merged list\n",
    "    dummy = ListNode(0)\n",
    "    curr = dummy\n",
    "\n",
    "    # Merge the lists until the min-heap is empty\n",
    "    while min_heap:\n",
    "        # Pop the minimum element from the min-heap\n",
    "        val, index = heapq.heappop(min_heap)\n",
    "\n",
    "        # Create a new node with the popped value\n",
    "        node = ListNode(val)\n",
    "        curr.next = node\n",
    "        curr = curr.next\n",
    "\n",
    "        # Move to the next node in the list\n",
    "        lists[index] = lists[index].next\n",
    "\n",
    "        # Push the next node into the min-heap if it exists\n",
    "        if lists[index]:\n",
    "            heapq.heappush(min_heap, (lists[index].val, index))\n",
    "\n",
    "    return dummy.next\n",
    "\n",
    "\n",
    "# Create the linked lists\n",
    "list1 = ListNode(1)\n",
    "list1.next = ListNode(4)\n",
    "list1.next.next = ListNode(5)\n",
    "\n",
    "list2 = ListNode(1)\n",
    "list2.next = ListNode(3)\n",
    "list2.next.next = ListNode(4)\n",
    "\n",
    "list3 = ListNode(2)\n",
    "list3.next = ListNode(6)\n",
    "\n",
    "# Construct the lists array\n",
    "lists = [list1, list2, list3]\n",
    "\n",
    "# Merge the linked lists\n",
    "merged_list = mergeKLists(lists)\n",
    "\n",
    "# Function to print the merged list\n",
    "def printList(head):\n",
    "    curr = head\n",
    "    while curr:\n",
    "        print(curr.val, end=\" \")\n",
    "        curr = curr.next\n",
    "\n",
    "print(\"Merged list:\")\n",
    "printList(merged_list)"
   ]
  },
  {
   "cell_type": "code",
   "execution_count": 2,
   "id": "8c08790b",
   "metadata": {},
   "outputs": [
    {
     "name": "stdout",
     "output_type": "stream",
     "text": [
      "[2, 1, 1, 0]\n"
     ]
    }
   ],
   "source": [
    "##Answer No.2 :-\n",
    "\n",
    "def countSmaller(nums):\n",
    "    n = len(nums)\n",
    "    counts = [0] * n\n",
    "    indices = list(range(n))\n",
    "    \n",
    "    def mergeSort(arr, start, end):\n",
    "        if start >= end:\n",
    "            return\n",
    "        mid = (start + end) // 2\n",
    "        mergeSort(arr, start, mid)\n",
    "        mergeSort(arr, mid + 1, end)\n",
    "        merge(arr, start, mid, end)\n",
    "    \n",
    "    def merge(arr, start, mid, end):\n",
    "        temp = [0] * (end - start + 1)\n",
    "        i, j = start, mid + 1\n",
    "        k = 0\n",
    "        while i <= mid and j <= end:\n",
    "            if nums[indices[i]] <= nums[indices[j]]:\n",
    "                counts[indices[i]] += j - mid - 1\n",
    "                temp[k] = indices[i]\n",
    "                i += 1\n",
    "            else:\n",
    "                temp[k] = indices[j]\n",
    "                j += 1\n",
    "            k += 1\n",
    "        while i <= mid:\n",
    "            counts[indices[i]] += j - mid - 1\n",
    "            temp[k] = indices[i]\n",
    "            i += 1\n",
    "            k += 1\n",
    "        while j <= end:\n",
    "            temp[k] = indices[j]\n",
    "            j += 1\n",
    "            k += 1\n",
    "        for i in range(start, end + 1):\n",
    "            indices[i] = temp[i - start]\n",
    "    \n",
    "    mergeSort(nums, 0, n - 1)\n",
    "    return counts\n",
    "\n",
    "\n",
    "# Example usage\n",
    "nums = [5, 2, 6, 1]\n",
    "counts = countSmaller(nums)\n",
    "print(counts)"
   ]
  },
  {
   "cell_type": "code",
   "execution_count": 1,
   "id": "ec3fb2ba",
   "metadata": {},
   "outputs": [
    {
     "name": "stdout",
     "output_type": "stream",
     "text": [
      "[1, 2, 3, 5]\n"
     ]
    }
   ],
   "source": [
    "##Answer No.3 :-\n",
    "\n",
    "def sortArray(nums):\n",
    "    def partition(arr, low, high):\n",
    "        pivot = arr[high]\n",
    "        i = low - 1\n",
    "        for j in range(low, high):\n",
    "            if arr[j] <= pivot:\n",
    "                i += 1\n",
    "                arr[i], arr[j] = arr[j], arr[i]\n",
    "        arr[i + 1], arr[high] = arr[high], arr[i + 1]\n",
    "        return i + 1\n",
    "    \n",
    "    def quickSort(arr, low, high):\n",
    "        if low < high:\n",
    "            pi = partition(arr, low, high)\n",
    "            quickSort(arr, low, pi - 1)\n",
    "            quickSort(arr, pi + 1, high)\n",
    "    \n",
    "    quickSort(nums, 0, len(nums) - 1)\n",
    "    return nums\n",
    "\n",
    "\n",
    "# Example usage\n",
    "nums = [5, 2, 3, 1]\n",
    "sorted_nums = sortArray(nums)\n",
    "print(sorted_nums)"
   ]
  },
  {
   "cell_type": "code",
   "execution_count": 4,
   "id": "15e151d1",
   "metadata": {},
   "outputs": [
    {
     "name": "stdout",
     "output_type": "stream",
     "text": [
      "[1, 9, 8, 4, 2, 7, 6, 0, 0, 0, 0]\n"
     ]
    }
   ],
   "source": [
    "##Answer No.4 :-\n",
    "\n",
    "def moveZeroes(nums):\n",
    "    n = len(nums)\n",
    "    i = 0  # slow pointer\n",
    "    j = 0  # fast pointer\n",
    "    while j < n:\n",
    "        if nums[j] != 0:\n",
    "            nums[i] = nums[j]\n",
    "            i += 1\n",
    "        j += 1\n",
    "    while i < n:\n",
    "        nums[i] = 0\n",
    "        i += 1\n",
    "    return nums\n",
    "\n",
    "\n",
    "# Example usage\n",
    "nums = [1, 9, 8, 4, 0, 0, 2, 7, 0, 6, 0]\n",
    "result = moveZeroes(nums)\n",
    "print(result)"
   ]
  },
  {
   "cell_type": "code",
   "execution_count": 5,
   "id": "7f28ba6c",
   "metadata": {},
   "outputs": [
    {
     "name": "stdout",
     "output_type": "stream",
     "text": [
      "[1, 2, 3, -4, -1, 4]\n"
     ]
    }
   ],
   "source": [
    "##Answer No.5 :-\n",
    "\n",
    "def rearrangeArray(nums):\n",
    "    n = len(nums)\n",
    "    i = 0  # pointer for positive numbers\n",
    "    j = 0  # pointer for negative numbers\n",
    "\n",
    "    # Find the first positive number\n",
    "    while i < n and nums[i] < 0:\n",
    "        i += 1\n",
    "\n",
    "    # Rearrange the array\n",
    "    while i < n and j < n:\n",
    "        if nums[i] < 0:\n",
    "            nums[i], nums[j] = nums[j], nums[i]\n",
    "            i += 1\n",
    "            j += 2\n",
    "        else:\n",
    "            j += 1\n",
    "\n",
    "    return nums\n",
    "\n",
    "\n",
    "# Example usage\n",
    "nums = [1, 2, 3, -4, -1, 4]\n",
    "result = rearrangeArray(nums)\n",
    "print(result)"
   ]
  },
  {
   "cell_type": "code",
   "execution_count": 7,
   "id": "4a9d2f24",
   "metadata": {},
   "outputs": [
    {
     "name": "stdout",
     "output_type": "stream",
     "text": [
      "[1, 2, 3, 4, 4, 5, 6, 8]\n"
     ]
    }
   ],
   "source": [
    "##Answer No.6 :-\n",
    "\n",
    "def mergeSortedArrays(arr1, arr2):\n",
    "    n1 = len(arr1)\n",
    "    n2 = len(arr2)\n",
    "    merged = [0] * (n1 + n2)\n",
    "    i = 0  # Index for arr1\n",
    "    j = 0  # Index for arr2\n",
    "    k = 0  # Index for merged array\n",
    "    \n",
    "    # Merge elements from arr1 and arr2 into merged array\n",
    "    while i < n1 and j < n2:\n",
    "        if arr1[i] <= arr2[j]:\n",
    "            merged[k] = arr1[i]\n",
    "            i += 1\n",
    "        else:\n",
    "            merged[k] = arr2[j]\n",
    "            j += 1\n",
    "        k += 1\n",
    "    \n",
    "    # Copy the remaining elements from arr1, if any\n",
    "    while i < n1:\n",
    "        merged[k] = arr1[i]\n",
    "        i += 1\n",
    "        k += 1\n",
    "    \n",
    "    # Copy the remaining elements from arr2, if any\n",
    "    while j < n2:\n",
    "        merged[k] = arr2[j]\n",
    "        j += 1\n",
    "        k += 1\n",
    "    \n",
    "    return merged\n",
    "\n",
    "arr1 = [1, 3, 4, 5]\n",
    "arr2 = [2, 4, 6, 8]\n",
    "merged = mergeSortedArrays(arr1, arr2)\n",
    "print(merged)"
   ]
  },
  {
   "cell_type": "code",
   "execution_count": 6,
   "id": "9f44d1dc",
   "metadata": {},
   "outputs": [
    {
     "name": "stdout",
     "output_type": "stream",
     "text": [
      "[2]\n"
     ]
    }
   ],
   "source": [
    "##Answer No.7 :-\n",
    "\n",
    "\n",
    "nums1 = [1, 2, 2, 1]\n",
    "nums2 = [2, 2]\n",
    "def intersection(nums1, nums2):\n",
    "    set1 = set(nums1)\n",
    "    set2 = set(nums2)\n",
    "    return list(set1.intersection(set2))\n",
    "\n",
    "result = intersection(nums1, nums2)\n",
    "print(result)"
   ]
  },
  {
   "cell_type": "code",
   "execution_count": 8,
   "id": "ebec6c58",
   "metadata": {},
   "outputs": [
    {
     "name": "stdout",
     "output_type": "stream",
     "text": [
      "[2, 2]\n"
     ]
    }
   ],
   "source": [
    "##Answer No.8 :-\n",
    "\n",
    "from collections import Counter\n",
    "\n",
    "def intersect(nums1, nums2):\n",
    "    # Create a hash table to store the frequency of elements in nums1\n",
    "    counter = Counter(nums1)\n",
    "    result = []\n",
    "    \n",
    "    # Iterate over nums2 and check if each element exists in the hash table\n",
    "    for num in nums2:\n",
    "        if num in counter and counter[num] > 0:\n",
    "            result.append(num)\n",
    "            counter[num] -= 1\n",
    "    \n",
    "    return result\n",
    "\n",
    "nums1 = [1, 2, 2, 1]\n",
    "nums2 = [2, 2]\n",
    "result = intersect(nums1, nums2)\n",
    "print(result)"
   ]
  }
 ],
 "metadata": {
  "kernelspec": {
   "display_name": "Python 3",
   "language": "python",
   "name": "python3"
  },
  "language_info": {
   "codemirror_mode": {
    "name": "ipython",
    "version": 3
   },
   "file_extension": ".py",
   "mimetype": "text/x-python",
   "name": "python",
   "nbconvert_exporter": "python",
   "pygments_lexer": "ipython3",
   "version": "3.8.8"
  }
 },
 "nbformat": 4,
 "nbformat_minor": 5
}
