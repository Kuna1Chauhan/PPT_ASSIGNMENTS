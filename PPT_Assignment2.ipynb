{
  "nbformat": 4,
  "nbformat_minor": 0,
  "metadata": {
    "colab": {
      "provenance": []
    },
    "kernelspec": {
      "name": "python3",
      "display_name": "Python 3"
    },
    "language_info": {
      "name": "python"
    }
  },
  "cells": [
    {
      "cell_type": "markdown",
      "source": [
        "Answer no.1 :-"
      ],
      "metadata": {
        "id": "-8oFtwwpLrY6"
      }
    },
    {
      "cell_type": "code",
      "execution_count": 1,
      "metadata": {
        "colab": {
          "base_uri": "https://localhost:8080/"
        },
        "id": "fum7DrswLmJX",
        "outputId": "d5ef96fd-edcb-4e05-b596-d797ff9091ac"
      },
      "outputs": [
        {
          "output_type": "stream",
          "name": "stdout",
          "text": [
            "Output: 4\n"
          ]
        }
      ],
      "source": [
        "nums = [1, 4, 3, 2]\n",
        "def arrayPairSum(nums):\n",
        "    nums.sort()\n",
        "    n = len(nums)\n",
        "    max_sum = 0\n",
        "\n",
        "    for i in range(0, n, 2):\n",
        "        max_sum += nums[i]\n",
        "\n",
        "    return max_sum\n",
        "\n",
        "result = arrayPairSum(nums)\n",
        "print(\"Output:\", result)\n"
      ]
    },
    {
      "cell_type": "markdown",
      "source": [
        "Answer no.2 :-"
      ],
      "metadata": {
        "id": "mmxuhMSwMCd8"
      }
    },
    {
      "cell_type": "code",
      "source": [
        "candyType = [1, 1, 2, 2, 3, 3]\n",
        "def distributeCandies(candyType):\n",
        "    unique_candies = set(candyType)\n",
        "    max_candies = len(unique_candies)\n",
        "    max_eatable = len(candyType) // 2\n",
        "\n",
        "    return min(max_candies, max_eatable)\n",
        "\n",
        "result = distributeCandies(candyType)\n",
        "print(\"Output:\", result)\n"
      ],
      "metadata": {
        "colab": {
          "base_uri": "https://localhost:8080/"
        },
        "id": "X2SA_mwXMFmn",
        "outputId": "73c8a661-f9b4-4af9-ad87-19fd44b8ddc9"
      },
      "execution_count": 2,
      "outputs": [
        {
          "output_type": "stream",
          "name": "stdout",
          "text": [
            "Output: 3\n"
          ]
        }
      ]
    },
    {
      "cell_type": "markdown",
      "source": [
        "Answer no.3 :-"
      ],
      "metadata": {
        "id": "mvhX5CRTMPyp"
      }
    },
    {
      "cell_type": "code",
      "source": [
        "nums = [1, 3, 2, 2, 5, 2, 3, 7]\n",
        "def findLHS(nums):\n",
        "    freq = {}\n",
        "    max_length = 0\n",
        "\n",
        "    for num in nums:\n",
        "        freq[num] = freq.get(num, 0) + 1\n",
        "\n",
        "    for num in freq:\n",
        "        if num + 1 in freq:\n",
        "            length = freq[num] + freq[num + 1]\n",
        "            max_length = max(max_length, length)\n",
        "\n",
        "    return max_length\n",
        "\n",
        "result = findLHS(nums)\n",
        "print(\"Output:\", result)\n"
      ],
      "metadata": {
        "colab": {
          "base_uri": "https://localhost:8080/"
        },
        "id": "pzocMTgWMSCm",
        "outputId": "882fd22f-7365-4da1-d145-d9badb5a060d"
      },
      "execution_count": 3,
      "outputs": [
        {
          "output_type": "stream",
          "name": "stdout",
          "text": [
            "Output: 5\n"
          ]
        }
      ]
    },
    {
      "cell_type": "markdown",
      "source": [
        "Answer no.4 :-"
      ],
      "metadata": {
        "id": "9dicxhUIMbw_"
      }
    },
    {
      "cell_type": "code",
      "source": [
        "flowerbed = [1, 0, 0, 0, 1]\n",
        "n = 1\n",
        "def canPlaceFlowers(flowerbed, n):\n",
        "    count = 0\n",
        "    i = 0\n",
        "    while i < len(flowerbed):\n",
        "        if flowerbed[i] == 0 and (i == 0 or flowerbed[i-1] == 0) and (i == len(flowerbed)-1 or flowerbed[i+1] == 0):\n",
        "            flowerbed[i] = 1\n",
        "            count += 1\n",
        "            i += 1\n",
        "        if count >= n:\n",
        "            return True\n",
        "        i += 1\n",
        "    return False\n",
        "\n",
        "result = canPlaceFlowers(flowerbed, n)\n",
        "print(\"Output:\", result)\n"
      ],
      "metadata": {
        "colab": {
          "base_uri": "https://localhost:8080/"
        },
        "id": "MSIhDf81MgDt",
        "outputId": "8ab5a956-5476-4f8c-a38a-81f34ebbb5ab"
      },
      "execution_count": 4,
      "outputs": [
        {
          "output_type": "stream",
          "name": "stdout",
          "text": [
            "Output: True\n"
          ]
        }
      ]
    },
    {
      "cell_type": "markdown",
      "source": [
        "Answer no.5 :-"
      ],
      "metadata": {
        "id": "RY_c_bbmMrKO"
      }
    },
    {
      "cell_type": "code",
      "source": [
        "nums = [1, 2, 3]\n",
        "def maximumProduct(nums):\n",
        "    nums.sort()\n",
        "\n",
        "    n = len(nums)\n",
        "    option1 = nums[n-1] * nums[n-2] * nums[n-3]  # Product of three largest elements\n",
        "    option2 = nums[0] * nums[1] * nums[n-1]  # Product of two smallest and the largest element\n",
        "\n",
        "    return max(option1, option2)\n",
        "\n",
        "result = maximumProduct(nums)\n",
        "print(\"Output:\", result)\n"
      ],
      "metadata": {
        "colab": {
          "base_uri": "https://localhost:8080/"
        },
        "id": "IfElchlXMtvu",
        "outputId": "f1709078-1080-458d-d357-21217f060144"
      },
      "execution_count": 5,
      "outputs": [
        {
          "output_type": "stream",
          "name": "stdout",
          "text": [
            "Output: 6\n"
          ]
        }
      ]
    },
    {
      "cell_type": "markdown",
      "source": [
        "Answer no.6 :-"
      ],
      "metadata": {
        "id": "2VaY-xspM4Al"
      }
    },
    {
      "cell_type": "code",
      "source": [
        "nums = [-1, 0, 3, 5, 9, 12]\n",
        "target = 9\n",
        "def search(nums, target):\n",
        "    left = 0\n",
        "    right = len(nums) - 1\n",
        "\n",
        "    while left <= right:\n",
        "        mid = left + (right - left) // 2\n",
        "\n",
        "        if nums[mid] == target:\n",
        "            return mid\n",
        "        elif nums[mid] < target:\n",
        "            left = mid + 1\n",
        "        else:\n",
        "            right = mid - 1\n",
        "\n",
        "    return -1\n",
        "\n",
        "result = search(nums, target)\n",
        "print(\"Output:\", result)\n"
      ],
      "metadata": {
        "colab": {
          "base_uri": "https://localhost:8080/"
        },
        "id": "Ux3_YJDdM7Dg",
        "outputId": "b8b015ec-ca08-49b7-ef55-46f063d47ed0"
      },
      "execution_count": 6,
      "outputs": [
        {
          "output_type": "stream",
          "name": "stdout",
          "text": [
            "Output: 4\n"
          ]
        }
      ]
    },
    {
      "cell_type": "markdown",
      "source": [
        "Answer no.7 :-"
      ],
      "metadata": {
        "id": "IP9Emrp9ND3z"
      }
    },
    {
      "cell_type": "code",
      "source": [
        "nums = [1, 2, 2, 3]\n",
        "def isMonotonic(nums):\n",
        "    increasing = decreasing = True\n",
        "\n",
        "    for i in range(1, len(nums)):\n",
        "        if nums[i] > nums[i - 1]:\n",
        "            decreasing = False\n",
        "        if nums[i] < nums[i - 1]:\n",
        "            increasing = False\n",
        "\n",
        "    return increasing or decreasing\n",
        "\n",
        "result = isMonotonic(nums)\n",
        "print(\"Output:\", result)\n"
      ],
      "metadata": {
        "colab": {
          "base_uri": "https://localhost:8080/"
        },
        "id": "fBMDGUMtNGlJ",
        "outputId": "a16913fa-7051-45e6-f7e3-50e6d8f296ee"
      },
      "execution_count": 7,
      "outputs": [
        {
          "output_type": "stream",
          "name": "stdout",
          "text": [
            "Output: True\n"
          ]
        }
      ]
    },
    {
      "cell_type": "markdown",
      "source": [
        "Answer no.8 :-"
      ],
      "metadata": {
        "id": "r1iC6Q-_NPsF"
      }
    },
    {
      "cell_type": "code",
      "source": [
        "nums = [1]\n",
        "k = 0\n",
        "def minimumScore(nums, k):\n",
        "    min_val = min(nums)\n",
        "    max_val = max(nums)\n",
        "\n",
        "    score1 = max_val - min_val  \n",
        "    score2 = float('inf')       \n",
        "\n",
        "    for i in range(len(nums)):\n",
        "        if nums[i] - k >= min_val and nums[i] + k <= max_val:\n",
        "            \n",
        "            score2 = min(score2, max_val - k - (min_val + k))\n",
        "\n",
        "    return min(score1, score2)\n",
        "\n",
        "result = minimumScore(nums, k)\n",
        "print(\"Output:\", result)\n"
      ],
      "metadata": {
        "colab": {
          "base_uri": "https://localhost:8080/"
        },
        "id": "cmHVqbK6NS1d",
        "outputId": "c92975ad-bcc2-4563-869f-29b9730a9f87"
      },
      "execution_count": 8,
      "outputs": [
        {
          "output_type": "stream",
          "name": "stdout",
          "text": [
            "Output: 0\n"
          ]
        }
      ]
    }
  ]
}