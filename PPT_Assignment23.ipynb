{
 "cells": [
  {
   "cell_type": "code",
   "execution_count": 1,
   "id": "c277f705",
   "metadata": {},
   "outputs": [
    {
     "name": "stdout",
     "output_type": "stream",
     "text": [
      "2\n"
     ]
    }
   ],
   "source": [
    "##Answer No.1 :-\n",
    "\n",
    "def calculateDepth(preorder):\n",
    "    stack = []\n",
    "    depth = 0\n",
    "\n",
    "    for char in preorder:\n",
    "        if char == 'n':\n",
    "            stack.append(char)\n",
    "        elif char == 'l':\n",
    "            while stack and stack[-1] == 'l':\n",
    "                stack.pop()\n",
    "            if stack:\n",
    "                stack.pop()\n",
    "                stack.append('l')\n",
    "            depth = max(depth, len(stack))\n",
    "\n",
    "    return depth\n",
    "\n",
    "print(calculateDepth('nlnll'))"
   ]
  },
  {
   "cell_type": "code",
   "execution_count": 2,
   "id": "daaf652e",
   "metadata": {},
   "outputs": [
    {
     "name": "stdout",
     "output_type": "stream",
     "text": [
      "[4, 5, 3, 6]\n"
     ]
    }
   ],
   "source": [
    "##Answer No.2 :-\n",
    "\n",
    "class TreeNode:\n",
    "    def __init__(self, val):\n",
    "        self.val = val\n",
    "        self.left = None\n",
    "        self.right = None\n",
    "\n",
    "\n",
    "def leftView(root):\n",
    "    if not root:\n",
    "        return []\n",
    "\n",
    "    result = []\n",
    "    queue = [root]\n",
    "\n",
    "    while queue:\n",
    "        level_nodes = len(queue)\n",
    "\n",
    "        for i in range(level_nodes):\n",
    "            node = queue.pop(0)\n",
    "\n",
    "            if i == 0:\n",
    "                result.append(node.val)\n",
    "\n",
    "            if node.left:\n",
    "                queue.append(node.left)\n",
    "            if node.right:\n",
    "                queue.append(node.right)\n",
    "\n",
    "    return result\n",
    "\n",
    "root = TreeNode(4)\n",
    "root.left = TreeNode(5)\n",
    "root.right = TreeNode(2)\n",
    "root.right.left = TreeNode(3)\n",
    "root.right.right = TreeNode(1)\n",
    "root.right.left.left = TreeNode(6)\n",
    "root.right.left.right = TreeNode(7)\n",
    "\n",
    "print(leftView(root))"
   ]
  },
  {
   "cell_type": "code",
   "execution_count": 3,
   "id": "2a5787a8",
   "metadata": {},
   "outputs": [
    {
     "name": "stdout",
     "output_type": "stream",
     "text": [
      "[1, 3, 7, 8]\n"
     ]
    }
   ],
   "source": [
    "##Answer No.3 :-\n",
    "\n",
    "class TreeNode:\n",
    "    def __init__(self, val):\n",
    "        self.val = val\n",
    "        self.left = None\n",
    "        self.right = None\n",
    "\n",
    "\n",
    "def rightView(root):\n",
    "    if not root:\n",
    "        return []\n",
    "\n",
    "    result = []\n",
    "    queue = [root]\n",
    "\n",
    "    while queue:\n",
    "        level_nodes = len(queue)\n",
    "\n",
    "        for i in range(level_nodes):\n",
    "            node = queue.pop(0)\n",
    "\n",
    "            if i == level_nodes - 1:\n",
    "                result.append(node.val)\n",
    "\n",
    "            if node.left:\n",
    "                queue.append(node.left)\n",
    "            if node.right:\n",
    "                queue.append(node.right)\n",
    "\n",
    "    return result\n",
    "\n",
    "root = TreeNode(1)\n",
    "root.left = TreeNode(2)\n",
    "root.right = TreeNode(3)\n",
    "root.left.left = TreeNode(4)\n",
    "root.left.right = TreeNode(5)\n",
    "root.right.left = TreeNode(6)\n",
    "root.right.right = TreeNode(7)\n",
    "root.right.right.right = TreeNode(8)\n",
    "\n",
    "print(rightView(root))"
   ]
  },
  {
   "cell_type": "code",
   "execution_count": 4,
   "id": "58d071dd",
   "metadata": {},
   "outputs": [
    {
     "name": "stdout",
     "output_type": "stream",
     "text": [
      "[5, 10, 3, 14, 25]\n"
     ]
    }
   ],
   "source": [
    "##Answer No.4 :-\n",
    "\n",
    "from collections import defaultdict\n",
    "\n",
    "\n",
    "class TreeNode:\n",
    "    def __init__(self, val):\n",
    "        self.val = val\n",
    "        self.left = None\n",
    "        self.right = None\n",
    "\n",
    "\n",
    "def bottomView(root):\n",
    "    if not root:\n",
    "        return []\n",
    "\n",
    "    result = []\n",
    "    horizontal_distance = defaultdict(int)\n",
    "    queue = [(root, 0)]\n",
    "\n",
    "    while queue:\n",
    "        node, hd = queue.pop(0)\n",
    "        horizontal_distance[hd] = node.val\n",
    "\n",
    "        if node.left:\n",
    "            queue.append((node.left, hd - 1))\n",
    "        if node.right:\n",
    "            queue.append((node.right, hd + 1))\n",
    "\n",
    "    min_hd = min(horizontal_distance.keys())\n",
    "    max_hd = max(horizontal_distance.keys())\n",
    "\n",
    "    for hd in range(min_hd, max_hd + 1):\n",
    "        result.append(horizontal_distance[hd])\n",
    "\n",
    "    return result\n",
    "\n",
    "root = TreeNode(20)\n",
    "root.left = TreeNode(8)\n",
    "root.right = TreeNode(22)\n",
    "root.left.left = TreeNode(5)\n",
    "root.left.right = TreeNode(3)\n",
    "root.right.right = TreeNode(25)\n",
    "root.left.right.left = TreeNode(10)\n",
    "root.left.right.right = TreeNode(14)\n",
    "\n",
    "print(bottomView(root))\n"
   ]
  }
 ],
 "metadata": {
  "kernelspec": {
   "display_name": "Python 3",
   "language": "python",
   "name": "python3"
  },
  "language_info": {
   "codemirror_mode": {
    "name": "ipython",
    "version": 3
   },
   "file_extension": ".py",
   "mimetype": "text/x-python",
   "name": "python",
   "nbconvert_exporter": "python",
   "pygments_lexer": "ipython3",
   "version": "3.8.8"
  }
 },
 "nbformat": 4,
 "nbformat_minor": 5
}
