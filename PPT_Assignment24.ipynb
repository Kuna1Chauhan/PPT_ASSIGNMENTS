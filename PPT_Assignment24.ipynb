{
 "cells": [
  {
   "cell_type": "code",
   "execution_count": 8,
   "id": "c6203061",
   "metadata": {},
   "outputs": [
    {
     "name": "stdout",
     "output_type": "stream",
     "text": [
      "3\n",
      "58\n"
     ]
    }
   ],
   "source": [
    "##Answer No.1 :-\n",
    "    \n",
    "def romanToInt(s):\n",
    "    roman_values = {'I': 1, 'V': 5, 'X': 10, 'L': 50, 'C': 100, 'D': 500, 'M': 1000}\n",
    "    total = 0\n",
    "    prev_value = 0\n",
    "\n",
    "    for i in range(len(s)):\n",
    "        current_value = roman_values[s[i]]\n",
    "        if current_value > prev_value:\n",
    "            total -= prev_value\n",
    "        else:\n",
    "            total += prev_value\n",
    "        prev_value = current_value\n",
    "\n",
    "    total += prev_value\n",
    "\n",
    "    return total\n",
    "\n",
    "print(romanToInt(\"III\"))   \n",
    "print(romanToInt(\"LVIII\")) \n"
   ]
  },
  {
   "cell_type": "code",
   "execution_count": 9,
   "id": "7a4661c2",
   "metadata": {},
   "outputs": [
    {
     "name": "stdout",
     "output_type": "stream",
     "text": [
      "3\n",
      "1\n",
      "3\n"
     ]
    }
   ],
   "source": [
    "##Answer No.2 :-\n",
    "    \n",
    "def lengthOfLongestSubstring(s):\n",
    "    char_set = set()\n",
    "    max_length = 0\n",
    "    left = 0\n",
    "    right = 0\n",
    "\n",
    "    while right < len(s):\n",
    "        if s[right] not in char_set:\n",
    "            char_set.add(s[right])\n",
    "            max_length = max(max_length, right - left + 1)\n",
    "            right += 1\n",
    "        else:\n",
    "            char_set.remove(s[left])\n",
    "            left += 1\n",
    "\n",
    "    return max_length\n",
    "\n",
    "print(lengthOfLongestSubstring(\"abcabcbb\")) \n",
    "print(lengthOfLongestSubstring(\"bbbbb\"))    \n",
    "print(lengthOfLongestSubstring(\"pwwkew\"))   \n"
   ]
  },
  {
   "cell_type": "code",
   "execution_count": 10,
   "id": "a6af4fd9",
   "metadata": {},
   "outputs": [
    {
     "name": "stdout",
     "output_type": "stream",
     "text": [
      "3\n"
     ]
    }
   ],
   "source": [
    "##Answer No.3 :-\n",
    "\n",
    "def majorityElement(nums):\n",
    "    count = 0\n",
    "    majority = None\n",
    "\n",
    "    for num in nums:\n",
    "        if count == 0:\n",
    "            majority = num\n",
    "        if num == majority:\n",
    "            count += 1\n",
    "        else:\n",
    "            count -= 1\n",
    "\n",
    "    return majority\n",
    "\n",
    "print(majorityElement([3, 2, 3]))\n"
   ]
  },
  {
   "cell_type": "code",
   "execution_count": 11,
   "id": "988adc58",
   "metadata": {},
   "outputs": [
    {
     "name": "stdout",
     "output_type": "stream",
     "text": [
      "[['eat', 'tea', 'ate'], ['tan', 'nat'], ['bat']]\n"
     ]
    }
   ],
   "source": [
    "##Answer No.4 :-\n",
    "\n",
    "from collections import defaultdict\n",
    "\n",
    "def groupAnagrams(strs):\n",
    "    groups = defaultdict(list)\n",
    "\n",
    "    for word in strs:\n",
    "        # Count the frequency of each character in the word\n",
    "        count = [0] * 26\n",
    "        for char in word:\n",
    "            count[ord(char) - ord('a')] += 1\n",
    "        \n",
    "        # Use the character count as a key to group anagrams\n",
    "        groups[tuple(count)].append(word)\n",
    "\n",
    "    return list(groups.values())\n",
    "\n",
    "print(groupAnagrams([\"eat\",\"tea\",\"tan\",\"ate\",\"nat\",\"bat\"]))"
   ]
  },
  {
   "cell_type": "code",
   "execution_count": 12,
   "id": "b54cac8b",
   "metadata": {},
   "outputs": [
    {
     "name": "stdout",
     "output_type": "stream",
     "text": [
      "12\n"
     ]
    }
   ],
   "source": [
    "##Answer No.5 :-\n",
    "\n",
    "def nthUglyNumber(n):\n",
    "    ugly_numbers = [1]\n",
    "    p2 = p3 = p5 = 0\n",
    "\n",
    "    for _ in range(1, n):\n",
    "        # Compute the next ugly number by multiplying the current ugly numbers with 2, 3, and 5\n",
    "        next_num = min(ugly_numbers[p2] * 2, ugly_numbers[p3] * 3, ugly_numbers[p5] * 5)\n",
    "        ugly_numbers.append(next_num)\n",
    "\n",
    "        # Update the pointers for the factors\n",
    "        if next_num == ugly_numbers[p2] * 2:\n",
    "            p2 += 1\n",
    "        if next_num == ugly_numbers[p3] * 3:\n",
    "            p3 += 1\n",
    "        if next_num == ugly_numbers[p5] * 5:\n",
    "            p5 += 1\n",
    "\n",
    "    return ugly_numbers[-1]\n",
    "\n",
    "print(nthUglyNumber(10))"
   ]
  },
  {
   "cell_type": "code",
   "execution_count": 13,
   "id": "8b298da3",
   "metadata": {},
   "outputs": [
    {
     "name": "stdout",
     "output_type": "stream",
     "text": [
      "['i', 'love']\n"
     ]
    }
   ],
   "source": [
    "##Answer No.6 :-\n",
    "\n",
    "from collections import Counter\n",
    "\n",
    "def topKFrequent(words, k):\n",
    "    word_count = Counter(words)\n",
    "\n",
    "    # Define custom sorting criteria for words with the same frequency\n",
    "    def sort_criteria(word):\n",
    "        return (-word_count[word], word)\n",
    "\n",
    "    # Sort the words based on frequency and lexicographical order\n",
    "    sorted_words = sorted(word_count.keys(), key=sort_criteria)\n",
    "\n",
    "    return sorted_words[:k]\n",
    "print(topKFrequent([\"i\",\"love\",\"leetcode\",\"i\",\"love\",\"coding\"], 2))"
   ]
  },
  {
   "cell_type": "code",
   "execution_count": 14,
   "id": "0e9bd76b",
   "metadata": {},
   "outputs": [
    {
     "name": "stdout",
     "output_type": "stream",
     "text": [
      "[3, 3, 5, 5, 6, 7]\n"
     ]
    }
   ],
   "source": [
    "##Answer No.7 :-\n",
    "\n",
    "from collections import deque\n",
    "\n",
    "def maxSlidingWindow(nums, k):\n",
    "    result = []\n",
    "    window = deque()\n",
    "\n",
    "    for i, num in enumerate(nums):\n",
    "        # Remove elements outside the current window from the front of the deque\n",
    "        while window and window[0] <= i - k:\n",
    "            window.popleft()\n",
    "\n",
    "        # Remove elements smaller than the current element from the back of the deque\n",
    "        while window and nums[window[-1]] < num:\n",
    "            window.pop()\n",
    "\n",
    "        # Add the current element's index to the back of the deque\n",
    "        window.append(i)\n",
    "\n",
    "        # Append the maximum element of the current window to the result\n",
    "        if i >= k - 1:\n",
    "            result.append(nums[window[0]])\n",
    "\n",
    "    return result\n",
    "\n",
    "print(maxSlidingWindow([1, 3, -1, -3, 5, 3, 6, 7], 3))"
   ]
  },
  {
   "cell_type": "code",
   "execution_count": 15,
   "id": "c27e06ca",
   "metadata": {},
   "outputs": [
    {
     "name": "stdout",
     "output_type": "stream",
     "text": [
      "[1, 2, 3, 4]\n"
     ]
    }
   ],
   "source": [
    "##Answer No.8 :-\n",
    "\n",
    "def findClosestElements(arr, k, x):\n",
    "    left = 0\n",
    "    right = len(arr) - k\n",
    "\n",
    "    while left < right:\n",
    "        mid = left + (right - left) // 2\n",
    "        if x - arr[mid] > arr[mid + k] - x:\n",
    "            left = mid + 1\n",
    "        else:\n",
    "            right = mid\n",
    "\n",
    "    return arr[left:left + k]\n",
    "\n",
    "print(findClosestElements([1, 2, 3, 4, 5], 4, 3))"
   ]
  }
 ],
 "metadata": {
  "kernelspec": {
   "display_name": "Python 3",
   "language": "python",
   "name": "python3"
  },
  "language_info": {
   "codemirror_mode": {
    "name": "ipython",
    "version": 3
   },
   "file_extension": ".py",
   "mimetype": "text/x-python",
   "name": "python",
   "nbconvert_exporter": "python",
   "pygments_lexer": "ipython3",
   "version": "3.8.8"
  }
 },
 "nbformat": 4,
 "nbformat_minor": 5
}
