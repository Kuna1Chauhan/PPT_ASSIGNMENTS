{
  "nbformat": 4,
  "nbformat_minor": 0,
  "metadata": {
    "colab": {
      "provenance": []
    },
    "kernelspec": {
      "name": "python3",
      "display_name": "Python 3"
    },
    "language_info": {
      "name": "python"
    }
  },
  "cells": [
    {
      "cell_type": "markdown",
      "source": [
        "Answer no.1 :-"
      ],
      "metadata": {
        "id": "jTFWYUt5W6ic"
      }
    },
    {
      "cell_type": "code",
      "execution_count": 8,
      "metadata": {
        "colab": {
          "base_uri": "https://localhost:8080/"
        },
        "id": "JH9saAi4W0fU",
        "outputId": "bbbd5505-2a77-4ce4-edd1-c409e2528299"
      },
      "outputs": [
        {
          "output_type": "stream",
          "name": "stdout",
          "text": [
            "Output: 2\n"
          ]
        }
      ],
      "source": [
        "nums = [-1, 2, 1, -4]\n",
        "target = 1\n",
        "def threeSumClosest(nums, target):\n",
        "    nums.sort()\n",
        "    n = len(nums)\n",
        "    closest_sum = float('inf')\n",
        "\n",
        "    for i in range(n - 2):\n",
        "        left = i + 1\n",
        "        right = n - 1\n",
        "\n",
        "        while left < right:\n",
        "            current_sum = nums[i] + nums[left] + nums[right]\n",
        "\n",
        "            if current_sum == target:\n",
        "                return current_sum\n",
        "\n",
        "            if abs(current_sum - target) < abs(closest_sum - target):\n",
        "                closest_sum = current_sum\n",
        "\n",
        "            if current_sum < target:\n",
        "                left += 1\n",
        "            else:\n",
        "                right -= 1\n",
        "\n",
        "    return closest_sum\n",
        "\n",
        "result = threeSumClosest(nums, target)\n",
        "print(\"Output:\", result)\n"
      ]
    },
    {
      "cell_type": "markdown",
      "source": [
        "Answer no.2 :-"
      ],
      "metadata": {
        "id": "y1amYYFlYO3B"
      }
    },
    {
      "cell_type": "code",
      "source": [
        "nums = [1, 0, -1, 0, -2, 2]\n",
        "target = 0\n",
        "def fourSum(nums, target):\n",
        "    nums.sort()\n",
        "    n = len(nums)\n",
        "    result = []\n",
        "\n",
        "    for i in range(n - 3):\n",
        "        if i > 0 and nums[i] == nums[i - 1]:\n",
        "            continue\n",
        "\n",
        "        for j in range(i + 1, n - 2):\n",
        "            if j > i + 1 and nums[j] == nums[j - 1]:\n",
        "                continue\n",
        "\n",
        "            left = j + 1\n",
        "            right = n - 1\n",
        "\n",
        "            while left < right:\n",
        "                current_sum = nums[i] + nums[j] + nums[left] + nums[right]\n",
        "\n",
        "                if current_sum == target:\n",
        "                    result.append([nums[i], nums[j], nums[left], nums[right]])\n",
        "\n",
        "                    while left < right and nums[left] == nums[left + 1]:\n",
        "                        left += 1\n",
        "                    while left < right and nums[right] == nums[right - 1]:\n",
        "                        right -= 1\n",
        "\n",
        "                    left += 1\n",
        "                    right -= 1\n",
        "\n",
        "                elif current_sum < target:\n",
        "                    left += 1\n",
        "                else:\n",
        "                    right -= 1\n",
        "\n",
        "    return result\n",
        "\n",
        "result = fourSum(nums, target)\n",
        "print(\"Output:\", result)\n"
      ],
      "metadata": {
        "colab": {
          "base_uri": "https://localhost:8080/"
        },
        "id": "IYhf7qn7YRRp",
        "outputId": "edd952f0-501b-4a2d-835e-29a9161dcba9"
      },
      "execution_count": 7,
      "outputs": [
        {
          "output_type": "stream",
          "name": "stdout",
          "text": [
            "Output: [[-2, -1, 1, 2], [-2, 0, 0, 2], [-1, 0, 0, 1]]\n"
          ]
        }
      ]
    },
    {
      "cell_type": "markdown",
      "source": [
        "Answer no.3 :-"
      ],
      "metadata": {
        "id": "W0tKHpaAYRsx"
      }
    },
    {
      "cell_type": "code",
      "source": [
        "nums = [1, 2, 3]\n",
        "def nextPermutation(nums):\n",
        "    # Step 1: Find the first pair from the right where nums[i] < nums[i+1]\n",
        "    i = len(nums) - 2\n",
        "    while i >= 0 and nums[i] >= nums[i + 1]:\n",
        "        i -= 1\n",
        "\n",
        "    if i >= 0:\n",
        "        # Step 2: Find the next greater element and swap it with nums[i]\n",
        "        j = len(nums) - 1\n",
        "        while j > i and nums[j] <= nums[i]:\n",
        "            j -= 1\n",
        "        nums[i], nums[j] = nums[j], nums[i]\n",
        "\n",
        "    # Step 3: Reverse the suffix starting from index i+1\n",
        "    left, right = i + 1, len(nums) - 1\n",
        "    while left < right:\n",
        "        nums[left], nums[right] = nums[right], nums[left]\n",
        "        left += 1\n",
        "        right -= 1\n",
        "\n",
        "nextPermutation(nums)\n",
        "print(\"Output:\", nums)\n"
      ],
      "metadata": {
        "colab": {
          "base_uri": "https://localhost:8080/"
        },
        "id": "SgIme6pGYU17",
        "outputId": "310366ed-34d4-4af1-9183-227abfd3d876"
      },
      "execution_count": 6,
      "outputs": [
        {
          "output_type": "stream",
          "name": "stdout",
          "text": [
            "Output: [1, 3, 2]\n"
          ]
        }
      ]
    },
    {
      "cell_type": "markdown",
      "source": [
        "Answer no.4 :-"
      ],
      "metadata": {
        "id": "k6YSNz9ZYVUn"
      }
    },
    {
      "cell_type": "code",
      "source": [
        "nums = [1, 3, 5, 6]\n",
        "target = 5\n",
        "def searchInsert(nums, target):\n",
        "    left, right = 0, len(nums) - 1\n",
        "\n",
        "    while left <= right:\n",
        "        mid = (left + right) // 2\n",
        "\n",
        "        if nums[mid] == target:\n",
        "            return mid\n",
        "        elif nums[mid] < target:\n",
        "            left = mid + 1\n",
        "        else:\n",
        "            right = mid - 1\n",
        "\n",
        "    return left\n",
        "\n",
        "result = searchInsert(nums, target)\n",
        "print(\"Output:\", result)\n"
      ],
      "metadata": {
        "colab": {
          "base_uri": "https://localhost:8080/"
        },
        "id": "dL8eBVuJYX2R",
        "outputId": "d63c85d7-3350-4f25-f19a-8b6f730e8868"
      },
      "execution_count": 5,
      "outputs": [
        {
          "output_type": "stream",
          "name": "stdout",
          "text": [
            "Output: 2\n"
          ]
        }
      ]
    },
    {
      "cell_type": "markdown",
      "source": [
        "Answer no.5 :-"
      ],
      "metadata": {
        "id": "jQ0c_LCJYYPt"
      }
    },
    {
      "cell_type": "code",
      "source": [
        "digits = [1, 2, 3]\n",
        "def plusOne(digits):\n",
        "    carry = 1\n",
        "    n = len(digits)\n",
        "\n",
        "    for i in range(n - 1, -1, -1):\n",
        "        digits[i] += carry\n",
        "        carry = digits[i] // 10\n",
        "        digits[i] %= 10\n",
        "\n",
        "    if carry != 0:\n",
        "        digits.insert(0, carry)\n",
        "\n",
        "    return digits\n",
        "\n",
        "result = plusOne(digits)\n",
        "print(\"Output:\", result)\n"
      ],
      "metadata": {
        "colab": {
          "base_uri": "https://localhost:8080/"
        },
        "id": "M8ZvbrVTYb1H",
        "outputId": "8ebbb1c4-3d76-4c23-b3d2-ff5055f17d80"
      },
      "execution_count": 4,
      "outputs": [
        {
          "output_type": "stream",
          "name": "stdout",
          "text": [
            "Output: [1, 2, 4]\n"
          ]
        }
      ]
    },
    {
      "cell_type": "markdown",
      "source": [
        "Answer no.6 :-"
      ],
      "metadata": {
        "id": "uD38rY93YcQd"
      }
    },
    {
      "cell_type": "code",
      "source": [
        "nums = [2, 2, 1]\n",
        "def singleNumber(nums):\n",
        "    result = 0\n",
        "    for num in nums:\n",
        "        result ^= num\n",
        "    return result\n",
        "\n",
        "result = singleNumber(nums)\n",
        "print(\"Output:\", result)\n"
      ],
      "metadata": {
        "colab": {
          "base_uri": "https://localhost:8080/"
        },
        "id": "yNiBCSo5YegC",
        "outputId": "bca947a5-65ed-4619-c9a9-ab87baf49334"
      },
      "execution_count": 3,
      "outputs": [
        {
          "output_type": "stream",
          "name": "stdout",
          "text": [
            "Output: 1\n"
          ]
        }
      ]
    },
    {
      "cell_type": "markdown",
      "source": [
        "Answer no.7 :-"
      ],
      "metadata": {
        "id": "KRTClv7YYe-p"
      }
    },
    {
      "cell_type": "code",
      "source": [
        "nums = [0, 1, 3, 50, 75]\n",
        "lower = 0\n",
        "upper = 99\n",
        "def findMissingRanges(nums, lower, upper):\n",
        "    missing_ranges = []\n",
        "    start = lower\n",
        "\n",
        "    for num in nums:\n",
        "        if num == start:\n",
        "            start += 1\n",
        "        elif num > start:\n",
        "            missing_ranges.append(getRange(start, num - 1))\n",
        "            start = num + 1\n",
        "\n",
        "    if start <= upper:\n",
        "        missing_ranges.append(getRange(start, upper))\n",
        "\n",
        "    return missing_ranges\n",
        "\n",
        "def getRange(start, end):\n",
        "    if start == end:\n",
        "        return str(start)\n",
        "    else:\n",
        "        return str(start) + '->' + str(end)\n",
        "\n",
        "result = findMissingRanges(nums, lower, upper)\n",
        "print(\"Output:\", result)\n"
      ],
      "metadata": {
        "colab": {
          "base_uri": "https://localhost:8080/"
        },
        "id": "th4F4sZ-Yhld",
        "outputId": "d1438198-e120-48c7-ab19-b639eda7e08f"
      },
      "execution_count": 2,
      "outputs": [
        {
          "output_type": "stream",
          "name": "stdout",
          "text": [
            "Output: ['2', '4->49', '51->74', '76->99']\n"
          ]
        }
      ]
    },
    {
      "cell_type": "markdown",
      "source": [
        "Answer no.8 :-"
      ],
      "metadata": {
        "id": "n_Z2GLG_YiFt"
      }
    },
    {
      "cell_type": "code",
      "source": [
        "intervals = [[0, 30], [5, 10], [15, 20]]\n",
        "def canAttendMeetings(intervals):\n",
        "    # Sort the intervals based on start times\n",
        "    intervals.sort(key=lambda x: x[0])\n",
        "\n",
        "    # Check for overlap\n",
        "    for i in range(1, len(intervals)):\n",
        "        if intervals[i][0] < intervals[i - 1][1]:\n",
        "            return False\n",
        "\n",
        "    return True\n",
        "\n",
        "result = canAttendMeetings(intervals)\n",
        "print(\"Output:\", result)\n"
      ],
      "metadata": {
        "colab": {
          "base_uri": "https://localhost:8080/"
        },
        "id": "KHi94RpsYkwm",
        "outputId": "4a92b056-d924-454a-a8d5-1e8263e8b07a"
      },
      "execution_count": 1,
      "outputs": [
        {
          "output_type": "stream",
          "name": "stdout",
          "text": [
            "Output: False\n"
          ]
        }
      ]
    }
  ]
}