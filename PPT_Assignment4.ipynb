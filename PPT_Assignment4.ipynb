{
  "nbformat": 4,
  "nbformat_minor": 0,
  "metadata": {
    "colab": {
      "provenance": []
    },
    "kernelspec": {
      "name": "python3",
      "display_name": "Python 3"
    },
    "language_info": {
      "name": "python"
    }
  },
  "cells": [
    {
      "cell_type": "markdown",
      "source": [
        "Answer no.1 :-"
      ],
      "metadata": {
        "id": "SorzWaFEbV65"
      }
    },
    {
      "cell_type": "code",
      "execution_count": 8,
      "metadata": {
        "colab": {
          "base_uri": "https://localhost:8080/"
        },
        "id": "Nb4L2vXxaEHz",
        "outputId": "550ff57b-1669-4a6b-cb0c-a42ae016a303"
      },
      "outputs": [
        {
          "output_type": "stream",
          "name": "stdout",
          "text": [
            "Output: [1, 5]\n"
          ]
        }
      ],
      "source": [
        "arr1 = [1, 2, 3, 4, 5]\n",
        "arr2 = [1, 3, 5, 7]\n",
        "arr3 = [1, 4, 5]\n",
        "def arraysIntersection(arr1, arr2, arr3):\n",
        "    p1, p2, p3 = 0, 0, 0\n",
        "    result = []\n",
        "\n",
        "    while p1 < len(arr1) and p2 < len(arr2) and p3 < len(arr3):\n",
        "        if arr1[p1] == arr2[p2] == arr3[p3]:\n",
        "            result.append(arr1[p1])\n",
        "            p1 += 1\n",
        "            p2 += 1\n",
        "            p3 += 1\n",
        "        elif arr1[p1] < arr2[p2] or arr1[p1] < arr3[p3]:\n",
        "            p1 += 1\n",
        "        elif arr2[p2] < arr1[p1] or arr2[p2] < arr3[p3]:\n",
        "            p2 += 1\n",
        "        else:\n",
        "            p3 += 1\n",
        "\n",
        "    return result\n",
        "\n",
        "result = arraysIntersection(arr1, arr2, arr3)\n",
        "print(\"Output:\", result)\n"
      ]
    },
    {
      "cell_type": "markdown",
      "source": [
        "Answer no.2 :-"
      ],
      "metadata": {
        "id": "bw85RAlkbWxf"
      }
    },
    {
      "cell_type": "code",
      "source": [
        "nums1 = [1, 2, 2, 3, 4, 5]\n",
        "nums2 = [2, 3, 5, 6, 7]\n",
        "def findDistinct(nums1, nums2):\n",
        "    set1 = set(nums1)\n",
        "    set2 = set(nums2)\n",
        "    result1 = []\n",
        "    result2 = []\n",
        "\n",
        "    for num in set1:\n",
        "        if num not in set2:\n",
        "            result1.append(num)\n",
        "\n",
        "    for num in set2:\n",
        "        if num not in set1:\n",
        "            result2.append(num)\n",
        "\n",
        "    return [result1, result2]\n",
        "\n",
        "result = findDistinct(nums1, nums2)\n",
        "print(\"Output:\", result)\n"
      ],
      "metadata": {
        "colab": {
          "base_uri": "https://localhost:8080/"
        },
        "id": "YfeMMKzLbWWK",
        "outputId": "66fb1b14-05f7-4643-8e7d-1a585e6baf29"
      },
      "execution_count": 9,
      "outputs": [
        {
          "output_type": "stream",
          "name": "stdout",
          "text": [
            "Output: [[1, 4], [6, 7]]\n"
          ]
        }
      ]
    },
    {
      "cell_type": "markdown",
      "source": [
        "Answer no.3 :-"
      ],
      "metadata": {
        "id": "qjhAw1_vbXpF"
      }
    },
    {
      "cell_type": "code",
      "source": [
        "matrix = [[1, 2, 3], [4, 5, 6]]\n",
        "def transpose(matrix):\n",
        "    rows = len(matrix)\n",
        "    columns = len(matrix[0])\n",
        "    transpose = [[0 for _ in range(rows)] for _ in range(columns)]\n",
        "\n",
        "    for i in range(rows):\n",
        "        for j in range(columns):\n",
        "            transpose[j][i] = matrix[i][j]\n",
        "\n",
        "    return transpose\n",
        "\n",
        "result = transpose(matrix)\n",
        "print(\"Output:\", result)\n"
      ],
      "metadata": {
        "colab": {
          "base_uri": "https://localhost:8080/"
        },
        "id": "5pckZdEqbYSp",
        "outputId": "7f83ed34-3ef3-4830-8f2f-3c55982e7eea"
      },
      "execution_count": 10,
      "outputs": [
        {
          "output_type": "stream",
          "name": "stdout",
          "text": [
            "Output: [[1, 4], [2, 5], [3, 6]]\n"
          ]
        }
      ]
    },
    {
      "cell_type": "markdown",
      "source": [
        "Answer no.4 :-"
      ],
      "metadata": {
        "id": "64XvilotbYsw"
      }
    },
    {
      "cell_type": "code",
      "source": [
        "nums = [1, 4, 3, 2]\n",
        "def arrayPairSum(nums):\n",
        "    nums.sort()\n",
        "    max_sum = 0\n",
        "\n",
        "    for i in range(0, len(nums), 2):\n",
        "        max_sum += nums[i]\n",
        "\n",
        "    return max_sum\n",
        "\n",
        "result = arrayPairSum(nums)\n",
        "print(\"Output:\", result)\n"
      ],
      "metadata": {
        "colab": {
          "base_uri": "https://localhost:8080/"
        },
        "id": "B8UWxv27bZVP",
        "outputId": "4c6f05c6-ac51-43f9-e884-ec32a012ee84"
      },
      "execution_count": 11,
      "outputs": [
        {
          "output_type": "stream",
          "name": "stdout",
          "text": [
            "Output: 4\n"
          ]
        }
      ]
    },
    {
      "cell_type": "markdown",
      "source": [
        "Answer no.5 :-"
      ],
      "metadata": {
        "id": "XgI-P0XXbZwL"
      }
    },
    {
      "cell_type": "code",
      "source": [
        "n = 8\n",
        "def arrangeCoins(n):\n",
        "    left, right = 0, n\n",
        "\n",
        "    while left <= right:\n",
        "        mid = (left + right) // 2\n",
        "        sum = (mid * (mid + 1)) // 2\n",
        "\n",
        "        if sum <= n:\n",
        "            left = mid + 1\n",
        "        else:\n",
        "            right = mid - 1\n",
        "\n",
        "    return right\n",
        "\n",
        "\n",
        "result = arrangeCoins(n)\n",
        "print(\"Output:\", result)\n"
      ],
      "metadata": {
        "colab": {
          "base_uri": "https://localhost:8080/"
        },
        "id": "gI0RbmRZbaP-",
        "outputId": "30b66d8e-68a8-40f5-ba6e-afc8a9b7e2fc"
      },
      "execution_count": 12,
      "outputs": [
        {
          "output_type": "stream",
          "name": "stdout",
          "text": [
            "Output: 3\n"
          ]
        }
      ]
    },
    {
      "cell_type": "markdown",
      "source": [
        "Answer no.6 :-"
      ],
      "metadata": {
        "id": "RPI8IXYMbbwB"
      }
    },
    {
      "cell_type": "code",
      "source": [
        "nums = [-4, -1, 0, 3, 10]\n",
        "def sortedSquares(nums):\n",
        "    left = 0\n",
        "    right = len(nums) - 1\n",
        "    result = [0] * len(nums)\n",
        "\n",
        "    for i in range(len(nums) - 1, -1, -1):\n",
        "        if abs(nums[left]) >= abs(nums[right]):\n",
        "            result[i] = nums[left] * nums[left]\n",
        "            left += 1\n",
        "        else:\n",
        "            result[i] = nums[right] * nums[right]\n",
        "            right -= 1\n",
        "\n",
        "    return result\n",
        "\n",
        "result = sortedSquares(nums)\n",
        "print(\"Output:\", result)\n"
      ],
      "metadata": {
        "colab": {
          "base_uri": "https://localhost:8080/"
        },
        "id": "wpVJCjnubcG1",
        "outputId": "343ef7c1-d2ac-4ef2-c2b3-0c1220c3963b"
      },
      "execution_count": 13,
      "outputs": [
        {
          "output_type": "stream",
          "name": "stdout",
          "text": [
            "Output: [0, 1, 9, 16, 100]\n"
          ]
        }
      ]
    },
    {
      "cell_type": "markdown",
      "source": [
        "Answer no.7 :-"
      ],
      "metadata": {
        "id": "fQOz1gt9bcjj"
      }
    },
    {
      "cell_type": "code",
      "source": [
        "m = 3\n",
        "n = 3\n",
        "ops = [[2, 2], [3, 3]]\n",
        "def maxCount(m, n, ops):\n",
        "    min_ai = m\n",
        "    min_bi = n\n",
        "\n",
        "    for ai, bi in ops:\n",
        "        min_ai = min(min_ai, ai)\n",
        "        min_bi = min(min_bi, bi)\n",
        "\n",
        "    return min_ai * min_bi\n",
        "\n",
        "count = maxCount(m, n, ops)\n",
        "print(\"Count:\", count)\n"
      ],
      "metadata": {
        "colab": {
          "base_uri": "https://localhost:8080/"
        },
        "id": "ZEFLr64cbdEx",
        "outputId": "dc5f1003-e2e5-48ee-9dd5-f82e02d7eb41"
      },
      "execution_count": 14,
      "outputs": [
        {
          "output_type": "stream",
          "name": "stdout",
          "text": [
            "Count: 4\n"
          ]
        }
      ]
    },
    {
      "cell_type": "markdown",
      "source": [
        "Answer no.8 :-"
      ],
      "metadata": {
        "id": "XRxwMHuobdet"
      }
    },
    {
      "cell_type": "code",
      "source": [
        "nums = [1, 2, 3, 4, 5, 6]\n",
        "def rearrangeArray(nums):\n",
        "    n = len(nums) // 2\n",
        "    p1, p2 = 0, n\n",
        "    result = []\n",
        "\n",
        "    for _ in range(n):\n",
        "        result.append(nums[p1])\n",
        "        result.append(nums[p2])\n",
        "        p1 += 1\n",
        "        p2 += 1\n",
        "\n",
        "    return result\n",
        "\n",
        "result = rearrangeArray(nums)\n",
        "print(\"Rearranged Array:\", result)\n"
      ],
      "metadata": {
        "colab": {
          "base_uri": "https://localhost:8080/"
        },
        "id": "uBU1Vyh6bd8J",
        "outputId": "c472e7ce-4f71-433d-9cf0-7edf8c69e99c"
      },
      "execution_count": 15,
      "outputs": [
        {
          "output_type": "stream",
          "name": "stdout",
          "text": [
            "Rearranged Array: [1, 4, 2, 5, 3, 6]\n"
          ]
        }
      ]
    }
  ]
}