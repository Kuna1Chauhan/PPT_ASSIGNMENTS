{
  "nbformat": 4,
  "nbformat_minor": 0,
  "metadata": {
    "colab": {
      "provenance": []
    },
    "kernelspec": {
      "name": "python3",
      "display_name": "Python 3"
    },
    "language_info": {
      "name": "python"
    }
  },
  "cells": [
    {
      "cell_type": "markdown",
      "source": [
        "Answer No.1 :- "
      ],
      "metadata": {
        "id": "HTQMyei37Y75"
      }
    },
    {
      "cell_type": "code",
      "execution_count": 1,
      "metadata": {
        "colab": {
          "base_uri": "https://localhost:8080/"
        },
        "id": "wReZ6NZ_7HmI",
        "outputId": "a91c65de-8eed-49d3-fc1b-45388f6ae1a3"
      },
      "outputs": [
        {
          "output_type": "stream",
          "name": "stdout",
          "text": [
            "[[1, 2, 3], [4, 5, 6]]\n"
          ]
        }
      ],
      "source": [
        "original = [1, 2, 3, 4, 5, 6]\n",
        "m = 2\n",
        "n = 3\n",
        "def convert_to_2d_array(original, m, n):\n",
        "    if len(original) != m * n:\n",
        "        return []\n",
        "    \n",
        "    result = []\n",
        "    for i in range(m):\n",
        "        row = original[i * n : (i + 1) * n]\n",
        "        result.append(row)\n",
        "    \n",
        "    return result\n",
        "\n",
        "result = convert_to_2d_array(original, m, n)\n",
        "print(result)\n"
      ]
    },
    {
      "cell_type": "markdown",
      "source": [
        "Answer No.2 :-"
      ],
      "metadata": {
        "id": "DrN1nuIX7gM_"
      }
    },
    {
      "cell_type": "code",
      "source": [
        "import math\n",
        "n = 10\n",
        "def arrangeCoins(n):\n",
        "    return int((math.sqrt(8 * n + 1) - 1) / 2)\n",
        "\n",
        "result = arrangeCoins(n)\n",
        "print(result)\n"
      ],
      "metadata": {
        "colab": {
          "base_uri": "https://localhost:8080/"
        },
        "id": "LSl48-P97YT0",
        "outputId": "664e0aeb-fa24-42c6-896e-113e18022c40"
      },
      "execution_count": 2,
      "outputs": [
        {
          "output_type": "stream",
          "name": "stdout",
          "text": [
            "4\n"
          ]
        }
      ]
    },
    {
      "cell_type": "markdown",
      "source": [
        "Answer No.3 :-"
      ],
      "metadata": {
        "id": "0V5iR0LJ7lXI"
      }
    },
    {
      "cell_type": "code",
      "source": [
        "nums = [-4, -1, 0, 3, 10]\n",
        "def sortedSquares(nums):\n",
        "    # Create a new array to store the squared values\n",
        "    squared_nums = [num ** 2 for num in nums]\n",
        "\n",
        "    # Sort the squared values in non-decreasing order\n",
        "    squared_nums.sort()\n",
        "\n",
        "    return squared_nums\n",
        "\n",
        "result = sortedSquares(nums)\n",
        "print(result)\n"
      ],
      "metadata": {
        "colab": {
          "base_uri": "https://localhost:8080/"
        },
        "id": "YeapVe0q7nFJ",
        "outputId": "95a168dc-5a69-46f0-832f-185e2ee64d85"
      },
      "execution_count": 3,
      "outputs": [
        {
          "output_type": "stream",
          "name": "stdout",
          "text": [
            "[0, 1, 9, 16, 100]\n"
          ]
        }
      ]
    },
    {
      "cell_type": "markdown",
      "source": [
        "Answer No.4 :-"
      ],
      "metadata": {
        "id": "LULenLIe7nfI"
      }
    },
    {
      "cell_type": "code",
      "source": [
        "nums1 = [4, 3, 2, 7, 8, 2, 3, 1]\n",
        "nums2 = [2, 7, 4, 1, 9]\n",
        "\n",
        "def findDisappearedNumbers(nums1, nums2):\n",
        "    set1 = set(nums1)\n",
        "    set2 = set(nums2)\n",
        "\n",
        "    distinct_nums1 = list(set1 - set2)\n",
        "    distinct_nums2 = list(set2 - set1)\n",
        "\n",
        "    return [distinct_nums1, distinct_nums2]\n",
        "\n",
        "result = findDisappearedNumbers(nums1, nums2)\n",
        "print(result)\n"
      ],
      "metadata": {
        "colab": {
          "base_uri": "https://localhost:8080/"
        },
        "id": "Adx7C2oa7pdS",
        "outputId": "8a753bce-375f-4a1b-e26f-2f76bcf5763a"
      },
      "execution_count": 4,
      "outputs": [
        {
          "output_type": "stream",
          "name": "stdout",
          "text": [
            "[[8, 3], [9]]\n"
          ]
        }
      ]
    },
    {
      "cell_type": "markdown",
      "source": [
        "Answer No.5 :-"
      ],
      "metadata": {
        "id": "We5lMIu37p5r"
      }
    },
    {
      "cell_type": "code",
      "source": [
        "arr1 = [4, 5, 8]\n",
        "arr2 = [10, 9, 1, 8]\n",
        "d = 2\n",
        "\n",
        "def findDistanceValue(arr1, arr2, d):\n",
        "    distance_value = 0\n",
        "    \n",
        "    for num1 in arr1:\n",
        "        if all(abs(num1 - num2) > d for num2 in arr2):\n",
        "            distance_value += 1\n",
        "    \n",
        "    return distance_value\n",
        "\n",
        "result = findDistanceValue(arr1, arr2, d)\n",
        "print(result)\n"
      ],
      "metadata": {
        "colab": {
          "base_uri": "https://localhost:8080/"
        },
        "id": "jwszGqEQ7ruN",
        "outputId": "85f0548a-7a9d-436d-b276-c48b36507b5b"
      },
      "execution_count": 5,
      "outputs": [
        {
          "output_type": "stream",
          "name": "stdout",
          "text": [
            "2\n"
          ]
        }
      ]
    },
    {
      "cell_type": "markdown",
      "source": [
        "Answer No.6 :-"
      ],
      "metadata": {
        "id": "A6cZsYHO7sFa"
      }
    },
    {
      "cell_type": "code",
      "source": [
        "nums = [4, 3, 2, 7, 8, 2, 3, 1]\n",
        "\n",
        "def findDuplicates(nums):\n",
        "    duplicates = []\n",
        "    \n",
        "    for num in nums:\n",
        "        if nums[abs(num) - 1] < 0:\n",
        "            duplicates.append(abs(num))\n",
        "        else:\n",
        "            nums[abs(num) - 1] *= -1\n",
        "    \n",
        "    return duplicates\n",
        "\n",
        "result = findDuplicates(nums)\n",
        "print(result)\n"
      ],
      "metadata": {
        "colab": {
          "base_uri": "https://localhost:8080/"
        },
        "id": "QPYeQcng7t7f",
        "outputId": "652a042b-aa10-4ccb-9f0a-bf863e107e12"
      },
      "execution_count": 6,
      "outputs": [
        {
          "output_type": "stream",
          "name": "stdout",
          "text": [
            "[2, 3]\n"
          ]
        }
      ]
    },
    {
      "cell_type": "markdown",
      "source": [
        "Answer No.7 :-"
      ],
      "metadata": {
        "id": "Ci1WxT_h7uWG"
      }
    },
    {
      "cell_type": "code",
      "source": [
        "nums = [4, 5, 6, 7, 0, 1, 2]\n",
        "\n",
        "def findMin(nums):\n",
        "    left = 0\n",
        "    right = len(nums) - 1\n",
        "    \n",
        "    while left < right:\n",
        "        mid = left + (right - left) // 2\n",
        "        \n",
        "        if nums[mid] > nums[right]:\n",
        "            left = mid + 1\n",
        "        else:\n",
        "            right = mid\n",
        "    \n",
        "    return nums[left]\n",
        "\n",
        "result = findMin(nums)\n",
        "print(result)\n"
      ],
      "metadata": {
        "colab": {
          "base_uri": "https://localhost:8080/"
        },
        "id": "kV5XS9Po7wCb",
        "outputId": "49e44285-afa0-48fc-86bd-6ab4eab0521f"
      },
      "execution_count": 7,
      "outputs": [
        {
          "output_type": "stream",
          "name": "stdout",
          "text": [
            "0\n"
          ]
        }
      ]
    },
    {
      "cell_type": "markdown",
      "source": [
        "Answer No.8 :-"
      ],
      "metadata": {
        "id": "43u9YIl-7wev"
      }
    },
    {
      "cell_type": "code",
      "source": [
        "changed = [1, 2, 2, 4, 8, 16]\n",
        "\n",
        "def findOriginalArray(changed):\n",
        "    if len(changed) % 2 != 0:\n",
        "        return []\n",
        "\n",
        "    # Count the occurrences of each element in the changed array\n",
        "    count_map = {}\n",
        "    for num in changed:\n",
        "        count_map[num] = count_map.get(num, 0) + 1\n",
        "\n",
        "    original = []\n",
        "    for num in sorted(changed):\n",
        "        if count_map[num] == 0:\n",
        "            continue\n",
        "\n",
        "        double_num = num * 2\n",
        "\n",
        "        if double_num in count_map and count_map[double_num] > 0:\n",
        "            original.append(num)\n",
        "\n",
        "            # Decrement the count of the double_num element\n",
        "            count_map[double_num] -= 1\n",
        "\n",
        "            # Decrement the count of the num element\n",
        "            count_map[num] -= 1\n",
        "        else:\n",
        "            return []\n",
        "\n",
        "    return original\n",
        "\n",
        "original = findOriginalArray(changed)\n",
        "print(original)\n"
      ],
      "metadata": {
        "colab": {
          "base_uri": "https://localhost:8080/"
        },
        "id": "rEFVSks67y1b",
        "outputId": "b84a979c-5a5b-45c8-ed30-02ad88aaa3f3"
      },
      "execution_count": 8,
      "outputs": [
        {
          "output_type": "stream",
          "name": "stdout",
          "text": [
            "[1, 2, 8]\n"
          ]
        }
      ]
    }
  ]
}