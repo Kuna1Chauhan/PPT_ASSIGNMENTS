{
  "nbformat": 4,
  "nbformat_minor": 0,
  "metadata": {
    "colab": {
      "provenance": []
    },
    "kernelspec": {
      "name": "python3",
      "display_name": "Python 3"
    },
    "language_info": {
      "name": "python"
    }
  },
  "cells": [
    {
      "cell_type": "markdown",
      "source": [
        "Answer No.1 :- "
      ],
      "metadata": {
        "id": "TiucEFzecegi"
      }
    },
    {
      "cell_type": "code",
      "execution_count": 1,
      "metadata": {
        "colab": {
          "base_uri": "https://localhost:8080/"
        },
        "id": "di5AqfRvcWLP",
        "outputId": "617745f4-6abc-40f7-d23f-d06f7f2a5bff"
      },
      "outputs": [
        {
          "output_type": "stream",
          "name": "stdout",
          "text": [
            "[0, 2, 1, 4, 3]\n"
          ]
        }
      ],
      "source": [
        "s = \"IDID\"\n",
        "\n",
        "def findPermutation(s):\n",
        "    n = len(s)\n",
        "    perm = list(range(n + 1))\n",
        "\n",
        "    for i in range(n):\n",
        "        if s[i] == 'D':\n",
        "            j = i\n",
        "            while i < n and s[i] == 'D':\n",
        "                i += 1\n",
        "\n",
        "            perm[j:i + 1] = perm[j:i + 1][::-1]\n",
        "\n",
        "    return perm\n",
        "\n",
        "perm = findPermutation(s)\n",
        "print(perm)\n"
      ]
    },
    {
      "cell_type": "markdown",
      "source": [
        "Answer No.2 :- "
      ],
      "metadata": {
        "id": "l-gcS-tDcjdZ"
      }
    },
    {
      "cell_type": "code",
      "source": [
        "matrix = [\n",
        "    [1, 3, 5, 7],\n",
        "    [10, 11, 16, 20],\n",
        "    [23, 30, 34, 60]\n",
        "]\n",
        "target = 3\n",
        "\n",
        "def searchMatrix(matrix, target):\n",
        "    if not matrix or not matrix[0]:\n",
        "        return False\n",
        "\n",
        "    rows, cols = len(matrix), len(matrix[0])\n",
        "    left, right = 0, rows * cols - 1\n",
        "\n",
        "    while left <= right:\n",
        "        mid = (left + right) // 2\n",
        "        num = matrix[mid // cols][mid % cols]\n",
        "\n",
        "        if num == target:\n",
        "            return True\n",
        "        elif num < target:\n",
        "            left = mid + 1\n",
        "        else:\n",
        "            right = mid - 1\n",
        "\n",
        "    return False\n",
        "\n",
        "found = searchMatrix(matrix, target)\n",
        "print(found)\n"
      ],
      "metadata": {
        "colab": {
          "base_uri": "https://localhost:8080/"
        },
        "id": "ejipkPlLclJ8",
        "outputId": "9c8cd03b-6e43-4e29-f7d5-bb41dc3c77f9"
      },
      "execution_count": 2,
      "outputs": [
        {
          "output_type": "stream",
          "name": "stdout",
          "text": [
            "True\n"
          ]
        }
      ]
    },
    {
      "cell_type": "markdown",
      "source": [
        "Answer No.3 :- "
      ],
      "metadata": {
        "id": "XcRhauz3clkj"
      }
    },
    {
      "cell_type": "code",
      "source": [
        "arr = [1, 2, 3, 4, 5, 4, 3, 2, 1]\n",
        "\n",
        "def validMountainArray(arr):\n",
        "    n = len(arr)\n",
        "    if n < 3:\n",
        "        return False\n",
        "\n",
        "    i = 0\n",
        "\n",
        "    # Check for increasing sequence\n",
        "    while i < n - 1 and arr[i] < arr[i + 1]:\n",
        "        i += 1\n",
        "\n",
        "    # Check if there is a peak\n",
        "    if i == 0 or i == n - 1:\n",
        "        return False\n",
        "\n",
        "    # Check for decreasing sequence\n",
        "    while i < n - 1 and arr[i] > arr[i + 1]:\n",
        "        i += 1\n",
        "\n",
        "    return i == n - 1\n",
        "\n",
        "isValidMountain = validMountainArray(arr)\n",
        "print(isValidMountain)\n"
      ],
      "metadata": {
        "colab": {
          "base_uri": "https://localhost:8080/"
        },
        "id": "nuVBed18cm66",
        "outputId": "f7da74aa-7fdc-4070-a2aa-08b73dd988b3"
      },
      "execution_count": 3,
      "outputs": [
        {
          "output_type": "stream",
          "name": "stdout",
          "text": [
            "True\n"
          ]
        }
      ]
    },
    {
      "cell_type": "markdown",
      "source": [
        "Answer No.4 :- "
      ],
      "metadata": {
        "id": "T6-MzofwcnOK"
      }
    },
    {
      "cell_type": "code",
      "source": [
        "nums = [0, 1, 0, 1, 0, 0, 1, 1, 0, 0]\n",
        "\n",
        "def findMaxLength(nums):\n",
        "    count = 0\n",
        "    max_length = 0\n",
        "    counts = {0: -1}  # Stores the index of count occurrences\n",
        "\n",
        "    for i in range(len(nums)):\n",
        "        # Increment count by 1 for every 1 and decrement by 1 for every 0\n",
        "        count += 1 if nums[i] == 1 else -1\n",
        "\n",
        "        if count in counts:\n",
        "            # If the current count is already in the counts dictionary,\n",
        "            # it means that we have found a subarray with equal 0s and 1s\n",
        "            max_length = max(max_length, i - counts[count])\n",
        "        else:\n",
        "            # If the current count is not in the counts dictionary,\n",
        "            # add it with the current index as the value\n",
        "            counts[count] = i\n",
        "\n",
        "    return max_length\n",
        "\n",
        "maxLength = findMaxLength(nums)\n",
        "print(maxLength)\n"
      ],
      "metadata": {
        "colab": {
          "base_uri": "https://localhost:8080/"
        },
        "id": "yTP547oWcomt",
        "outputId": "3aab5501-8c67-47fd-fb63-4f768c89edc0"
      },
      "execution_count": 4,
      "outputs": [
        {
          "output_type": "stream",
          "name": "stdout",
          "text": [
            "8\n"
          ]
        }
      ]
    },
    {
      "cell_type": "markdown",
      "source": [
        "Answer No.5 :- "
      ],
      "metadata": {
        "id": "Q77gpPqPco7c"
      }
    },
    {
      "cell_type": "code",
      "source": [
        "nums1 = [1, 2, 3, 4]\n",
        "nums2 = [5, 2, 3, 1]\n",
        "\n",
        "def minProductSum(nums1, nums2):\n",
        "    nums1.sort()  # Sort nums1 in ascending order\n",
        "    nums2.sort(reverse=True)  # Sort nums2 in descending order\n",
        "\n",
        "    min_sum = sum(nums1[i] * nums2[i] for i in range(len(nums1)))\n",
        "    \n",
        "    return min_sum\n",
        "\n",
        "minProduct = minProductSum(nums1, nums2)\n",
        "print(minProduct)\n"
      ],
      "metadata": {
        "colab": {
          "base_uri": "https://localhost:8080/"
        },
        "id": "QRaq1xHPcqnI",
        "outputId": "c45a26b7-4338-4373-ca40-76a678d28037"
      },
      "execution_count": 5,
      "outputs": [
        {
          "output_type": "stream",
          "name": "stdout",
          "text": [
            "21\n"
          ]
        }
      ]
    },
    {
      "cell_type": "markdown",
      "source": [
        "Answer No.6 :- "
      ],
      "metadata": {
        "id": "HZmlWfETcrA7"
      }
    },
    {
      "cell_type": "code",
      "source": [
        "changed = [2, 2, 4, 8, 4, 4]\n",
        "\n",
        "def findOriginalArray(changed):\n",
        "    if len(changed) % 2 != 0:\n",
        "        return []\n",
        "    \n",
        "    count = {}\n",
        "    original = []\n",
        "    \n",
        "    for num in changed:\n",
        "        if num / 2 in count and count[num / 2] > 0:\n",
        "            count[num / 2] -= 1\n",
        "            original.append(num / 2)\n",
        "        else:\n",
        "            count[num * 2] = count.get(num * 2, 0) + 1\n",
        "    \n",
        "    if all(value == 0 for value in count.values()):\n",
        "        return original\n",
        "    else:\n",
        "        return []\n",
        "\n",
        "\n",
        "original = findOriginalArray(changed)\n",
        "print(original)\n"
      ],
      "metadata": {
        "colab": {
          "base_uri": "https://localhost:8080/"
        },
        "id": "5LVYUPiFcsSc",
        "outputId": "96838e58-2956-47ab-d45f-27f04a87ac8e"
      },
      "execution_count": 13,
      "outputs": [
        {
          "output_type": "stream",
          "name": "stdout",
          "text": [
            "[]\n"
          ]
        }
      ]
    },
    {
      "cell_type": "markdown",
      "source": [
        "Answer No.7 :- "
      ],
      "metadata": {
        "id": "_44kJm8Mcs7s"
      }
    },
    {
      "cell_type": "code",
      "source": [
        "n = 3\n",
        "\n",
        "def generateMatrix(n):\n",
        "    matrix = [[0] * n for _ in range(n)]\n",
        "    num = 1\n",
        "    top, bottom, left, right = 0, n - 1, 0, n - 1\n",
        "\n",
        "    while num <= n * n:\n",
        "        # Traverse top row\n",
        "        for i in range(left, right + 1):\n",
        "            matrix[top][i] = num\n",
        "            num += 1\n",
        "        top += 1\n",
        "\n",
        "        # Traverse right column\n",
        "        for i in range(top, bottom + 1):\n",
        "            matrix[i][right] = num\n",
        "            num += 1\n",
        "        right -= 1\n",
        "\n",
        "        # Traverse bottom row\n",
        "        for i in range(right, left - 1, -1):\n",
        "            matrix[bottom][i] = num\n",
        "            num += 1\n",
        "        bottom -= 1\n",
        "\n",
        "        # Traverse left column\n",
        "        for i in range(bottom, top - 1, -1):\n",
        "            matrix[i][left] = num\n",
        "            num += 1\n",
        "        left += 1\n",
        "\n",
        "    return matrix\n",
        "\n",
        "matrix = generateMatrix(n)\n",
        "for row in matrix:\n",
        "    print(row)\n"
      ],
      "metadata": {
        "colab": {
          "base_uri": "https://localhost:8080/"
        },
        "id": "W0FJqYbmcuXq",
        "outputId": "70a1035c-bb45-40a2-877e-426a0bf5b64b"
      },
      "execution_count": 14,
      "outputs": [
        {
          "output_type": "stream",
          "name": "stdout",
          "text": [
            "[1, 2, 3]\n",
            "[8, 9, 4]\n",
            "[7, 6, 5]\n"
          ]
        }
      ]
    },
    {
      "cell_type": "markdown",
      "source": [
        "Answer No.8 :-"
      ],
      "metadata": {
        "id": "JdRujDQSeq86"
      }
    },
    {
      "cell_type": "code",
      "source": [
        "mat1 = [[1, 0, 0],\n",
        "        [-1, 0, 3]]\n",
        "\n",
        "mat2 = [[7, 0, 0],\n",
        "        [0, 0, 0],\n",
        "        [0, 0, 1]]\n",
        "\n",
        "def multiply(mat1, mat2):\n",
        "    m, k = len(mat1), len(mat1[0])\n",
        "    k2, n = len(mat2), len(mat2[0])\n",
        "\n",
        "    result = [[0] * n for _ in range(m)]\n",
        "\n",
        "    for i in range(m):\n",
        "        for j in range(k):\n",
        "            if mat1[i][j] != 0:\n",
        "                for col in range(n):\n",
        "                    result[i][col] += mat1[i][j] * mat2[j][col]\n",
        "\n",
        "    return result\n",
        "\n",
        "result = multiply(mat1, mat2)\n",
        "for row in result:\n",
        "    print(row)\n"
      ],
      "metadata": {
        "colab": {
          "base_uri": "https://localhost:8080/"
        },
        "id": "dnOepSoReqbv",
        "outputId": "ce8a16d3-8c58-4e76-ba2c-5213a2177f23"
      },
      "execution_count": 15,
      "outputs": [
        {
          "output_type": "stream",
          "name": "stdout",
          "text": [
            "[7, 0, 0]\n",
            "[-7, 0, 3]\n"
          ]
        }
      ]
    }
  ]
}