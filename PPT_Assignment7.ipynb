{
  "nbformat": 4,
  "nbformat_minor": 0,
  "metadata": {
    "colab": {
      "provenance": []
    },
    "kernelspec": {
      "name": "python3",
      "display_name": "Python 3"
    },
    "language_info": {
      "name": "python"
    }
  },
  "cells": [
    {
      "cell_type": "markdown",
      "source": [
        "Answer No.1 :-"
      ],
      "metadata": {
        "id": "rDAGzG7mh76S"
      }
    },
    {
      "cell_type": "code",
      "execution_count": 1,
      "metadata": {
        "colab": {
          "base_uri": "https://localhost:8080/"
        },
        "id": "bddbZ5ifh45R",
        "outputId": "4fb808ae-4734-4963-8533-117e4208934e"
      },
      "outputs": [
        {
          "output_type": "stream",
          "name": "stdout",
          "text": [
            "True\n"
          ]
        }
      ],
      "source": [
        "s = \"egg\"\n",
        "t = \"add\"\n",
        "\n",
        "def isomorphic_strings(s, t):\n",
        "    if len(s) != len(t):\n",
        "        return False\n",
        "\n",
        "    s_to_t = {}\n",
        "    t_to_s = {}\n",
        "\n",
        "    for char_s, char_t in zip(s, t):\n",
        "        if char_s in s_to_t:\n",
        "            if s_to_t[char_s] != char_t:\n",
        "                return False\n",
        "        elif char_t in t_to_s:\n",
        "            if t_to_s[char_t] != char_s:\n",
        "                return False\n",
        "        else:\n",
        "            s_to_t[char_s] = char_t\n",
        "            t_to_s[char_t] = char_s\n",
        "\n",
        "    return True\n",
        "\n",
        "print(isomorphic_strings(s, t))"
      ]
    },
    {
      "cell_type": "markdown",
      "source": [
        "Answer No.2 :-"
      ],
      "metadata": {
        "id": "4_L-g2w7iAe0"
      }
    },
    {
      "cell_type": "code",
      "source": [
        "num = \"88\"\n",
        "\n",
        "def is_strobogrammatic(num):\n",
        "    mapping = {\n",
        "        '0': '0',\n",
        "        '1': '1',\n",
        "        '6': '9',\n",
        "        '8': '8',\n",
        "        '9': '6'\n",
        "    }\n",
        "\n",
        "    valid_pairs = {\n",
        "        '0': '0',\n",
        "        '1': '1',\n",
        "        '6': '9',\n",
        "        '8': '8',\n",
        "        '9': '6'\n",
        "    }\n",
        "\n",
        "    left, right = 0, len(num) - 1\n",
        "\n",
        "    while left <= right:\n",
        "        digit_left = num[left]\n",
        "        digit_right = num[right]\n",
        "\n",
        "        if digit_left not in mapping or digit_right not in valid_pairs[digit_left]:\n",
        "            return False\n",
        "\n",
        "        if digit_left != digit_right:\n",
        "            return False\n",
        "\n",
        "        left += 1\n",
        "        right -= 1\n",
        "\n",
        "    return True\n",
        "\n",
        "print(is_strobogrammatic(num))"
      ],
      "metadata": {
        "colab": {
          "base_uri": "https://localhost:8080/"
        },
        "id": "kGwYULixiB-Q",
        "outputId": "4d97883d-4682-415b-df8e-e6a44d10b0d8"
      },
      "execution_count": 3,
      "outputs": [
        {
          "output_type": "stream",
          "name": "stdout",
          "text": [
            "True\n"
          ]
        }
      ]
    },
    {
      "cell_type": "markdown",
      "source": [
        "Answer No.3 :-"
      ],
      "metadata": {
        "id": "CqWcaYg6iCWk"
      }
    },
    {
      "cell_type": "code",
      "source": [
        "num1 = \"123\"\n",
        "num2 = \"456\"\n",
        "\n",
        "def addStrings(num1, num2):\n",
        "    p1, p2 = len(num1) - 1, len(num2) - 1\n",
        "    carry = 0\n",
        "    result = \"\"\n",
        "\n",
        "    while p1 >= 0 or p2 >= 0 or carry != 0:\n",
        "        x = int(num1[p1]) if p1 >= 0 else 0\n",
        "        y = int(num2[p2]) if p2 >= 0 else 0\n",
        "        s = x + y + carry\n",
        "        result = str(s % 10) + result\n",
        "        carry = s // 10\n",
        "        p1 -= 1\n",
        "        p2 -= 1\n",
        "\n",
        "    return result\n",
        "\n",
        "print(addStrings(num1, num2))\n",
        "\n"
      ],
      "metadata": {
        "colab": {
          "base_uri": "https://localhost:8080/"
        },
        "id": "il463Ij7iEI_",
        "outputId": "2a1850c0-5db4-43d7-aa0e-d743c55dbed9"
      },
      "execution_count": 4,
      "outputs": [
        {
          "output_type": "stream",
          "name": "stdout",
          "text": [
            "579\n"
          ]
        }
      ]
    },
    {
      "cell_type": "markdown",
      "source": [
        "Answer No.4 :-"
      ],
      "metadata": {
        "id": "nxNYKrPQiEpx"
      }
    },
    {
      "cell_type": "code",
      "source": [
        "s = \"Hello World\"\n",
        "def reverseWords(s):\n",
        "    words = s.split()\n",
        "    for i in range(len(words)):\n",
        "        words[i] = words[i][::-1]\n",
        "    reversed_s = \" \".join(words)\n",
        "    return reversed_s\n",
        "\n",
        "print(reverseWords(s))\n"
      ],
      "metadata": {
        "colab": {
          "base_uri": "https://localhost:8080/"
        },
        "id": "YI4jZ8WaiGKO",
        "outputId": "7e52d2aa-dc21-40ef-8d06-837d7849da30"
      },
      "execution_count": 5,
      "outputs": [
        {
          "output_type": "stream",
          "name": "stdout",
          "text": [
            "olleH dlroW\n"
          ]
        }
      ]
    },
    {
      "cell_type": "markdown",
      "source": [
        "Answer No.5 :-"
      ],
      "metadata": {
        "id": "k0YV3YEeiGoE"
      }
    },
    {
      "cell_type": "code",
      "source": [
        "s = \"abcdefg\"\n",
        "k = 1\n",
        "\n",
        "def reverseStr(s, k):\n",
        "    result = []\n",
        "    for i in range(0, len(s), 2*k):\n",
        "        substring = s[i:i+k]\n",
        "        if len(substring) < k:\n",
        "            result.append(substring[::-1])\n",
        "        else:\n",
        "            result.append(substring[:k][::-1] + substring[k:])\n",
        "    return \"\".join(result)\n",
        "\n",
        "print(reverseStr(s, k))"
      ],
      "metadata": {
        "colab": {
          "base_uri": "https://localhost:8080/"
        },
        "id": "ofM0jfWAiJGW",
        "outputId": "793c7242-3e46-4f77-95f1-88e43dfb3746"
      },
      "execution_count": 10,
      "outputs": [
        {
          "output_type": "stream",
          "name": "stdout",
          "text": [
            "aceg\n"
          ]
        }
      ]
    },
    {
      "cell_type": "markdown",
      "source": [
        "Answer No.6 :-"
      ],
      "metadata": {
        "id": "cwBRVDoiiJfJ"
      }
    },
    {
      "cell_type": "code",
      "source": [
        "s = \"abcde\"\n",
        "goal = \"bcdea\"\n",
        "\n",
        "def canTransform(s, goal):\n",
        "    if len(s) != len(goal):\n",
        "        return False\n",
        "    return goal in (s + s)\n",
        "\n",
        "print(canTransform(s, goal))\n"
      ],
      "metadata": {
        "colab": {
          "base_uri": "https://localhost:8080/"
        },
        "id": "XQlmfELNiK5L",
        "outputId": "2c0e0fba-0380-44f5-90df-1a2d62f2b2c2"
      },
      "execution_count": 11,
      "outputs": [
        {
          "output_type": "stream",
          "name": "stdout",
          "text": [
            "True\n"
          ]
        }
      ]
    },
    {
      "cell_type": "markdown",
      "source": [
        "Answer No.7 :-"
      ],
      "metadata": {
        "id": "IeDW-znXiLVQ"
      }
    },
    {
      "cell_type": "code",
      "source": [
        "s = \"ab#c\"\n",
        "t = \"ad#c\"\n",
        "\n",
        "def processString(s):\n",
        "    typed = []\n",
        "    for char in s:\n",
        "        if char != '#':\n",
        "            typed.append(char)\n",
        "        elif typed:\n",
        "            typed.pop()\n",
        "    return ''.join(typed)\n",
        "\n",
        "def isEqualWithBackspace(s, t):\n",
        "    return processString(s) == processString(t)\n",
        "\n",
        "print(isEqualWithBackspace(s, t))\n"
      ],
      "metadata": {
        "colab": {
          "base_uri": "https://localhost:8080/"
        },
        "id": "vt_Dj4lqiMrM",
        "outputId": "7f37c83a-d54d-4c9b-d6f0-e17e69b1181a"
      },
      "execution_count": 12,
      "outputs": [
        {
          "output_type": "stream",
          "name": "stdout",
          "text": [
            "True\n"
          ]
        }
      ]
    },
    {
      "cell_type": "markdown",
      "source": [
        "Answer No.8 :-"
      ],
      "metadata": {
        "id": "Giq2p2oUiNG_"
      }
    },
    {
      "cell_type": "code",
      "source": [
        "coordinates = [[1,1],[2,2],[3,4],[4,5],[5,6],[7,7]]\n",
        "\n",
        "def checkStraightLine(coordinates):\n",
        "    n = len(coordinates)\n",
        "    x1, y1 = coordinates[0]\n",
        "    x2, y2 = coordinates[1]\n",
        "    for i in range(2, n):\n",
        "        x, y = coordinates[i]\n",
        "        if (y - y1) * (x2 - x1) != (y2 - y1) * (x - x1):\n",
        "            return False\n",
        "    return True\n",
        "\n",
        "print(checkStraightLine(coordinates))\n"
      ],
      "metadata": {
        "colab": {
          "base_uri": "https://localhost:8080/"
        },
        "id": "OAdKywvdiOlX",
        "outputId": "fd958cd9-07ce-42cb-d570-55065f736bd0"
      },
      "execution_count": 13,
      "outputs": [
        {
          "output_type": "stream",
          "name": "stdout",
          "text": [
            "False\n"
          ]
        }
      ]
    }
  ]
}