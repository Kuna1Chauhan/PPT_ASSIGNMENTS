{
  "nbformat": 4,
  "nbformat_minor": 0,
  "metadata": {
    "colab": {
      "provenance": []
    },
    "kernelspec": {
      "name": "python3",
      "display_name": "Python 3"
    },
    "language_info": {
      "name": "python"
    }
  },
  "cells": [
    {
      "cell_type": "markdown",
      "source": [
        "Answer No.1 :-"
      ],
      "metadata": {
        "id": "IeJHBCV7ZKwb"
      }
    },
    {
      "cell_type": "code",
      "source": [
        "s1 = \"string1\"\n",
        "s2 = \"string2\"\n",
        "def minimumDeleteSum(s1, s2):\n",
        "    m, n = len(s1), len(s2)\n",
        "    dp = [[0] * (n+1) for _ in range(m+1)]\n",
        "\n",
        "    # Initialize first row\n",
        "    for j in range(1, n+1):\n",
        "        dp[0][j] = dp[0][j-1] + ord(s2[j-1])\n",
        "\n",
        "    # Initialize first column\n",
        "    for i in range(1, m+1):\n",
        "        dp[i][0] = dp[i-1][0] + ord(s1[i-1])\n",
        "\n",
        "    # Calculate dp values\n",
        "    for i in range(1, m+1):\n",
        "        for j in range(1, n+1):\n",
        "            if s1[i-1] == s2[j-1]:\n",
        "                dp[i][j] = dp[i-1][j-1]\n",
        "            else:\n",
        "                dp[i][j] = min(dp[i-1][j] + ord(s1[i-1]), dp[i][j-1] + ord(s2[j-1]))\n",
        "\n",
        "    return dp[m][n]\n",
        "\n",
        "result = minimumDeleteSum(s1, s2)\n",
        "print(result)\n"
      ],
      "metadata": {
        "colab": {
          "base_uri": "https://localhost:8080/"
        },
        "id": "Z0ihk6QnZKWc",
        "outputId": "077fb7c8-ccb0-48b0-cc95-7658b888f044"
      },
      "execution_count": 1,
      "outputs": [
        {
          "output_type": "stream",
          "name": "stdout",
          "text": [
            "99\n"
          ]
        }
      ]
    },
    {
      "cell_type": "markdown",
      "source": [
        "Answer No.2 :-"
      ],
      "metadata": {
        "id": "drfOyHZlZQFz"
      }
    },
    {
      "cell_type": "code",
      "source": [
        "s = \"(*))\"\n",
        "\n",
        "def isValid(s):\n",
        "    stack = []\n",
        "\n",
        "    for c in s:\n",
        "        if c == '(' or c == '*':\n",
        "            stack.append(c)\n",
        "        elif c == ')':\n",
        "            if stack and stack[-1] == '(':\n",
        "                stack.pop()\n",
        "            elif stack and stack[-1] == '*':\n",
        "                stack.pop()\n",
        "            else:\n",
        "                return False\n",
        "\n",
        "    while stack:\n",
        "        if stack[-1] == '(':\n",
        "            if stack.count('*') >= 1:\n",
        "                stack.pop()\n",
        "                stack.pop()\n",
        "            else:\n",
        "                return False\n",
        "        else:\n",
        "            stack.pop()\n",
        "\n",
        "    return True if not stack else False\n",
        "\n",
        "result = isValid(s)\n",
        "print(result)\n"
      ],
      "metadata": {
        "colab": {
          "base_uri": "https://localhost:8080/"
        },
        "id": "3Yhr4CQJZJa4",
        "outputId": "abf7fc0b-6180-4146-980f-c7eb8af0a9ad"
      },
      "execution_count": 2,
      "outputs": [
        {
          "output_type": "stream",
          "name": "stdout",
          "text": [
            "True\n"
          ]
        }
      ]
    },
    {
      "cell_type": "markdown",
      "source": [
        "Answer No.3 :-"
      ],
      "metadata": {
        "id": "naw_Y1z-ZQmp"
      }
    },
    {
      "cell_type": "code",
      "source": [
        "word1 = \"sea\"\n",
        "word2 = \"eat\"\n",
        "def minSteps(word1, word2):\n",
        "    m, n = len(word1), len(word2)\n",
        "    dp = [[0] * (n+1) for _ in range(m+1)]\n",
        "\n",
        "    # Initialize first row\n",
        "    for i in range(1, m+1):\n",
        "        dp[i][0] = i\n",
        "\n",
        "    # Initialize first column\n",
        "    for j in range(1, n+1):\n",
        "        dp[0][j] = j\n",
        "\n",
        "    # Calculate dp values\n",
        "    for i in range(1, m+1):\n",
        "        for j in range(1, n+1):\n",
        "            if word1[i-1] == word2[j-1]:\n",
        "                dp[i][j] = dp[i-1][j-1]\n",
        "            else:\n",
        "                dp[i][j] = 1 + min(dp[i-1][j], dp[i][j-1])\n",
        "\n",
        "    return dp[m][n]\n",
        "\n",
        "result = minSteps(word1, word2)\n",
        "print(result)  # Output: the minimum number of steps\n"
      ],
      "metadata": {
        "colab": {
          "base_uri": "https://localhost:8080/"
        },
        "id": "5_XVYaadZJJs",
        "outputId": "44600c39-296c-48e1-8197-82c3678f5042"
      },
      "execution_count": 3,
      "outputs": [
        {
          "output_type": "stream",
          "name": "stdout",
          "text": [
            "2\n"
          ]
        }
      ]
    },
    {
      "cell_type": "markdown",
      "source": [
        "Answer No.4 :-"
      ],
      "metadata": {
        "id": "mPQMq3XJZRD6"
      }
    },
    {
      "cell_type": "code",
      "source": [
        "class TreeNode:\n",
        "    def __init__(self, val=0, left=None, right=None):\n",
        "        self.val = val\n",
        "        self.left = left\n",
        "        self.right = right\n",
        "\n",
        "s = \"4(2(3)(1))(6(5))\"\n",
        "def constructTree(s, start, end):\n",
        "    if start > end:\n",
        "        return None\n",
        "\n",
        "    # Find root value\n",
        "    i = start\n",
        "    while i <= end and (s[i].isdigit() or s[i] == '-'):\n",
        "        i += 1\n",
        "    val = int(s[start:i])\n",
        "    root = TreeNode(val)\n",
        "\n",
        "    # Find left child subtree\n",
        "    leftStart = start + 1\n",
        "    leftEnd = start + 1\n",
        "    leftParentheses = 1\n",
        "    while leftParentheses != 0 and leftEnd <= end:\n",
        "        if s[leftEnd] == '(':\n",
        "            leftParentheses += 1\n",
        "        elif s[leftEnd] == ')':\n",
        "            leftParentheses -= 1\n",
        "        leftEnd += 1\n",
        "\n",
        "    if leftEnd < end:\n",
        "        root.left = constructTree(s, leftStart, leftEnd - 1)\n",
        "\n",
        "    # Find right child subtree\n",
        "    rightStart = leftEnd + 2\n",
        "    root.right = constructTree(s, rightStart, end - 1)\n",
        "\n",
        "    return root\n",
        "\n",
        "\n",
        "def str2tree(s):\n",
        "    if not s:\n",
        "        return None\n",
        "\n",
        "    return constructTree(s, 0, len(s) - 1)\n",
        "\n",
        "root = str2tree(s)\n"
      ],
      "metadata": {
        "id": "O8vypyWebszE"
      },
      "execution_count": 9,
      "outputs": []
    },
    {
      "cell_type": "markdown",
      "source": [
        "Answer No.5 :-"
      ],
      "metadata": {
        "id": "Y_vdzqECZRn-"
      }
    },
    {
      "cell_type": "code",
      "source": [
        "chars = ['a', 'a', 'b', 'b', 'c', 'c', 'c']\n",
        "def compress(chars):\n",
        "    write = 0  # write pointer\n",
        "    count = 1  # count of consecutive repeating characters\n",
        "\n",
        "    for read in range(1, len(chars)):\n",
        "        if chars[read] == chars[read-1]:\n",
        "            count += 1\n",
        "        else:\n",
        "            chars[write] = chars[read-1]  # write the character\n",
        "\n",
        "            if count > 1:\n",
        "                count_str = str(count)\n",
        "                for digit in count_str:\n",
        "                    write += 1\n",
        "                    chars[write] = digit  # write the digit(s)\n",
        "\n",
        "            write += 1\n",
        "            count = 1\n",
        "\n",
        "    chars[write] = chars[-1]  # write the last character\n",
        "\n",
        "    if count > 1:\n",
        "        count_str = str(count)\n",
        "        for digit in count_str:\n",
        "            write += 1\n",
        "            chars[write] = digit  # write the digit(s)\n",
        "\n",
        "    return write + 1\n",
        "new_length = compress(chars)\n",
        "print(chars[:new_length])\n",
        "print(new_length)\n"
      ],
      "metadata": {
        "colab": {
          "base_uri": "https://localhost:8080/"
        },
        "id": "jef7NhUJZIjz",
        "outputId": "44a7f56c-e325-4e97-a08d-2633ba5ce0ea"
      },
      "execution_count": 5,
      "outputs": [
        {
          "output_type": "stream",
          "name": "stdout",
          "text": [
            "['a', '2', 'b', '2', 'c', '3']\n",
            "6\n"
          ]
        }
      ]
    },
    {
      "cell_type": "markdown",
      "source": [
        "Answer No.6 :-"
      ],
      "metadata": {
        "id": "PGIHVP9sZSb0"
      }
    },
    {
      "cell_type": "code",
      "source": [
        "from collections import Counter\n",
        "s = \"cbaebabacd\"\n",
        "p = \"abc\"\n",
        "def findAnagrams(s, p):\n",
        "    result = []\n",
        "    freq_p = Counter(p)\n",
        "    freq_window = Counter()\n",
        "\n",
        "    left, right = 0, 0\n",
        "\n",
        "    while right < len(s):\n",
        "        freq_window[s[right]] += 1\n",
        "\n",
        "        if right - left + 1 > len(p):\n",
        "            freq_window[s[left]] -= 1\n",
        "            if freq_window[s[left]] == 0:\n",
        "                del freq_window[s[left]]\n",
        "            left += 1\n",
        "\n",
        "        if freq_window == freq_p:\n",
        "            result.append(left)\n",
        "\n",
        "        right += 1\n",
        "\n",
        "    return result\n",
        "\n",
        "indices = findAnagrams(s, p)\n",
        "print(indices)  # Output: list of start indices of p's anagrams in s\n"
      ],
      "metadata": {
        "colab": {
          "base_uri": "https://localhost:8080/"
        },
        "id": "cvNiKocDZIg4",
        "outputId": "7dcd7931-e86e-4a01-bde0-cdf78c268c27"
      },
      "execution_count": 6,
      "outputs": [
        {
          "output_type": "stream",
          "name": "stdout",
          "text": [
            "[0, 6]\n"
          ]
        }
      ]
    },
    {
      "cell_type": "markdown",
      "source": [
        "Answer No.7 :-"
      ],
      "metadata": {
        "id": "Uvxt4ed5ZS7A"
      }
    },
    {
      "cell_type": "code",
      "source": [
        "s = \"3[a2[c]]\"\n",
        "def decodeString(s):\n",
        "    stack = []\n",
        "    curr_str = \"\"\n",
        "    curr_num = 0\n",
        "\n",
        "    for char in s:\n",
        "        if char.isdigit():\n",
        "            curr_num = curr_num * 10 + int(char)\n",
        "        elif char == '[':\n",
        "            stack.append(curr_str)\n",
        "            stack.append(curr_num)\n",
        "            curr_str = \"\"\n",
        "            curr_num = 0\n",
        "        elif char == ']':\n",
        "            num = stack.pop()\n",
        "            prev_str = stack.pop()\n",
        "            curr_str = prev_str + num * curr_str\n",
        "        else:\n",
        "            curr_str += char\n",
        "\n",
        "    return \"\".join(stack) + curr_str\n",
        "\n",
        "decoded_string = decodeString(s)\n",
        "print(decoded_string)\n"
      ],
      "metadata": {
        "colab": {
          "base_uri": "https://localhost:8080/"
        },
        "id": "PUORt8SPZH-T",
        "outputId": "0cbaf80a-883b-4caf-a354-1bc96aa3b326"
      },
      "execution_count": 7,
      "outputs": [
        {
          "output_type": "stream",
          "name": "stdout",
          "text": [
            "accaccacc\n"
          ]
        }
      ]
    },
    {
      "cell_type": "markdown",
      "source": [
        "Answer No.8 :-"
      ],
      "metadata": {
        "id": "_CvG9PUHZTU3"
      }
    },
    {
      "cell_type": "code",
      "execution_count": 8,
      "metadata": {
        "colab": {
          "base_uri": "https://localhost:8080/"
        },
        "id": "cezft39SZFpx",
        "outputId": "57b404ba-f69a-454d-f7fc-9b5fdf98f5b0"
      },
      "outputs": [
        {
          "output_type": "stream",
          "name": "stdout",
          "text": [
            "True\n"
          ]
        }
      ],
      "source": [
        "s = \"ab\"\n",
        "goal = \"ba\"\n",
        "def buddyStrings(s, goal):\n",
        "    if len(s) != len(goal):\n",
        "        return False\n",
        "\n",
        "    mismatch_indices = []\n",
        "    mismatch_chars = []\n",
        "\n",
        "    for i in range(len(s)):\n",
        "        if s[i] != goal[i]:\n",
        "            mismatch_indices.append(i)\n",
        "            mismatch_chars.append((s[i], goal[i]))\n",
        "\n",
        "    if len(mismatch_indices) == 0:\n",
        "        # Case where s and goal are already equal\n",
        "        # Check if there are any repeated characters in s\n",
        "        return len(set(s)) < len(s)\n",
        "\n",
        "    if len(mismatch_indices) == 2 and mismatch_chars[0] == mismatch_chars[1][::-1]:\n",
        "        # Case where two characters can be swapped to make s and goal equal\n",
        "        return True\n",
        "\n",
        "    return False\n",
        "\n",
        "result = buddyStrings(s, goal)\n",
        "print(result)  # Output: True\n"
      ]
    }
  ]
}