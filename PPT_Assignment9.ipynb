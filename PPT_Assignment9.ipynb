{
  "nbformat": 4,
  "nbformat_minor": 0,
  "metadata": {
    "colab": {
      "provenance": []
    },
    "kernelspec": {
      "name": "python3",
      "display_name": "Python 3"
    },
    "language_info": {
      "name": "python"
    }
  },
  "cells": [
    {
      "cell_type": "markdown",
      "source": [
        "Answer No.1 :-"
      ],
      "metadata": {
        "id": "n_3TMl3Qcuko"
      }
    },
    {
      "cell_type": "code",
      "execution_count": 1,
      "metadata": {
        "colab": {
          "base_uri": "https://localhost:8080/"
        },
        "id": "MPqi9HWhcr_Y",
        "outputId": "ceaebfb9-a7e7-47f3-bce8-f4f0203b0c4a"
      },
      "outputs": [
        {
          "output_type": "stream",
          "name": "stdout",
          "text": [
            "True\n"
          ]
        }
      ],
      "source": [
        "n = 16\n",
        "def isPowerOfTwo(n):\n",
        "    if n <= 0:\n",
        "        return False\n",
        "\n",
        "    return (n & (n - 1)) == 0\n",
        "\n",
        "result = isPowerOfTwo(n)\n",
        "print(result)  # Output: True or False\n"
      ]
    },
    {
      "cell_type": "markdown",
      "source": [
        "Answer No.2 :-"
      ],
      "metadata": {
        "id": "8hJxqXMlcvCo"
      }
    },
    {
      "cell_type": "code",
      "source": [
        "n = 10\n",
        "def sumOfNaturalNumbers(n):\n",
        "    return (n * (n + 1)) // 2\n",
        "\n",
        "result = sumOfNaturalNumbers(n)\n",
        "print(result)  # Output: Sum of the first 10 natural numbers\n"
      ],
      "metadata": {
        "colab": {
          "base_uri": "https://localhost:8080/"
        },
        "id": "FZfcVdFGct27",
        "outputId": "f3f567a0-ce15-4b11-ae09-56e2c7e90f35"
      },
      "execution_count": 2,
      "outputs": [
        {
          "output_type": "stream",
          "name": "stdout",
          "text": [
            "55\n"
          ]
        }
      ]
    },
    {
      "cell_type": "markdown",
      "source": [
        "Answer No.3 :-"
      ],
      "metadata": {
        "id": "16X40JevcvjT"
      }
    },
    {
      "cell_type": "code",
      "source": [
        "N = 5\n",
        "def factorial(N):\n",
        "    if N == 0:\n",
        "        return 1\n",
        "\n",
        "    factorial = 1\n",
        "    for i in range(1, N + 1):\n",
        "        factorial *= i\n",
        "\n",
        "    return factorial\n",
        "\n",
        "result = factorial(N)\n",
        "print(result)  # Output: Factorial of 5\n"
      ],
      "metadata": {
        "colab": {
          "base_uri": "https://localhost:8080/"
        },
        "id": "1HRP4YKpctm0",
        "outputId": "dc635044-0b0c-49e1-d7df-c8ee589acb90"
      },
      "execution_count": 3,
      "outputs": [
        {
          "output_type": "stream",
          "name": "stdout",
          "text": [
            "120\n"
          ]
        }
      ]
    },
    {
      "cell_type": "markdown",
      "source": [
        "Answer No.4 :-"
      ],
      "metadata": {
        "id": "TozxoUMXcv4u"
      }
    },
    {
      "cell_type": "code",
      "source": [
        "N = 2\n",
        "P = 3\n",
        "def exponent(N, P):\n",
        "    result = N ** P\n",
        "    return result\n",
        "\n",
        "result = exponent(N, P)\n",
        "print(result)  # Output: Exponent of 2 raised to the power 3\n"
      ],
      "metadata": {
        "colab": {
          "base_uri": "https://localhost:8080/"
        },
        "id": "c8dZ8sD-ctYg",
        "outputId": "0f272db7-c07e-4d2f-bf2c-6c85b151f96c"
      },
      "execution_count": 4,
      "outputs": [
        {
          "output_type": "stream",
          "name": "stdout",
          "text": [
            "8\n"
          ]
        }
      ]
    },
    {
      "cell_type": "markdown",
      "source": [
        "Answer No.5 :-"
      ],
      "metadata": {
        "id": "YKPrb2aUcwQV"
      }
    },
    {
      "cell_type": "code",
      "source": [
        "arr = [4, 7, 2, 9, 5, 1, 6]\n",
        "def findMax(arr, start, end):\n",
        "    if start == end:\n",
        "        return arr[start]\n",
        "\n",
        "    mid = (start + end) // 2\n",
        "    max_left = findMax(arr, start, mid)\n",
        "    max_right = findMax(arr, mid + 1, end)\n",
        "\n",
        "    return max(max_left, max_right)\n",
        "\n",
        "result = findMax(arr, 0, len(arr) - 1)\n",
        "print(result)  # Output: Maximum element of the array\n"
      ],
      "metadata": {
        "colab": {
          "base_uri": "https://localhost:8080/"
        },
        "id": "mWcX9HM8ctMR",
        "outputId": "eb1965b4-d264-485a-f5f7-6b8514989373"
      },
      "execution_count": 5,
      "outputs": [
        {
          "output_type": "stream",
          "name": "stdout",
          "text": [
            "9\n"
          ]
        }
      ]
    },
    {
      "cell_type": "markdown",
      "source": [
        "\n",
        "Answer No.6 :-"
      ],
      "metadata": {
        "id": "yeDrFIM_cxAP"
      }
    },
    {
      "cell_type": "code",
      "source": [
        "a = 3\n",
        "d = 5\n",
        "N = 7\n",
        "def nthTermOfAP(a, d, N):\n",
        "    nthTerm = a + (N - 1) * d\n",
        "    return nthTerm\n",
        "\n",
        "result = nthTermOfAP(a, d, N)\n",
        "print(result)  # Output: Nth term of the AP series\n"
      ],
      "metadata": {
        "colab": {
          "base_uri": "https://localhost:8080/"
        },
        "id": "l52D-LDncs_g",
        "outputId": "7ee3f0b0-6bc8-4414-d105-285c9c6fcbe7"
      },
      "execution_count": 6,
      "outputs": [
        {
          "output_type": "stream",
          "name": "stdout",
          "text": [
            "33\n"
          ]
        }
      ]
    },
    {
      "cell_type": "markdown",
      "source": [
        "Answer No.7 :-"
      ],
      "metadata": {
        "id": "gGUUR_spcxb6"
      }
    },
    {
      "cell_type": "code",
      "source": [
        "\n",
        "def permuteUtil(current, remaining, permutations):\n",
        "    if len(remaining) == 0:\n",
        "        permutations.append(current)\n",
        "        return\n",
        "\n",
        "    for i in range(len(remaining)):\n",
        "        char = remaining[i]\n",
        "        new_current = current + char\n",
        "        new_remaining = remaining[:i] + remaining[i+1:]\n",
        "        permuteUtil(new_current, new_remaining, permutations)\n",
        "\n",
        "S = \"abc\"\n",
        "def permutations(S):\n",
        "    result = []\n",
        "    permuteUtil(\"\", S, result)\n",
        "    return result\n",
        "\n",
        "result = permutations(S)\n",
        "print(result)  # Output: List of all permutations of \"abc\"\n"
      ],
      "metadata": {
        "colab": {
          "base_uri": "https://localhost:8080/"
        },
        "id": "FF_Ha_6Gcsz8",
        "outputId": "d7216ee1-7a9f-4d37-a3a6-21581b6b9bf6"
      },
      "execution_count": 7,
      "outputs": [
        {
          "output_type": "stream",
          "name": "stdout",
          "text": [
            "['abc', 'acb', 'bac', 'bca', 'cab', 'cba']\n"
          ]
        }
      ]
    },
    {
      "cell_type": "markdown",
      "source": [
        "Answer No.8 :-"
      ],
      "metadata": {
        "id": "UQENFeNIcxzY"
      }
    },
    {
      "cell_type": "code",
      "source": [
        "arr = [2, 3, 4, 5]\n",
        "def productOfArray(arr):\n",
        "    product = 1\n",
        "    for num in arr:\n",
        "        product *= num\n",
        "    return product\n",
        "\n",
        "result = productOfArray(arr)\n",
        "print(result)  # Output: Product of all elements in the array\n"
      ],
      "metadata": {
        "colab": {
          "base_uri": "https://localhost:8080/"
        },
        "id": "vd-qFNJfcsnY",
        "outputId": "33540a98-d207-4ea1-8e92-9d8c556f99b0"
      },
      "execution_count": 8,
      "outputs": [
        {
          "output_type": "stream",
          "name": "stdout",
          "text": [
            "120\n"
          ]
        }
      ]
    }
  ]
}