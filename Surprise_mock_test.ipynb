{
  "nbformat": 4,
  "nbformat_minor": 0,
  "metadata": {
    "colab": {
      "provenance": []
    },
    "kernelspec": {
      "name": "python3",
      "display_name": "Python 3"
    },
    "language_info": {
      "name": "python"
    }
  },
  "cells": [
    {
      "cell_type": "markdown",
      "source": [
        "Answer no.1 \n"
      ],
      "metadata": {
        "id": "2j0PsIbi_gH9"
      }
    },
    {
      "cell_type": "code",
      "execution_count": 1,
      "metadata": {
        "colab": {
          "base_uri": "https://localhost:8080/"
        },
        "id": "bk0WXUm3_aEz",
        "outputId": "3773223e-ec29-4dd7-cb6b-793ebe2dacc1"
      },
      "outputs": [
        {
          "output_type": "stream",
          "name": "stdout",
          "text": [
            "Modified Array: [1, 3, 12, 0, 0]\n"
          ]
        }
      ],
      "source": [
        "nums = [0, 1, 0, 3, 12]\n",
        "def moveZeros(nums):\n",
        "    left = 0\n",
        "    right = 0\n",
        "\n",
        "    while right < len(nums):\n",
        "        if nums[left] == 0 and nums[right] != 0:\n",
        "            nums[left], nums[right] = nums[right], nums[left]\n",
        "        if nums[left] != 0:\n",
        "            left += 1\n",
        "        right += 1\n",
        "\n",
        "moveZeros(nums)\n",
        "print(\"Modified Array:\", nums)\n"
      ]
    },
    {
      "cell_type": "markdown",
      "source": [
        "Answer no.2 :-"
      ],
      "metadata": {
        "id": "EvzrODKw_tgu"
      }
    },
    {
      "cell_type": "code",
      "source": [
        "s = \"leetcode\"\n",
        "def firstUniqChar(s):\n",
        "    # Step 1\n",
        "    freq = {}\n",
        "\n",
        "    # Step 2\n",
        "    for char in s:\n",
        "        freq[char] = freq.get(char, 0) + 1\n",
        "\n",
        "    # Step 3\n",
        "    for i in range(len(s)):\n",
        "        if freq[s[i]] == 1:\n",
        "            return i\n",
        "\n",
        "    # Step 4\n",
        "    return -1\n",
        "\n",
        "print(\"First non-repeating character index:\", firstUniqChar(s))\n"
      ],
      "metadata": {
        "colab": {
          "base_uri": "https://localhost:8080/"
        },
        "id": "w9LwfNn6_wO_",
        "outputId": "6019c6cb-b696-4226-dfff-30fcf4e5c7f0"
      },
      "execution_count": 2,
      "outputs": [
        {
          "output_type": "stream",
          "name": "stdout",
          "text": [
            "First non-repeating character index: 0\n"
          ]
        }
      ]
    }
  ]
}